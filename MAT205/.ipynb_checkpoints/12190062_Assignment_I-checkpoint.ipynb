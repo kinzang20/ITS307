{
 "cells": [
  {
   "cell_type": "markdown",
   "metadata": {
    "id": "MRpRjtUB4tHj"
   },
   "source": [
    "<h2 align = 'center'><b>Gyalpozhing College of Information Technology</b></h2>\n",
    "<h2 align = 'center'><b>B.Sc. Information Technology</b></h2>\n",
    "<h3 align = 'center'><b>MAT205</b> : Statistics and Probability Theory</h3>\n",
    "<h3 align = 'center'>Assignment - <b>I</b></h3>\n",
    "\n",
    "\n",
    "---\n",
    "\n"
   ]
  },
  {
   "cell_type": "markdown",
   "metadata": {
    "id": "rPP4PgfF7bzA"
   },
   "source": [
    "**Name: Kinzang Wa**\n",
    "\n",
    "**Enrollment Number: 12190043**"
   ]
  },
  {
   "cell_type": "markdown",
   "metadata": {
    "id": "a65QVrai7fEn"
   },
   "source": [
    "**Direction:** Answer the following questions using Python programming in the cells provided below and submit the colab file(.ipynb) using the submission link provided in VLE(moodle) on or before **October 13th, 2022**. Include your name and enrollment number as well in the cell above. \n",
    "\n",
    "\n",
    "---\n",
    "\n"
   ]
  },
  {
   "cell_type": "markdown",
   "metadata": {
    "id": "_gAhnJ1o9fRx"
   },
   "source": [
    "**Q1.** To visualize the data below, create a pie chart with proper levels.                      \n",
    "\n",
    "\\begin{array}{|c|c|} \\hline\n",
    "\\textbf{Cost of construction} & \\textbf{Amount spent in USD}& \\textbf{Percentages} \\\\ \\hline\n",
    "\\text{Labor} & 60000 & 20 \\\\ \\hline\n",
    "\\text{Timber} & 18000 & 6 \\\\ \\hline\n",
    "\\text{Electrical works} & 18000 & 6 \\\\ \\hline\n",
    "\\text{Supervison} & 90000 & 30\\\\ \\hline\n",
    "\\text{Steel} & 30000 & 10\\\\ \\hline\n",
    "\\text{Bricks} & 30000 & 10\\\\ \\hline\n",
    "\\text{Cement} & 27000 & 9\\\\ \\hline\n",
    "\\text{Design} & 15000 & 5\\\\ \\hline\n",
    "\\text{Other} & 12000 & 4\\\\ \\hline\n",
    "\\end{array}"
   ]
  },
  {
   "cell_type": "code",
   "execution_count": 1,
   "metadata": {
    "id": "gXpAYiM_6j14"
   },
   "outputs": [
    {
     "data": {
      "image/png": "[encoded data removed]",
      "text/plain": [
       "<Figure size 648x432 with 1 Axes>"
      ]
     },
     "metadata": {},
     "output_type": "display_data"
    }
   ],
   "source": [
    "# Importing libraries\n",
    "from matplotlib import pyplot as plt\n",
    "import numpy as np\n",
    "\n",
    "# Creating datasets\n",
    "cost = ['Labor', 'Timber', 'Electrical works', 'Supervision', 'Steel', 'Bricks', 'Cement', 'Design', 'Other']\n",
    "\n",
    "amount = [60000, 18000, 18000, 90000, 30000, 30000, 27000, 15000, 12000]\n",
    "\n",
    "# Creating plot\n",
    "fig = plt.figure(figsize =(9, 6))\n",
    "plt.pie(amount, labels = cost,autopct='%1.1f%%')\n",
    "\n",
    "plt.show()"
   ]
  },
  {
   "cell_type": "markdown",
   "metadata": {
    "id": "IgEDGutfE4yj"
   },
   "source": [
    "**Q2.** Determine the mean, geometric mean, harmonic mean, median, and mode for the following data: $1,2,2,3,4,5,6,7,8,9,10,11$."
   ]
  },
  {
   "cell_type": "code",
   "execution_count": 2,
   "metadata": {
    "id": "rgxF6_QlGhAX"
   },
   "outputs": [
    {
     "name": "stdout",
     "output_type": "stream",
     "text": [
      "The mean of given data is:  5.666666666666667\n",
      "The geometric mean of given data is:  4.555284186922564\n",
      "The harmonic mean of given data is:  3.409209703702945\n"
     ]
    }
   ],
   "source": [
    "#Importing Libraries\n",
    "import statistics as stat\n",
    "from scipy import stats\n",
    "\n",
    "#Mean\n",
    "print('The mean of given data is: ', stat.mean([1,2,2,3,4,5,6,7,8,9,10,11]))\n",
    "\n",
    "#Geometric Mean\n",
    "print('The geometric mean of given data is: ', stats.gmean([1,2,2,3,4,5,6,7,8,9,10,11]))\n",
    "\n",
    "#Harmonic Mean\n",
    "print('The harmonic mean of given data is: ', stats.hmean([1,2,2,3,4,5,6,7,8,9,10,11]))"
   ]
  },
  {
   "cell_type": "code",
   "execution_count": 4,
   "metadata": {},
   "outputs": [
    {
     "name": "stdout",
     "output_type": "stream",
     "text": [
      "The median of given data is:  5.5\n",
      "The mode of given data is:  2\n"
     ]
    }
   ],
   "source": [
    "#Median\n",
    "print('The median of given data is: ', stat.median([1,2,2,3,4,5,6,7,8,9,10,11]))\n",
    "\n",
    "#Mode\n",
    "print('The mode of given data is: ', stat.mode([1,2,2,3,4,5,6,7,8,9,10,11]))"
   ]
  },
  {
   "cell_type": "markdown",
   "metadata": {
    "id": "_-fYlonsGxNF"
   },
   "source": [
    "**Q3.** Load the **'taxis'** dataset from Seaborn library and answer the following questions."
   ]
  },
  {
   "cell_type": "code",
   "execution_count": 5,
   "metadata": {
    "id": "uaDgMaHuHun3"
   },
   "outputs": [
    {
     "data": {
      "text/html": [
       "<div>\n",
       "<style scoped>\n",
       "    .dataframe tbody tr th:only-of-type {\n",
       "        vertical-align: middle;\n",
       "    }\n",
       "\n",
       "    .dataframe tbody tr th {\n",
       "        vertical-align: top;\n",
       "    }\n",
       "\n",
       "    .dataframe thead th {\n",
       "        text-align: right;\n",
       "    }\n",
       "</style>\n",
       "<table border=\"1\" class=\"dataframe\">\n",
       "  <thead>\n",
       "    <tr style=\"text-align: right;\">\n",
       "      <th></th>\n",
       "      <th>pickup</th>\n",
       "      <th>dropoff</th>\n",
       "      <th>passengers</th>\n",
       "      <th>distance</th>\n",
       "      <th>fare</th>\n",
       "      <th>tip</th>\n",
       "      <th>tolls</th>\n",
       "      <th>total</th>\n",
       "      <th>color</th>\n",
       "      <th>payment</th>\n",
       "      <th>pickup_zone</th>\n",
       "      <th>dropoff_zone</th>\n",
       "      <th>pickup_borough</th>\n",
       "      <th>dropoff_borough</th>\n",
       "    </tr>\n",
       "  </thead>\n",
       "  <tbody>\n",
       "    <tr>\n",
       "      <th>0</th>\n",
       "      <td>2019-03-23 20:21:09</td>\n",
       "      <td>2019-03-23 20:27:24</td>\n",
       "      <td>1</td>\n",
       "      <td>1.60</td>\n",
       "      <td>7.0</td>\n",
       "      <td>2.15</td>\n",
       "      <td>0.0</td>\n",
       "      <td>12.95</td>\n",
       "      <td>yellow</td>\n",
       "      <td>credit card</td>\n",
       "      <td>Lenox Hill West</td>\n",
       "      <td>UN/Turtle Bay South</td>\n",
       "      <td>Manhattan</td>\n",
       "      <td>Manhattan</td>\n",
       "    </tr>\n",
       "    <tr>\n",
       "      <th>1</th>\n",
       "      <td>2019-03-04 16:11:55</td>\n",
       "      <td>2019-03-04 16:19:00</td>\n",
       "      <td>1</td>\n",
       "      <td>0.79</td>\n",
       "      <td>5.0</td>\n",
       "      <td>0.00</td>\n",
       "      <td>0.0</td>\n",
       "      <td>9.30</td>\n",
       "      <td>yellow</td>\n",
       "      <td>cash</td>\n",
       "      <td>Upper West Side South</td>\n",
       "      <td>Upper West Side South</td>\n",
       "      <td>Manhattan</td>\n",
       "      <td>Manhattan</td>\n",
       "    </tr>\n",
       "    <tr>\n",
       "      <th>2</th>\n",
       "      <td>2019-03-27 17:53:01</td>\n",
       "      <td>2019-03-27 18:00:25</td>\n",
       "      <td>1</td>\n",
       "      <td>1.37</td>\n",
       "      <td>7.5</td>\n",
       "      <td>2.36</td>\n",
       "      <td>0.0</td>\n",
       "      <td>14.16</td>\n",
       "      <td>yellow</td>\n",
       "      <td>credit card</td>\n",
       "      <td>Alphabet City</td>\n",
       "      <td>West Village</td>\n",
       "      <td>Manhattan</td>\n",
       "      <td>Manhattan</td>\n",
       "    </tr>\n",
       "    <tr>\n",
       "      <th>3</th>\n",
       "      <td>2019-03-10 01:23:59</td>\n",
       "      <td>2019-03-10 01:49:51</td>\n",
       "      <td>1</td>\n",
       "      <td>7.70</td>\n",
       "      <td>27.0</td>\n",
       "      <td>6.15</td>\n",
       "      <td>0.0</td>\n",
       "      <td>36.95</td>\n",
       "      <td>yellow</td>\n",
       "      <td>credit card</td>\n",
       "      <td>Hudson Sq</td>\n",
       "      <td>Yorkville West</td>\n",
       "      <td>Manhattan</td>\n",
       "      <td>Manhattan</td>\n",
       "    </tr>\n",
       "    <tr>\n",
       "      <th>4</th>\n",
       "      <td>2019-03-30 13:27:42</td>\n",
       "      <td>2019-03-30 13:37:14</td>\n",
       "      <td>3</td>\n",
       "      <td>2.16</td>\n",
       "      <td>9.0</td>\n",
       "      <td>1.10</td>\n",
       "      <td>0.0</td>\n",
       "      <td>13.40</td>\n",
       "      <td>yellow</td>\n",
       "      <td>credit card</td>\n",
       "      <td>Midtown East</td>\n",
       "      <td>Yorkville West</td>\n",
       "      <td>Manhattan</td>\n",
       "      <td>Manhattan</td>\n",
       "    </tr>\n",
       "  </tbody>\n",
       "</table>\n",
       "</div>"
      ],
      "text/plain": [
       "                pickup              dropoff  passengers  distance  fare   tip  \\\n",
       "0  2019-03-23 20:21:09  2019-03-23 20:27:24           1      1.60   7.0  2.15   \n",
       "1  2019-03-04 16:11:55  2019-03-04 16:19:00           1      0.79   5.0  0.00   \n",
       "2  2019-03-27 17:53:01  2019-03-27 18:00:25           1      1.37   7.5  2.36   \n",
       "3  2019-03-10 01:23:59  2019-03-10 01:49:51           1      7.70  27.0  6.15   \n",
       "4  2019-03-30 13:27:42  2019-03-30 13:37:14           3      2.16   9.0  1.10   \n",
       "\n",
       "   tolls  total   color      payment            pickup_zone  \\\n",
       "0    0.0  12.95  yellow  credit card        Lenox Hill West   \n",
       "1    0.0   9.30  yellow         cash  Upper West Side South   \n",
       "2    0.0  14.16  yellow  credit card          Alphabet City   \n",
       "3    0.0  36.95  yellow  credit card              Hudson Sq   \n",
       "4    0.0  13.40  yellow  credit card           Midtown East   \n",
       "\n",
       "            dropoff_zone pickup_borough dropoff_borough  \n",
       "0    UN/Turtle Bay South      Manhattan       Manhattan  \n",
       "1  Upper West Side South      Manhattan       Manhattan  \n",
       "2           West Village      Manhattan       Manhattan  \n",
       "3         Yorkville West      Manhattan       Manhattan  \n",
       "4         Yorkville West      Manhattan       Manhattan  "
      ]
     },
     "execution_count": 5,
     "metadata": {},
     "output_type": "execute_result"
    }
   ],
   "source": [
    "#Importing Libraries\n",
    "import pandas as pd\n",
    "import seaborn as sns\n",
    "\n",
    "#Loading dataset\n",
    "df=sns.load_dataset('taxis')\n",
    "df.head(5)"
   ]
  },
  {
   "cell_type": "markdown",
   "metadata": {},
   "source": [
    "**a)** Find the variance and standard deviation of the \n",
    "**'distance'** column and explain the output."
   ]
  },
  {
   "cell_type": "code",
   "execution_count": 6,
   "metadata": {},
   "outputs": [
    {
     "name": "stdout",
     "output_type": "stream",
     "text": [
      "The variance of distance column is:  14.652565777434717\n",
      "The standard deviation of distance column is:  3.8278670010117537\n"
     ]
    }
   ],
   "source": [
    "#Variance\n",
    "print(\"The variance of distance column is: \", df.distance.var())\n",
    "\n",
    "#Standard Devaition\n",
    "print(\"The standard deviation of distance column is: \", df.distance.std())"
   ]
  },
  {
   "cell_type": "markdown",
   "metadata": {},
   "source": [
    "Variance measures the average of the squared differences from the mean. It shows how far each number in the set is from the mean (average), and thus from every other number in the set. Therefore, from the ouput we can see that varaince for distance column is 14.6 which indicates that the values are close to the mean."
   ]
  },
  {
   "cell_type": "markdown",
   "metadata": {},
   "source": [
    "Standard deviation measures, on average, how far each value lies from the mean. A high standard deviation means that values are generally far from the mean, while a low standard deviation indicates that values are clustered close to the mean. Therefore, we can see that the standard deviation for distance column is 3.8 which indicates that the values are clustered close to the mean."
   ]
  },
  {
   "cell_type": "markdown",
   "metadata": {},
   "source": [
    "**b)** Find the range, quartiles and quartile deviation of the **'passengers'** and **'fare'** columns, and then plot a boxplot to validate your results."
   ]
  },
  {
   "cell_type": "code",
   "execution_count": 6,
   "metadata": {},
   "outputs": [
    {
     "name": "stdout",
     "output_type": "stream",
     "text": [
      "The range of passengers column is:  6\n",
      "The range of fare column is:  149.0\n"
     ]
    }
   ],
   "source": [
    "#Range\n",
    "range_passengers = df.passengers.max() - df.passengers.min()\n",
    "print(\"The range of passengers column is: \", range_passengers)\n",
    "\n",
    "range_fare = df.fare.max() - df.fare.min()\n",
    "print(\"The range of fare column is: \", range_fare)\n"
   ]
  },
  {
   "cell_type": "code",
   "execution_count": 7,
   "metadata": {},
   "outputs": [
    {
     "name": "stdout",
     "output_type": "stream",
     "text": [
      "The value of first quartile for passengers column is:  1.0\n",
      "The value of second quartile for passengers column is:  1.0\n",
      "The value of third quartile for passengers column is:  2.0\n",
      "The value of inter quartile range for passengers column is:  1.0\n",
      "The value of quartile deviation for passengers column is:  0.5\n"
     ]
    }
   ],
   "source": [
    "#Quartiles for Passenger Column\n",
    "q1_pass = df.passengers.quantile(0.25)\n",
    "q2_pass = df.passengers.quantile(0.50)\n",
    "q3_pass = df.passengers.quantile(0.75)\n",
    "iqr_pass = q3_pass - q1_pass\n",
    "qd_pass = iqr_pass/2\n",
    "\n",
    "print(\"The value of first quartile for passengers column is: \", q1_pass)\n",
    "print(\"The value of second quartile for passengers column is: \", q2_pass)\n",
    "print(\"The value of third quartile for passengers column is: \", q3_pass)\n",
    "print(\"The value of inter quartile range for passengers column is: \", iqr_pass)\n",
    "print(\"The value of quartile deviation for passengers column is: \", qd_pass)\n"
   ]
  },
  {
   "cell_type": "code",
   "execution_count": 8,
   "metadata": {},
   "outputs": [
    {
     "data": {
      "image/png": "[encoded data removed]",
      "text/plain": [
       "<Figure size 432x288 with 1 Axes>"
      ]
     },
     "metadata": {
      "needs_background": "light"
     },
     "output_type": "display_data"
    }
   ],
   "source": [
    "## ploting boxplot\n",
    "sns.boxplot(x=df['passengers'])\n",
    "plt.show()"
   ]
  },
  {
   "cell_type": "code",
   "execution_count": 9,
   "metadata": {},
   "outputs": [
    {
     "name": "stdout",
     "output_type": "stream",
     "text": [
      "The value of first quartile for fare column is:  6.5\n",
      "The value of second quartile for fare column is:  9.5\n",
      "The value of third quartile for fare column is:  15.0\n",
      "The value of inter quartile range for fare column is:  8.5\n",
      "The value of quartile deviation for fare column is:  4.25\n"
     ]
    }
   ],
   "source": [
    "#Quartiles for fare Column\n",
    "q1_fare = df.fare.quantile(0.25)\n",
    "q2_fare = df.fare.quantile(0.50)\n",
    "q3_fare = df.fare.quantile(0.75)\n",
    "iqr_fare = q3_fare - q1_fare\n",
    "qd_fare = iqr_fare/2\n",
    "\n",
    "print(\"The value of first quartile for fare column is: \", q1_fare)\n",
    "print(\"The value of second quartile for fare column is: \", q2_fare)\n",
    "print(\"The value of third quartile for fare column is: \", q3_fare)\n",
    "print(\"The value of inter quartile range for fare column is: \", iqr_fare)\n",
    "print(\"The value of quartile deviation for fare column is: \", qd_fare)"
   ]
  },
  {
   "cell_type": "code",
   "execution_count": 10,
   "metadata": {},
   "outputs": [
    {
     "data": {
      "image/png": "[encoded data removed]",
      "text/plain": [
       "<Figure size 432x288 with 1 Axes>"
      ]
     },
     "metadata": {
      "needs_background": "light"
     },
     "output_type": "display_data"
    }
   ],
   "source": [
    "## ploting boxplot\n",
    "sns.boxplot(x=df['fare'])\n",
    "plt.show()"
   ]
  },
  {
   "cell_type": "markdown",
   "metadata": {},
   "source": [
    "\n",
    "**c)** Find the value of the correlation coefficient and covariance of the **'distance'** and **'fare'** columns and interpret the results."
   ]
  },
  {
   "cell_type": "code",
   "execution_count": 11,
   "metadata": {},
   "outputs": [
    {
     "data": {
      "text/html": [
       "<div>\n",
       "<style scoped>\n",
       "    .dataframe tbody tr th:only-of-type {\n",
       "        vertical-align: middle;\n",
       "    }\n",
       "\n",
       "    .dataframe tbody tr th {\n",
       "        vertical-align: top;\n",
       "    }\n",
       "\n",
       "    .dataframe thead th {\n",
       "        text-align: right;\n",
       "    }\n",
       "</style>\n",
       "<table border=\"1\" class=\"dataframe\">\n",
       "  <thead>\n",
       "    <tr style=\"text-align: right;\">\n",
       "      <th></th>\n",
       "      <th>distance</th>\n",
       "      <th>fare</th>\n",
       "    </tr>\n",
       "  </thead>\n",
       "  <tbody>\n",
       "    <tr>\n",
       "      <th>0</th>\n",
       "      <td>1.60</td>\n",
       "      <td>7.0</td>\n",
       "    </tr>\n",
       "    <tr>\n",
       "      <th>1</th>\n",
       "      <td>0.79</td>\n",
       "      <td>5.0</td>\n",
       "    </tr>\n",
       "    <tr>\n",
       "      <th>2</th>\n",
       "      <td>1.37</td>\n",
       "      <td>7.5</td>\n",
       "    </tr>\n",
       "    <tr>\n",
       "      <th>3</th>\n",
       "      <td>7.70</td>\n",
       "      <td>27.0</td>\n",
       "    </tr>\n",
       "    <tr>\n",
       "      <th>4</th>\n",
       "      <td>2.16</td>\n",
       "      <td>9.0</td>\n",
       "    </tr>\n",
       "  </tbody>\n",
       "</table>\n",
       "</div>"
      ],
      "text/plain": [
       "   distance  fare\n",
       "0      1.60   7.0\n",
       "1      0.79   5.0\n",
       "2      1.37   7.5\n",
       "3      7.70  27.0\n",
       "4      2.16   9.0"
      ]
     },
     "execution_count": 11,
     "metadata": {},
     "output_type": "execute_result"
    }
   ],
   "source": [
    "df1 = df[['distance', 'fare']]\n",
    "df1.head()"
   ]
  },
  {
   "cell_type": "code",
   "execution_count": 19,
   "metadata": {},
   "outputs": [
    {
     "data": {
      "text/plain": [
       "array([[1.       , 0.9201077],\n",
       "       [0.9201077, 1.       ]])"
      ]
     },
     "execution_count": 19,
     "metadata": {},
     "output_type": "execute_result"
    }
   ],
   "source": [
    "#Correlation Coefficient\n",
    "np.corrcoef(df1.distance, df1.fare)"
   ]
  },
  {
   "cell_type": "markdown",
   "metadata": {},
   "source": [
    "The correlation coefficient is a statistical measure of the strength of a linear relationship between two variables. The output gives the result of 0.92 which indicates strong positive correlation between distance and fare columns."
   ]
  },
  {
   "cell_type": "code",
   "execution_count": 20,
   "metadata": {},
   "outputs": [
    {
     "data": {
      "text/html": [
       "<div>\n",
       "<style scoped>\n",
       "    .dataframe tbody tr th:only-of-type {\n",
       "        vertical-align: middle;\n",
       "    }\n",
       "\n",
       "    .dataframe tbody tr th {\n",
       "        vertical-align: top;\n",
       "    }\n",
       "\n",
       "    .dataframe thead th {\n",
       "        text-align: right;\n",
       "    }\n",
       "</style>\n",
       "<table border=\"1\" class=\"dataframe\">\n",
       "  <thead>\n",
       "    <tr style=\"text-align: right;\">\n",
       "      <th></th>\n",
       "      <th>distance</th>\n",
       "      <th>fare</th>\n",
       "    </tr>\n",
       "  </thead>\n",
       "  <tbody>\n",
       "    <tr>\n",
       "      <th>distance</th>\n",
       "      <td>14.652566</td>\n",
       "      <td>40.686031</td>\n",
       "    </tr>\n",
       "    <tr>\n",
       "      <th>fare</th>\n",
       "      <td>40.686031</td>\n",
       "      <td>133.444182</td>\n",
       "    </tr>\n",
       "  </tbody>\n",
       "</table>\n",
       "</div>"
      ],
      "text/plain": [
       "           distance        fare\n",
       "distance  14.652566   40.686031\n",
       "fare      40.686031  133.444182"
      ]
     },
     "execution_count": 20,
     "metadata": {},
     "output_type": "execute_result"
    }
   ],
   "source": [
    "#Covariance\n",
    "df1.cov()"
   ]
  },
  {
   "cell_type": "markdown",
   "metadata": {},
   "source": [
    "Covariance is a measure of how much two random variables vary together. The ouput gives positive values which indicates that the distance and fare column moves in the same direction. Which means that if one column increases, the other column also increases and vice versa."
   ]
  },
  {
   "cell_type": "markdown",
   "metadata": {
    "id": "dZJTnZKXmYFG"
   },
   "source": [
    "**Q4.** The annual salaries of employees in a large company are approximately normally distributed with a mean of $\\$50,000$ and a standard deviation of $\\$20,000$.\n"
   ]
  },
  {
   "cell_type": "code",
   "execution_count": 23,
   "metadata": {},
   "outputs": [],
   "source": [
    "m = 50000\n",
    "sd = 20000"
   ]
  },
  {
   "cell_type": "markdown",
   "metadata": {
    "id": "TEbDsIq5iNaM"
   },
   "source": [
    "**a)** What percent of people earn less than $\\$40,000?$\n"
   ]
  },
  {
   "cell_type": "code",
   "execution_count": null,
   "metadata": {},
   "outputs": [],
   "source": [
    "# For given X\n",
    "Z = (X - m)/\n",
    "\n"
   ]
  },
  {
   "cell_type": "markdown",
   "metadata": {},
   "source": [
    "**b)** What percent of people earn between $\\$45,000$ and $\\$65,000?$\n"
   ]
  },
  {
   "cell_type": "markdown",
   "metadata": {},
   "source": [
    "**c)** What percent of people earn more than $\\$70,000?$"
   ]
  },
  {
   "cell_type": "markdown",
   "metadata": {
    "id": "mSdfbero1D7I"
   },
   "source": [
    "**Q5.** Using the moment generating function, calculate the variance of a binomial random variable."
   ]
  },
  {
   "cell_type": "code",
   "execution_count": null,
   "metadata": {
    "id": "CjlZ4vh8iQ6v"
   },
   "outputs": [],
   "source": []
  },
  {
   "cell_type": "markdown",
   "metadata": {
    "id": "f4mDPVtkDc5n"
   },
   "source": [
    "**Q6.** Fit a straight line to the data points in the table below. Create a dataframe with the `pandas` library. Calculate the mean squared error, root mean squared error, and the r-squared score.\n",
    "\n",
    "\\begin{array}{|c|c|} \\hline\n",
    "\\text{Weight of father(X)} & 69 & 63 & 66 & 64 & 67 & 64 & 70 & 66 & 68 & 67 & 65 & 71\\\\ \\hline\n",
    "\\text{Weight of son(Y)} & 70 & 65 & 68 & 65 & 69 & 66 & 68 & 65 & 71 & 67 & 64 & 72\\\\\\hline\n",
    "\\end{array}"
   ]
  },
  {
   "cell_type": "code",
   "execution_count": 14,
   "metadata": {
    "id": "O-4nosurJPHO"
   },
   "outputs": [
    {
     "data": {
      "text/html": [
       "<div>\n",
       "<style scoped>\n",
       "    .dataframe tbody tr th:only-of-type {\n",
       "        vertical-align: middle;\n",
       "    }\n",
       "\n",
       "    .dataframe tbody tr th {\n",
       "        vertical-align: top;\n",
       "    }\n",
       "\n",
       "    .dataframe thead th {\n",
       "        text-align: right;\n",
       "    }\n",
       "</style>\n",
       "<table border=\"1\" class=\"dataframe\">\n",
       "  <thead>\n",
       "    <tr style=\"text-align: right;\">\n",
       "      <th></th>\n",
       "      <th>Weight of father(X)</th>\n",
       "      <th>Weight of son(Y)</th>\n",
       "    </tr>\n",
       "  </thead>\n",
       "  <tbody>\n",
       "    <tr>\n",
       "      <th>0</th>\n",
       "      <td>69</td>\n",
       "      <td>70</td>\n",
       "    </tr>\n",
       "    <tr>\n",
       "      <th>1</th>\n",
       "      <td>63</td>\n",
       "      <td>65</td>\n",
       "    </tr>\n",
       "    <tr>\n",
       "      <th>2</th>\n",
       "      <td>66</td>\n",
       "      <td>68</td>\n",
       "    </tr>\n",
       "    <tr>\n",
       "      <th>3</th>\n",
       "      <td>64</td>\n",
       "      <td>65</td>\n",
       "    </tr>\n",
       "    <tr>\n",
       "      <th>4</th>\n",
       "      <td>67</td>\n",
       "      <td>69</td>\n",
       "    </tr>\n",
       "  </tbody>\n",
       "</table>\n",
       "</div>"
      ],
      "text/plain": [
       "   Weight of father(X)  Weight of son(Y)\n",
       "0                   69                70\n",
       "1                   63                65\n",
       "2                   66                68\n",
       "3                   64                65\n",
       "4                   67                69"
      ]
     },
     "execution_count": 14,
     "metadata": {},
     "output_type": "execute_result"
    }
   ],
   "source": [
    "#Creating a DataFrame\n",
    "data = {'Weight of father(X)':[69, 63, 66, 64, 67, 64, 70, 66, 68, 67, 65, 71],\n",
    "        \n",
    "   'Weight of son(Y)':[70,65,68,65,69,66,68,65,71,67,64,72]}\n",
    " \n",
    "df2 = pd.DataFrame(data)\n",
    "df2.head()"
   ]
  },
  {
   "cell_type": "code",
   "execution_count": 15,
   "metadata": {},
   "outputs": [
    {
     "name": "stdout",
     "output_type": "stream",
     "text": [
      "The Mean Squared Error is:  2.8333333333333335\n",
      "The Root Mean Squared Error is:  1.6832508230603465\n",
      "The R-squared Score is:  50.48543689320388\n"
     ]
    }
   ],
   "source": [
    "# Calculating the MSE with sklearn\n",
    "from sklearn.metrics import mean_squared_error\n",
    "from sklearn.metrics import r2_score\n",
    "\n",
    "mse = mean_squared_error(df2['Weight of father(X)'], df2['Weight of son(Y)'])\n",
    "print(\"The Mean Squared Error is: \", mse)\n",
    "\n",
    "rmse = mean_squared_error(df2['Weight of father(X)'], df2['Weight of son(Y)'], squared = False)\n",
    "print(\"The Root Mean Squared Error is: \", rmse)\n",
    "\n",
    "rss = r2_score(df2['Weight of father(X)'], df2['Weight of son(Y)'])\n",
    "print(\"The R-squared Score is: \", rss*100)\n"
   ]
  },
  {
   "cell_type": "code",
   "execution_count": null,
   "metadata": {},
   "outputs": [],
   "source": []
  }
 ],
 "metadata": {
  "colab": {
   "collapsed_sections": [],
   "provenance": []
  },
  "kernelspec": {
   "display_name": "Python 3 (ipykernel)",
   "language": "python",
   "name": "python3"
  },
  "language_info": {
   "codemirror_mode": {
    "name": "ipython",
    "version": 3
   },
   "file_extension": ".py",
   "mimetype": "text/x-python",
   "name": "python",
   "nbconvert_exporter": "python",
   "pygments_lexer": "ipython3",
   "version": "3.9.7"
  }
 },
 "nbformat": 4,
 "nbformat_minor": 1
}
