{
 "cells": [
  {
   "cell_type": "markdown",
   "metadata": {
    "id": "M1OOxd-o_Y08"
   },
   "source": [
    "# Name: Kinzang Wangchuk \n",
    "\n",
    "# Enrollment No: 12190062"
   ]
  },
  {
   "cell_type": "markdown",
   "metadata": {
    "id": "dVLFtvdWGAiW"
   },
   "source": [
    "## **Data Presentation**"
   ]
  },
  {
   "cell_type": "markdown",
   "metadata": {
    "id": "v4-TG8DSMP56"
   },
   "source": [
    "To do 1\n",
    "\n",
    "1. As a first step, import the libraries that we will be using: pandas, NumPy, and Matplotlib."
   ]
  },
  {
   "cell_type": "code",
   "execution_count": 2,
   "metadata": {
    "id": "-KwYNoF8MbVZ"
   },
   "outputs": [],
   "source": [
    "import pandas as pd\n",
    "import numpy as np\n",
    "import matplotlib.pyplot as ml"
   ]
  },
  {
   "cell_type": "markdown",
   "metadata": {
    "id": "cz86JiEjM6LQ"
   },
   "source": [
    "2. Read in the dataset from the text file using `pandas` and print out the first five rows by calling the `head()` method on the DataFrame object."
   ]
  },
  {
   "cell_type": "code",
   "execution_count": 3,
   "metadata": {
    "colab": {
     "base_uri": "https://localhost:8080/",
     "height": 488
    },
    "id": "eVYQ7JWFNBDv",
    "outputId": "b72f7124-0326-4678-a8fd-2a3e4f7b6e4f"
   },
   "outputs": [
    {
     "data": {
      "text/html": [
       "<div>\n",
       "<style scoped>\n",
       "    .dataframe tbody tr th:only-of-type {\n",
       "        vertical-align: middle;\n",
       "    }\n",
       "\n",
       "    .dataframe tbody tr th {\n",
       "        vertical-align: top;\n",
       "    }\n",
       "\n",
       "    .dataframe thead th {\n",
       "        text-align: right;\n",
       "    }\n",
       "</style>\n",
       "<table border=\"1\" class=\"dataframe\">\n",
       "  <thead>\n",
       "    <tr style=\"text-align: right;\">\n",
       "      <th></th>\n",
       "      <th>Êcommunityname</th>\n",
       "      <th>state</th>\n",
       "      <th>countyCode</th>\n",
       "      <th>communityCode</th>\n",
       "      <th>fold</th>\n",
       "      <th>population</th>\n",
       "      <th>householdsize</th>\n",
       "      <th>racepctblack</th>\n",
       "      <th>racePctWhite</th>\n",
       "      <th>racePctAsian</th>\n",
       "      <th>...</th>\n",
       "      <th>burglaries</th>\n",
       "      <th>burglPerPop</th>\n",
       "      <th>larcenies</th>\n",
       "      <th>larcPerPop</th>\n",
       "      <th>autoTheft</th>\n",
       "      <th>autoTheftPerPop</th>\n",
       "      <th>arsons</th>\n",
       "      <th>arsonsPerPop</th>\n",
       "      <th>ViolentCrimesPerPop</th>\n",
       "      <th>nonViolPerPop</th>\n",
       "    </tr>\n",
       "  </thead>\n",
       "  <tbody>\n",
       "    <tr>\n",
       "      <th>0</th>\n",
       "      <td>BerkeleyHeightstownship</td>\n",
       "      <td>NJ</td>\n",
       "      <td>39</td>\n",
       "      <td>5320</td>\n",
       "      <td>1</td>\n",
       "      <td>11980</td>\n",
       "      <td>3.10</td>\n",
       "      <td>1.37</td>\n",
       "      <td>91.78</td>\n",
       "      <td>6.50</td>\n",
       "      <td>...</td>\n",
       "      <td>14</td>\n",
       "      <td>114.85</td>\n",
       "      <td>138</td>\n",
       "      <td>1132.08</td>\n",
       "      <td>16</td>\n",
       "      <td>131.26</td>\n",
       "      <td>2</td>\n",
       "      <td>16.41</td>\n",
       "      <td>41.02</td>\n",
       "      <td>1394.59</td>\n",
       "    </tr>\n",
       "    <tr>\n",
       "      <th>1</th>\n",
       "      <td>Marpletownship</td>\n",
       "      <td>PA</td>\n",
       "      <td>45</td>\n",
       "      <td>47616</td>\n",
       "      <td>1</td>\n",
       "      <td>23123</td>\n",
       "      <td>2.82</td>\n",
       "      <td>0.80</td>\n",
       "      <td>95.57</td>\n",
       "      <td>3.44</td>\n",
       "      <td>...</td>\n",
       "      <td>57</td>\n",
       "      <td>242.37</td>\n",
       "      <td>376</td>\n",
       "      <td>1598.78</td>\n",
       "      <td>26</td>\n",
       "      <td>110.55</td>\n",
       "      <td>1</td>\n",
       "      <td>4.25</td>\n",
       "      <td>127.56</td>\n",
       "      <td>1955.95</td>\n",
       "    </tr>\n",
       "    <tr>\n",
       "      <th>2</th>\n",
       "      <td>Tigardcity</td>\n",
       "      <td>OR</td>\n",
       "      <td>?</td>\n",
       "      <td>?</td>\n",
       "      <td>1</td>\n",
       "      <td>29344</td>\n",
       "      <td>2.43</td>\n",
       "      <td>0.74</td>\n",
       "      <td>94.33</td>\n",
       "      <td>3.43</td>\n",
       "      <td>...</td>\n",
       "      <td>274</td>\n",
       "      <td>758.14</td>\n",
       "      <td>1797</td>\n",
       "      <td>4972.19</td>\n",
       "      <td>136</td>\n",
       "      <td>376.3</td>\n",
       "      <td>22</td>\n",
       "      <td>60.87</td>\n",
       "      <td>218.59</td>\n",
       "      <td>6167.51</td>\n",
       "    </tr>\n",
       "    <tr>\n",
       "      <th>3</th>\n",
       "      <td>Gloversvillecity</td>\n",
       "      <td>NY</td>\n",
       "      <td>35</td>\n",
       "      <td>29443</td>\n",
       "      <td>1</td>\n",
       "      <td>16656</td>\n",
       "      <td>2.40</td>\n",
       "      <td>1.70</td>\n",
       "      <td>97.35</td>\n",
       "      <td>0.50</td>\n",
       "      <td>...</td>\n",
       "      <td>225</td>\n",
       "      <td>1301.78</td>\n",
       "      <td>716</td>\n",
       "      <td>4142.56</td>\n",
       "      <td>47</td>\n",
       "      <td>271.93</td>\n",
       "      <td>?</td>\n",
       "      <td>?</td>\n",
       "      <td>306.64</td>\n",
       "      <td>?</td>\n",
       "    </tr>\n",
       "    <tr>\n",
       "      <th>4</th>\n",
       "      <td>Bemidjicity</td>\n",
       "      <td>MN</td>\n",
       "      <td>7</td>\n",
       "      <td>5068</td>\n",
       "      <td>1</td>\n",
       "      <td>11245</td>\n",
       "      <td>2.76</td>\n",
       "      <td>0.53</td>\n",
       "      <td>89.16</td>\n",
       "      <td>1.17</td>\n",
       "      <td>...</td>\n",
       "      <td>91</td>\n",
       "      <td>728.93</td>\n",
       "      <td>1060</td>\n",
       "      <td>8490.87</td>\n",
       "      <td>91</td>\n",
       "      <td>728.93</td>\n",
       "      <td>5</td>\n",
       "      <td>40.05</td>\n",
       "      <td>?</td>\n",
       "      <td>9988.79</td>\n",
       "    </tr>\n",
       "    <tr>\n",
       "      <th>...</th>\n",
       "      <td>...</td>\n",
       "      <td>...</td>\n",
       "      <td>...</td>\n",
       "      <td>...</td>\n",
       "      <td>...</td>\n",
       "      <td>...</td>\n",
       "      <td>...</td>\n",
       "      <td>...</td>\n",
       "      <td>...</td>\n",
       "      <td>...</td>\n",
       "      <td>...</td>\n",
       "      <td>...</td>\n",
       "      <td>...</td>\n",
       "      <td>...</td>\n",
       "      <td>...</td>\n",
       "      <td>...</td>\n",
       "      <td>...</td>\n",
       "      <td>...</td>\n",
       "      <td>...</td>\n",
       "      <td>...</td>\n",
       "      <td>...</td>\n",
       "    </tr>\n",
       "    <tr>\n",
       "      <th>2210</th>\n",
       "      <td>Mercedcity</td>\n",
       "      <td>CA</td>\n",
       "      <td>?</td>\n",
       "      <td>?</td>\n",
       "      <td>10</td>\n",
       "      <td>56216</td>\n",
       "      <td>3.07</td>\n",
       "      <td>6.87</td>\n",
       "      <td>61.68</td>\n",
       "      <td>15.23</td>\n",
       "      <td>...</td>\n",
       "      <td>1376</td>\n",
       "      <td>2268.72</td>\n",
       "      <td>2563</td>\n",
       "      <td>4225.82</td>\n",
       "      <td>489</td>\n",
       "      <td>806.25</td>\n",
       "      <td>34</td>\n",
       "      <td>56.06</td>\n",
       "      <td>545.75</td>\n",
       "      <td>7356.84</td>\n",
       "    </tr>\n",
       "    <tr>\n",
       "      <th>2211</th>\n",
       "      <td>Pinevillecity</td>\n",
       "      <td>LA</td>\n",
       "      <td>?</td>\n",
       "      <td>?</td>\n",
       "      <td>10</td>\n",
       "      <td>12251</td>\n",
       "      <td>2.68</td>\n",
       "      <td>21.18</td>\n",
       "      <td>76.65</td>\n",
       "      <td>1.52</td>\n",
       "      <td>...</td>\n",
       "      <td>104</td>\n",
       "      <td>860.43</td>\n",
       "      <td>574</td>\n",
       "      <td>4748.9</td>\n",
       "      <td>24</td>\n",
       "      <td>198.56</td>\n",
       "      <td>2</td>\n",
       "      <td>16.55</td>\n",
       "      <td>124.1</td>\n",
       "      <td>5824.44</td>\n",
       "    </tr>\n",
       "    <tr>\n",
       "      <th>2212</th>\n",
       "      <td>Yucaipacity</td>\n",
       "      <td>CA</td>\n",
       "      <td>?</td>\n",
       "      <td>?</td>\n",
       "      <td>10</td>\n",
       "      <td>32824</td>\n",
       "      <td>2.46</td>\n",
       "      <td>0.52</td>\n",
       "      <td>92.62</td>\n",
       "      <td>0.98</td>\n",
       "      <td>...</td>\n",
       "      <td>628</td>\n",
       "      <td>1709.26</td>\n",
       "      <td>895</td>\n",
       "      <td>2435.97</td>\n",
       "      <td>179</td>\n",
       "      <td>487.19</td>\n",
       "      <td>8</td>\n",
       "      <td>21.77</td>\n",
       "      <td>353.83</td>\n",
       "      <td>4654.2</td>\n",
       "    </tr>\n",
       "    <tr>\n",
       "      <th>2213</th>\n",
       "      <td>Beevillecity</td>\n",
       "      <td>TX</td>\n",
       "      <td>?</td>\n",
       "      <td>?</td>\n",
       "      <td>10</td>\n",
       "      <td>13547</td>\n",
       "      <td>2.89</td>\n",
       "      <td>3.37</td>\n",
       "      <td>69.91</td>\n",
       "      <td>0.90</td>\n",
       "      <td>...</td>\n",
       "      <td>192</td>\n",
       "      <td>1508.01</td>\n",
       "      <td>474</td>\n",
       "      <td>3722.9</td>\n",
       "      <td>13</td>\n",
       "      <td>102.1</td>\n",
       "      <td>1</td>\n",
       "      <td>7.85</td>\n",
       "      <td>691.17</td>\n",
       "      <td>5340.87</td>\n",
       "    </tr>\n",
       "    <tr>\n",
       "      <th>2214</th>\n",
       "      <td>WestSacramentocity</td>\n",
       "      <td>CA</td>\n",
       "      <td>?</td>\n",
       "      <td>?</td>\n",
       "      <td>10</td>\n",
       "      <td>28898</td>\n",
       "      <td>2.61</td>\n",
       "      <td>2.39</td>\n",
       "      <td>71.27</td>\n",
       "      <td>9.09</td>\n",
       "      <td>...</td>\n",
       "      <td>791</td>\n",
       "      <td>2614.53</td>\n",
       "      <td>1458</td>\n",
       "      <td>4819.2</td>\n",
       "      <td>405</td>\n",
       "      <td>1338.67</td>\n",
       "      <td>20</td>\n",
       "      <td>66.11</td>\n",
       "      <td>918.89</td>\n",
       "      <td>8838.5</td>\n",
       "    </tr>\n",
       "  </tbody>\n",
       "</table>\n",
       "<p>2215 rows × 147 columns</p>\n",
       "</div>"
      ],
      "text/plain": [
       "               Êcommunityname state countyCode communityCode  fold  \\\n",
       "0     BerkeleyHeightstownship    NJ         39          5320     1   \n",
       "1              Marpletownship    PA         45         47616     1   \n",
       "2                  Tigardcity    OR          ?             ?     1   \n",
       "3            Gloversvillecity    NY         35         29443     1   \n",
       "4                 Bemidjicity    MN          7          5068     1   \n",
       "...                       ...   ...        ...           ...   ...   \n",
       "2210               Mercedcity    CA          ?             ?    10   \n",
       "2211            Pinevillecity    LA          ?             ?    10   \n",
       "2212              Yucaipacity    CA          ?             ?    10   \n",
       "2213             Beevillecity    TX          ?             ?    10   \n",
       "2214       WestSacramentocity    CA          ?             ?    10   \n",
       "\n",
       "      population  householdsize  racepctblack  racePctWhite  racePctAsian  \\\n",
       "0          11980           3.10          1.37         91.78          6.50   \n",
       "1          23123           2.82          0.80         95.57          3.44   \n",
       "2          29344           2.43          0.74         94.33          3.43   \n",
       "3          16656           2.40          1.70         97.35          0.50   \n",
       "4          11245           2.76          0.53         89.16          1.17   \n",
       "...          ...            ...           ...           ...           ...   \n",
       "2210       56216           3.07          6.87         61.68         15.23   \n",
       "2211       12251           2.68         21.18         76.65          1.52   \n",
       "2212       32824           2.46          0.52         92.62          0.98   \n",
       "2213       13547           2.89          3.37         69.91          0.90   \n",
       "2214       28898           2.61          2.39         71.27          9.09   \n",
       "\n",
       "      ...  burglaries  burglPerPop  larcenies  larcPerPop  autoTheft  \\\n",
       "0     ...          14       114.85        138     1132.08         16   \n",
       "1     ...          57       242.37        376     1598.78         26   \n",
       "2     ...         274       758.14       1797     4972.19        136   \n",
       "3     ...         225      1301.78        716     4142.56         47   \n",
       "4     ...          91       728.93       1060     8490.87         91   \n",
       "...   ...         ...          ...        ...         ...        ...   \n",
       "2210  ...        1376      2268.72       2563     4225.82        489   \n",
       "2211  ...         104       860.43        574      4748.9         24   \n",
       "2212  ...         628      1709.26        895     2435.97        179   \n",
       "2213  ...         192      1508.01        474      3722.9         13   \n",
       "2214  ...         791      2614.53       1458      4819.2        405   \n",
       "\n",
       "      autoTheftPerPop  arsons  arsonsPerPop  ViolentCrimesPerPop  \\\n",
       "0              131.26       2         16.41                41.02   \n",
       "1              110.55       1          4.25               127.56   \n",
       "2               376.3      22         60.87               218.59   \n",
       "3              271.93       ?             ?               306.64   \n",
       "4              728.93       5         40.05                    ?   \n",
       "...               ...     ...           ...                  ...   \n",
       "2210           806.25      34         56.06               545.75   \n",
       "2211           198.56       2         16.55                124.1   \n",
       "2212           487.19       8         21.77               353.83   \n",
       "2213            102.1       1          7.85               691.17   \n",
       "2214          1338.67      20         66.11               918.89   \n",
       "\n",
       "      nonViolPerPop  \n",
       "0           1394.59  \n",
       "1           1955.95  \n",
       "2           6167.51  \n",
       "3                 ?  \n",
       "4           9988.79  \n",
       "...             ...  \n",
       "2210        7356.84  \n",
       "2211        5824.44  \n",
       "2212         4654.2  \n",
       "2213        5340.87  \n",
       "2214         8838.5  \n",
       "\n",
       "[2215 rows x 147 columns]"
      ]
     },
     "execution_count": 3,
     "metadata": {},
     "output_type": "execute_result"
    }
   ],
   "source": [
    "# from google.colab import files   \n",
    "# uploaded = files.upload()\n",
    "#  Code to upload fil\n",
    "\n",
    "\n",
    "data = pd.read_csv(\"crimedata.csv\", encoding='latin-1')\n",
    "\n",
    "data"
   ]
  },
  {
   "cell_type": "code",
   "execution_count": 4,
   "metadata": {
    "colab": {
     "base_uri": "https://localhost:8080/",
     "height": 300
    },
    "id": "iFCb7slsPFtg",
    "outputId": "88d5ca70-9279-4aed-be4f-7d75e0c80291"
   },
   "outputs": [
    {
     "data": {
      "text/html": [
       "<div>\n",
       "<style scoped>\n",
       "    .dataframe tbody tr th:only-of-type {\n",
       "        vertical-align: middle;\n",
       "    }\n",
       "\n",
       "    .dataframe tbody tr th {\n",
       "        vertical-align: top;\n",
       "    }\n",
       "\n",
       "    .dataframe thead th {\n",
       "        text-align: right;\n",
       "    }\n",
       "</style>\n",
       "<table border=\"1\" class=\"dataframe\">\n",
       "  <thead>\n",
       "    <tr style=\"text-align: right;\">\n",
       "      <th></th>\n",
       "      <th>Êcommunityname</th>\n",
       "      <th>state</th>\n",
       "      <th>countyCode</th>\n",
       "      <th>communityCode</th>\n",
       "      <th>fold</th>\n",
       "      <th>population</th>\n",
       "      <th>householdsize</th>\n",
       "      <th>racepctblack</th>\n",
       "      <th>racePctWhite</th>\n",
       "      <th>racePctAsian</th>\n",
       "      <th>...</th>\n",
       "      <th>burglaries</th>\n",
       "      <th>burglPerPop</th>\n",
       "      <th>larcenies</th>\n",
       "      <th>larcPerPop</th>\n",
       "      <th>autoTheft</th>\n",
       "      <th>autoTheftPerPop</th>\n",
       "      <th>arsons</th>\n",
       "      <th>arsonsPerPop</th>\n",
       "      <th>ViolentCrimesPerPop</th>\n",
       "      <th>nonViolPerPop</th>\n",
       "    </tr>\n",
       "  </thead>\n",
       "  <tbody>\n",
       "    <tr>\n",
       "      <th>0</th>\n",
       "      <td>BerkeleyHeightstownship</td>\n",
       "      <td>NJ</td>\n",
       "      <td>39</td>\n",
       "      <td>5320</td>\n",
       "      <td>1</td>\n",
       "      <td>11980</td>\n",
       "      <td>3.10</td>\n",
       "      <td>1.37</td>\n",
       "      <td>91.78</td>\n",
       "      <td>6.50</td>\n",
       "      <td>...</td>\n",
       "      <td>14</td>\n",
       "      <td>114.85</td>\n",
       "      <td>138</td>\n",
       "      <td>1132.08</td>\n",
       "      <td>16</td>\n",
       "      <td>131.26</td>\n",
       "      <td>2</td>\n",
       "      <td>16.41</td>\n",
       "      <td>41.02</td>\n",
       "      <td>1394.59</td>\n",
       "    </tr>\n",
       "    <tr>\n",
       "      <th>1</th>\n",
       "      <td>Marpletownship</td>\n",
       "      <td>PA</td>\n",
       "      <td>45</td>\n",
       "      <td>47616</td>\n",
       "      <td>1</td>\n",
       "      <td>23123</td>\n",
       "      <td>2.82</td>\n",
       "      <td>0.80</td>\n",
       "      <td>95.57</td>\n",
       "      <td>3.44</td>\n",
       "      <td>...</td>\n",
       "      <td>57</td>\n",
       "      <td>242.37</td>\n",
       "      <td>376</td>\n",
       "      <td>1598.78</td>\n",
       "      <td>26</td>\n",
       "      <td>110.55</td>\n",
       "      <td>1</td>\n",
       "      <td>4.25</td>\n",
       "      <td>127.56</td>\n",
       "      <td>1955.95</td>\n",
       "    </tr>\n",
       "    <tr>\n",
       "      <th>2</th>\n",
       "      <td>Tigardcity</td>\n",
       "      <td>OR</td>\n",
       "      <td>?</td>\n",
       "      <td>?</td>\n",
       "      <td>1</td>\n",
       "      <td>29344</td>\n",
       "      <td>2.43</td>\n",
       "      <td>0.74</td>\n",
       "      <td>94.33</td>\n",
       "      <td>3.43</td>\n",
       "      <td>...</td>\n",
       "      <td>274</td>\n",
       "      <td>758.14</td>\n",
       "      <td>1797</td>\n",
       "      <td>4972.19</td>\n",
       "      <td>136</td>\n",
       "      <td>376.3</td>\n",
       "      <td>22</td>\n",
       "      <td>60.87</td>\n",
       "      <td>218.59</td>\n",
       "      <td>6167.51</td>\n",
       "    </tr>\n",
       "    <tr>\n",
       "      <th>3</th>\n",
       "      <td>Gloversvillecity</td>\n",
       "      <td>NY</td>\n",
       "      <td>35</td>\n",
       "      <td>29443</td>\n",
       "      <td>1</td>\n",
       "      <td>16656</td>\n",
       "      <td>2.40</td>\n",
       "      <td>1.70</td>\n",
       "      <td>97.35</td>\n",
       "      <td>0.50</td>\n",
       "      <td>...</td>\n",
       "      <td>225</td>\n",
       "      <td>1301.78</td>\n",
       "      <td>716</td>\n",
       "      <td>4142.56</td>\n",
       "      <td>47</td>\n",
       "      <td>271.93</td>\n",
       "      <td>?</td>\n",
       "      <td>?</td>\n",
       "      <td>306.64</td>\n",
       "      <td>?</td>\n",
       "    </tr>\n",
       "    <tr>\n",
       "      <th>4</th>\n",
       "      <td>Bemidjicity</td>\n",
       "      <td>MN</td>\n",
       "      <td>7</td>\n",
       "      <td>5068</td>\n",
       "      <td>1</td>\n",
       "      <td>11245</td>\n",
       "      <td>2.76</td>\n",
       "      <td>0.53</td>\n",
       "      <td>89.16</td>\n",
       "      <td>1.17</td>\n",
       "      <td>...</td>\n",
       "      <td>91</td>\n",
       "      <td>728.93</td>\n",
       "      <td>1060</td>\n",
       "      <td>8490.87</td>\n",
       "      <td>91</td>\n",
       "      <td>728.93</td>\n",
       "      <td>5</td>\n",
       "      <td>40.05</td>\n",
       "      <td>?</td>\n",
       "      <td>9988.79</td>\n",
       "    </tr>\n",
       "  </tbody>\n",
       "</table>\n",
       "<p>5 rows × 147 columns</p>\n",
       "</div>"
      ],
      "text/plain": [
       "            Êcommunityname state countyCode communityCode  fold  population  \\\n",
       "0  BerkeleyHeightstownship    NJ         39          5320     1       11980   \n",
       "1           Marpletownship    PA         45         47616     1       23123   \n",
       "2               Tigardcity    OR          ?             ?     1       29344   \n",
       "3         Gloversvillecity    NY         35         29443     1       16656   \n",
       "4              Bemidjicity    MN          7          5068     1       11245   \n",
       "\n",
       "   householdsize  racepctblack  racePctWhite  racePctAsian  ...  burglaries  \\\n",
       "0           3.10          1.37         91.78          6.50  ...          14   \n",
       "1           2.82          0.80         95.57          3.44  ...          57   \n",
       "2           2.43          0.74         94.33          3.43  ...         274   \n",
       "3           2.40          1.70         97.35          0.50  ...         225   \n",
       "4           2.76          0.53         89.16          1.17  ...          91   \n",
       "\n",
       "   burglPerPop  larcenies  larcPerPop  autoTheft  autoTheftPerPop  arsons  \\\n",
       "0       114.85        138     1132.08         16           131.26       2   \n",
       "1       242.37        376     1598.78         26           110.55       1   \n",
       "2       758.14       1797     4972.19        136            376.3      22   \n",
       "3      1301.78        716     4142.56         47           271.93       ?   \n",
       "4       728.93       1060     8490.87         91           728.93       5   \n",
       "\n",
       "   arsonsPerPop  ViolentCrimesPerPop  nonViolPerPop  \n",
       "0         16.41                41.02        1394.59  \n",
       "1          4.25               127.56        1955.95  \n",
       "2         60.87               218.59        6167.51  \n",
       "3             ?               306.64              ?  \n",
       "4         40.05                    ?        9988.79  \n",
       "\n",
       "[5 rows x 147 columns]"
      ]
     },
     "execution_count": 4,
     "metadata": {},
     "output_type": "execute_result"
    }
   ],
   "source": [
    "#Read data from First five rows\n",
    "data.head()"
   ]
  },
  {
   "cell_type": "markdown",
   "metadata": {
    "id": "Yj25wafZPViA"
   },
   "source": [
    "3. Print out the total number of rows and columns."
   ]
  },
  {
   "cell_type": "code",
   "execution_count": 5,
   "metadata": {
    "colab": {
     "base_uri": "https://localhost:8080/"
    },
    "id": "5xrqNdwEPhQe",
    "outputId": "dfb66209-6da1-4b82-9444-fa4bc78f39fb"
   },
   "outputs": [
    {
     "name": "stdout",
     "output_type": "stream",
     "text": [
      "Number of Rows:  2215\n",
      "Number of Columns:  147\n"
     ]
    }
   ],
   "source": [
    "rows = len(data.axes[0])\n",
    "\n",
    "columns = len(data.axes[1])\n",
    "\n",
    "print(\"Number of Rows: \", rows)\n",
    "print(\"Number of Columns: \", columns)"
   ]
  },
  {
   "cell_type": "markdown",
   "metadata": {
    "id": "iqWgBp2mQWpO"
   },
   "source": [
    "4. Notice that missing values are indicated as '?' in different cells of the dataset. Call the replace() method on the DataFrame object to replace that character with np.nan to faithfully represent missing values in Python."
   ]
  },
  {
   "cell_type": "code",
   "execution_count": 6,
   "metadata": {
    "colab": {
     "base_uri": "https://localhost:8080/",
     "height": 488
    },
    "id": "IlB7NWXZQZ-a",
    "outputId": "0bc72691-a591-41e4-e715-ea724a9c60c9"
   },
   "outputs": [
    {
     "data": {
      "text/html": [
       "<div>\n",
       "<style scoped>\n",
       "    .dataframe tbody tr th:only-of-type {\n",
       "        vertical-align: middle;\n",
       "    }\n",
       "\n",
       "    .dataframe tbody tr th {\n",
       "        vertical-align: top;\n",
       "    }\n",
       "\n",
       "    .dataframe thead th {\n",
       "        text-align: right;\n",
       "    }\n",
       "</style>\n",
       "<table border=\"1\" class=\"dataframe\">\n",
       "  <thead>\n",
       "    <tr style=\"text-align: right;\">\n",
       "      <th></th>\n",
       "      <th>Êcommunityname</th>\n",
       "      <th>state</th>\n",
       "      <th>countyCode</th>\n",
       "      <th>communityCode</th>\n",
       "      <th>fold</th>\n",
       "      <th>population</th>\n",
       "      <th>householdsize</th>\n",
       "      <th>racepctblack</th>\n",
       "      <th>racePctWhite</th>\n",
       "      <th>racePctAsian</th>\n",
       "      <th>...</th>\n",
       "      <th>burglaries</th>\n",
       "      <th>burglPerPop</th>\n",
       "      <th>larcenies</th>\n",
       "      <th>larcPerPop</th>\n",
       "      <th>autoTheft</th>\n",
       "      <th>autoTheftPerPop</th>\n",
       "      <th>arsons</th>\n",
       "      <th>arsonsPerPop</th>\n",
       "      <th>ViolentCrimesPerPop</th>\n",
       "      <th>nonViolPerPop</th>\n",
       "    </tr>\n",
       "  </thead>\n",
       "  <tbody>\n",
       "    <tr>\n",
       "      <th>0</th>\n",
       "      <td>BerkeleyHeightstownship</td>\n",
       "      <td>NJ</td>\n",
       "      <td>39</td>\n",
       "      <td>5320</td>\n",
       "      <td>1</td>\n",
       "      <td>11980</td>\n",
       "      <td>3.10</td>\n",
       "      <td>1.37</td>\n",
       "      <td>91.78</td>\n",
       "      <td>6.50</td>\n",
       "      <td>...</td>\n",
       "      <td>14</td>\n",
       "      <td>114.85</td>\n",
       "      <td>138</td>\n",
       "      <td>1132.08</td>\n",
       "      <td>16</td>\n",
       "      <td>131.26</td>\n",
       "      <td>2</td>\n",
       "      <td>16.41</td>\n",
       "      <td>41.02</td>\n",
       "      <td>1394.59</td>\n",
       "    </tr>\n",
       "    <tr>\n",
       "      <th>1</th>\n",
       "      <td>Marpletownship</td>\n",
       "      <td>PA</td>\n",
       "      <td>45</td>\n",
       "      <td>47616</td>\n",
       "      <td>1</td>\n",
       "      <td>23123</td>\n",
       "      <td>2.82</td>\n",
       "      <td>0.80</td>\n",
       "      <td>95.57</td>\n",
       "      <td>3.44</td>\n",
       "      <td>...</td>\n",
       "      <td>57</td>\n",
       "      <td>242.37</td>\n",
       "      <td>376</td>\n",
       "      <td>1598.78</td>\n",
       "      <td>26</td>\n",
       "      <td>110.55</td>\n",
       "      <td>1</td>\n",
       "      <td>4.25</td>\n",
       "      <td>127.56</td>\n",
       "      <td>1955.95</td>\n",
       "    </tr>\n",
       "    <tr>\n",
       "      <th>2</th>\n",
       "      <td>Tigardcity</td>\n",
       "      <td>OR</td>\n",
       "      <td>NaN</td>\n",
       "      <td>NaN</td>\n",
       "      <td>1</td>\n",
       "      <td>29344</td>\n",
       "      <td>2.43</td>\n",
       "      <td>0.74</td>\n",
       "      <td>94.33</td>\n",
       "      <td>3.43</td>\n",
       "      <td>...</td>\n",
       "      <td>274</td>\n",
       "      <td>758.14</td>\n",
       "      <td>1797</td>\n",
       "      <td>4972.19</td>\n",
       "      <td>136</td>\n",
       "      <td>376.3</td>\n",
       "      <td>22</td>\n",
       "      <td>60.87</td>\n",
       "      <td>218.59</td>\n",
       "      <td>6167.51</td>\n",
       "    </tr>\n",
       "    <tr>\n",
       "      <th>3</th>\n",
       "      <td>Gloversvillecity</td>\n",
       "      <td>NY</td>\n",
       "      <td>35</td>\n",
       "      <td>29443</td>\n",
       "      <td>1</td>\n",
       "      <td>16656</td>\n",
       "      <td>2.40</td>\n",
       "      <td>1.70</td>\n",
       "      <td>97.35</td>\n",
       "      <td>0.50</td>\n",
       "      <td>...</td>\n",
       "      <td>225</td>\n",
       "      <td>1301.78</td>\n",
       "      <td>716</td>\n",
       "      <td>4142.56</td>\n",
       "      <td>47</td>\n",
       "      <td>271.93</td>\n",
       "      <td>NaN</td>\n",
       "      <td>NaN</td>\n",
       "      <td>306.64</td>\n",
       "      <td>NaN</td>\n",
       "    </tr>\n",
       "    <tr>\n",
       "      <th>4</th>\n",
       "      <td>Bemidjicity</td>\n",
       "      <td>MN</td>\n",
       "      <td>7</td>\n",
       "      <td>5068</td>\n",
       "      <td>1</td>\n",
       "      <td>11245</td>\n",
       "      <td>2.76</td>\n",
       "      <td>0.53</td>\n",
       "      <td>89.16</td>\n",
       "      <td>1.17</td>\n",
       "      <td>...</td>\n",
       "      <td>91</td>\n",
       "      <td>728.93</td>\n",
       "      <td>1060</td>\n",
       "      <td>8490.87</td>\n",
       "      <td>91</td>\n",
       "      <td>728.93</td>\n",
       "      <td>5</td>\n",
       "      <td>40.05</td>\n",
       "      <td>NaN</td>\n",
       "      <td>9988.79</td>\n",
       "    </tr>\n",
       "    <tr>\n",
       "      <th>...</th>\n",
       "      <td>...</td>\n",
       "      <td>...</td>\n",
       "      <td>...</td>\n",
       "      <td>...</td>\n",
       "      <td>...</td>\n",
       "      <td>...</td>\n",
       "      <td>...</td>\n",
       "      <td>...</td>\n",
       "      <td>...</td>\n",
       "      <td>...</td>\n",
       "      <td>...</td>\n",
       "      <td>...</td>\n",
       "      <td>...</td>\n",
       "      <td>...</td>\n",
       "      <td>...</td>\n",
       "      <td>...</td>\n",
       "      <td>...</td>\n",
       "      <td>...</td>\n",
       "      <td>...</td>\n",
       "      <td>...</td>\n",
       "      <td>...</td>\n",
       "    </tr>\n",
       "    <tr>\n",
       "      <th>2210</th>\n",
       "      <td>Mercedcity</td>\n",
       "      <td>CA</td>\n",
       "      <td>NaN</td>\n",
       "      <td>NaN</td>\n",
       "      <td>10</td>\n",
       "      <td>56216</td>\n",
       "      <td>3.07</td>\n",
       "      <td>6.87</td>\n",
       "      <td>61.68</td>\n",
       "      <td>15.23</td>\n",
       "      <td>...</td>\n",
       "      <td>1376</td>\n",
       "      <td>2268.72</td>\n",
       "      <td>2563</td>\n",
       "      <td>4225.82</td>\n",
       "      <td>489</td>\n",
       "      <td>806.25</td>\n",
       "      <td>34</td>\n",
       "      <td>56.06</td>\n",
       "      <td>545.75</td>\n",
       "      <td>7356.84</td>\n",
       "    </tr>\n",
       "    <tr>\n",
       "      <th>2211</th>\n",
       "      <td>Pinevillecity</td>\n",
       "      <td>LA</td>\n",
       "      <td>NaN</td>\n",
       "      <td>NaN</td>\n",
       "      <td>10</td>\n",
       "      <td>12251</td>\n",
       "      <td>2.68</td>\n",
       "      <td>21.18</td>\n",
       "      <td>76.65</td>\n",
       "      <td>1.52</td>\n",
       "      <td>...</td>\n",
       "      <td>104</td>\n",
       "      <td>860.43</td>\n",
       "      <td>574</td>\n",
       "      <td>4748.9</td>\n",
       "      <td>24</td>\n",
       "      <td>198.56</td>\n",
       "      <td>2</td>\n",
       "      <td>16.55</td>\n",
       "      <td>124.1</td>\n",
       "      <td>5824.44</td>\n",
       "    </tr>\n",
       "    <tr>\n",
       "      <th>2212</th>\n",
       "      <td>Yucaipacity</td>\n",
       "      <td>CA</td>\n",
       "      <td>NaN</td>\n",
       "      <td>NaN</td>\n",
       "      <td>10</td>\n",
       "      <td>32824</td>\n",
       "      <td>2.46</td>\n",
       "      <td>0.52</td>\n",
       "      <td>92.62</td>\n",
       "      <td>0.98</td>\n",
       "      <td>...</td>\n",
       "      <td>628</td>\n",
       "      <td>1709.26</td>\n",
       "      <td>895</td>\n",
       "      <td>2435.97</td>\n",
       "      <td>179</td>\n",
       "      <td>487.19</td>\n",
       "      <td>8</td>\n",
       "      <td>21.77</td>\n",
       "      <td>353.83</td>\n",
       "      <td>4654.2</td>\n",
       "    </tr>\n",
       "    <tr>\n",
       "      <th>2213</th>\n",
       "      <td>Beevillecity</td>\n",
       "      <td>TX</td>\n",
       "      <td>NaN</td>\n",
       "      <td>NaN</td>\n",
       "      <td>10</td>\n",
       "      <td>13547</td>\n",
       "      <td>2.89</td>\n",
       "      <td>3.37</td>\n",
       "      <td>69.91</td>\n",
       "      <td>0.90</td>\n",
       "      <td>...</td>\n",
       "      <td>192</td>\n",
       "      <td>1508.01</td>\n",
       "      <td>474</td>\n",
       "      <td>3722.9</td>\n",
       "      <td>13</td>\n",
       "      <td>102.1</td>\n",
       "      <td>1</td>\n",
       "      <td>7.85</td>\n",
       "      <td>691.17</td>\n",
       "      <td>5340.87</td>\n",
       "    </tr>\n",
       "    <tr>\n",
       "      <th>2214</th>\n",
       "      <td>WestSacramentocity</td>\n",
       "      <td>CA</td>\n",
       "      <td>NaN</td>\n",
       "      <td>NaN</td>\n",
       "      <td>10</td>\n",
       "      <td>28898</td>\n",
       "      <td>2.61</td>\n",
       "      <td>2.39</td>\n",
       "      <td>71.27</td>\n",
       "      <td>9.09</td>\n",
       "      <td>...</td>\n",
       "      <td>791</td>\n",
       "      <td>2614.53</td>\n",
       "      <td>1458</td>\n",
       "      <td>4819.2</td>\n",
       "      <td>405</td>\n",
       "      <td>1338.67</td>\n",
       "      <td>20</td>\n",
       "      <td>66.11</td>\n",
       "      <td>918.89</td>\n",
       "      <td>8838.5</td>\n",
       "    </tr>\n",
       "  </tbody>\n",
       "</table>\n",
       "<p>2215 rows × 147 columns</p>\n",
       "</div>"
      ],
      "text/plain": [
       "               Êcommunityname state countyCode communityCode  fold  \\\n",
       "0     BerkeleyHeightstownship    NJ         39          5320     1   \n",
       "1              Marpletownship    PA         45         47616     1   \n",
       "2                  Tigardcity    OR        NaN           NaN     1   \n",
       "3            Gloversvillecity    NY         35         29443     1   \n",
       "4                 Bemidjicity    MN          7          5068     1   \n",
       "...                       ...   ...        ...           ...   ...   \n",
       "2210               Mercedcity    CA        NaN           NaN    10   \n",
       "2211            Pinevillecity    LA        NaN           NaN    10   \n",
       "2212              Yucaipacity    CA        NaN           NaN    10   \n",
       "2213             Beevillecity    TX        NaN           NaN    10   \n",
       "2214       WestSacramentocity    CA        NaN           NaN    10   \n",
       "\n",
       "      population  householdsize  racepctblack  racePctWhite  racePctAsian  \\\n",
       "0          11980           3.10          1.37         91.78          6.50   \n",
       "1          23123           2.82          0.80         95.57          3.44   \n",
       "2          29344           2.43          0.74         94.33          3.43   \n",
       "3          16656           2.40          1.70         97.35          0.50   \n",
       "4          11245           2.76          0.53         89.16          1.17   \n",
       "...          ...            ...           ...           ...           ...   \n",
       "2210       56216           3.07          6.87         61.68         15.23   \n",
       "2211       12251           2.68         21.18         76.65          1.52   \n",
       "2212       32824           2.46          0.52         92.62          0.98   \n",
       "2213       13547           2.89          3.37         69.91          0.90   \n",
       "2214       28898           2.61          2.39         71.27          9.09   \n",
       "\n",
       "      ...  burglaries  burglPerPop  larcenies  larcPerPop  autoTheft  \\\n",
       "0     ...          14       114.85        138     1132.08         16   \n",
       "1     ...          57       242.37        376     1598.78         26   \n",
       "2     ...         274       758.14       1797     4972.19        136   \n",
       "3     ...         225      1301.78        716     4142.56         47   \n",
       "4     ...          91       728.93       1060     8490.87         91   \n",
       "...   ...         ...          ...        ...         ...        ...   \n",
       "2210  ...        1376      2268.72       2563     4225.82        489   \n",
       "2211  ...         104       860.43        574      4748.9         24   \n",
       "2212  ...         628      1709.26        895     2435.97        179   \n",
       "2213  ...         192      1508.01        474      3722.9         13   \n",
       "2214  ...         791      2614.53       1458      4819.2        405   \n",
       "\n",
       "      autoTheftPerPop  arsons  arsonsPerPop  ViolentCrimesPerPop  \\\n",
       "0              131.26       2         16.41                41.02   \n",
       "1              110.55       1          4.25               127.56   \n",
       "2               376.3      22         60.87               218.59   \n",
       "3              271.93     NaN           NaN               306.64   \n",
       "4              728.93       5         40.05                  NaN   \n",
       "...               ...     ...           ...                  ...   \n",
       "2210           806.25      34         56.06               545.75   \n",
       "2211           198.56       2         16.55                124.1   \n",
       "2212           487.19       8         21.77               353.83   \n",
       "2213            102.1       1          7.85               691.17   \n",
       "2214          1338.67      20         66.11               918.89   \n",
       "\n",
       "      nonViolPerPop  \n",
       "0           1394.59  \n",
       "1           1955.95  \n",
       "2           6167.51  \n",
       "3               NaN  \n",
       "4           9988.79  \n",
       "...             ...  \n",
       "2210        7356.84  \n",
       "2211        5824.44  \n",
       "2212         4654.2  \n",
       "2213        5340.87  \n",
       "2214         8838.5  \n",
       "\n",
       "[2215 rows x 147 columns]"
      ]
     },
     "execution_count": 6,
     "metadata": {},
     "output_type": "execute_result"
    }
   ],
   "source": [
    "df = data.replace(to_replace = '?' , value = np.NaN)\n",
    "df"
   ]
  },
  {
   "cell_type": "markdown",
   "metadata": {
    "id": "SN9aMWUORtcH"
   },
   "source": [
    "5. Print out the list of columns in the dataset and their respective numbers of missing values using df.isnull().sum(), where df is the variable name of the DataFrame object."
   ]
  },
  {
   "cell_type": "code",
   "execution_count": 7,
   "metadata": {
    "colab": {
     "base_uri": "https://localhost:8080/"
    },
    "id": "hHwpzkjfRyI0",
    "outputId": "249f47ac-2545-45a7-f4c0-963508621267"
   },
   "outputs": [
    {
     "name": "stdout",
     "output_type": "stream",
     "text": [
      "Êcommunityname            0\n",
      "state                     0\n",
      "countyCode             1221\n",
      "communityCode          1224\n",
      "fold                      0\n",
      "                       ... \n",
      "autoTheftPerPop           3\n",
      "arsons                   91\n",
      "arsonsPerPop             91\n",
      "ViolentCrimesPerPop     221\n",
      "nonViolPerPop            97\n",
      "Length: 147, dtype: int64\n"
     ]
    }
   ],
   "source": [
    "print(df.isnull().sum())"
   ]
  },
  {
   "cell_type": "markdown",
   "metadata": {
    "id": "8dzq61EPUEw8"
   },
   "source": [
    "6. Using the df.isnull().sum()[column_name] syntax (where column_ name bold text is the name of the column we are interested in), print out the number of missing values in the NumStreet and PolicPerPop columns."
   ]
  },
  {
   "cell_type": "code",
   "execution_count": 8,
   "metadata": {
    "colab": {
     "base_uri": "https://localhost:8080/"
    },
    "id": "mLZ-LRuiUKPV",
    "outputId": "09c286e8-613b-446b-b88a-d15bd86f6e88"
   },
   "outputs": [
    {
     "data": {
      "text/plain": [
       "1872"
      ]
     },
     "execution_count": 8,
     "metadata": {},
     "output_type": "execute_result"
    }
   ],
   "source": [
    "df.isnull().sum()['NumStreet']\n",
    "df.isnull().sum()['PolicPerPop']"
   ]
  },
  {
   "cell_type": "markdown",
   "metadata": {
    "id": "_BqlYsCQcahc"
   },
   "source": [
    "7. Compute a DataFrame object that contains a list of values in the state attribute and their respective counts. Then, use the DataFrame.plot.bar() method to visualize that information in a bar graph."
   ]
  },
  {
   "cell_type": "code",
   "execution_count": 9,
   "metadata": {
    "colab": {
     "base_uri": "https://localhost:8080/",
     "height": 289
    },
    "id": "ckIw1k-5ceSs",
    "outputId": "ea1fbb9b-990d-4539-c989-362b15f5b2fa"
   },
   "outputs": [
    {
     "data": {
      "text/plain": [
       "<AxesSubplot:>"
      ]
     },
     "execution_count": 9,
     "metadata": {},
     "output_type": "execute_result"
    },
    {
     "data": {
      "image/png": "[encoded data removed]",
      "text/plain": [
       "<Figure size 432x288 with 1 Axes>"
      ]
     },
     "metadata": {
      "needs_background": "light"
     },
     "output_type": "display_data"
    }
   ],
   "source": [
    "df['state'].value_counts().plot(kind='bar')"
   ]
  },
  {
   "cell_type": "markdown",
   "metadata": {
    "id": "nFy1XR2rcfQF"
   },
   "source": [
    "8. Observe that, with the default scale of the plot, the labels on the x-axis are overlapping. Address this problem by making the plot bigger with the f, ax = plt.subplots(figsize=(15, 10)) command. This should be placed at the beginning of any plotting commands."
   ]
  },
  {
   "cell_type": "code",
   "execution_count": 10,
   "metadata": {
    "colab": {
     "base_uri": "https://localhost:8080/",
     "height": 615
    },
    "id": "c8Qvb9puci0B",
    "outputId": "901b566b-4d2f-4d4c-bbdb-3f98a94db12f"
   },
   "outputs": [
    {
     "data": {
      "text/plain": [
       "<AxesSubplot:>"
      ]
     },
     "execution_count": 10,
     "metadata": {},
     "output_type": "execute_result"
    },
    {
     "data": {
      "image/png": "[encoded data removed]",
      "text/plain": [
       "<Figure size 1080x720 with 1 Axes>"
      ]
     },
     "metadata": {
      "needs_background": "light"
     },
     "output_type": "display_data"
    }
   ],
   "source": [
    "df['state'].value_counts().plot(kind='bar', figsize=(15,10))\n"
   ]
  },
  {
   "cell_type": "markdown",
   "metadata": {
    "id": "inPYp9wxcjoS"
   },
   "source": [
    "9. Using the same value count DataFrame object that we used previously, call the DataFrame.plot.pie() method to create a corresponding pie chart. Adjust the figure size to ensure that the labels for your graph are displayed correctly."
   ]
  },
  {
   "cell_type": "code",
   "execution_count": null,
   "metadata": {
    "colab": {
     "base_uri": "https://localhost:8080/",
     "height": 592
    },
    "id": "-O6wuwdycnhr",
    "outputId": "ac262f8d-036a-4770-bd20-bbede000dc87"
   },
   "outputs": [
    {
     "data": {
      "text/plain": [
       "<matplotlib.axes._subplots.AxesSubplot at 0x7f232106dfd0>"
      ]
     },
     "execution_count": 19,
     "metadata": {},
     "output_type": "execute_result"
    },
    {
     "data": {
      "image/png": "[encoded data removed]",
      "text/plain": [
       "<Figure size 1080x720 with 1 Axes>"
      ]
     },
     "metadata": {},
     "output_type": "display_data"
    }
   ],
   "source": [
    "df['state'].value_counts().plot(kind='pie', figsize=(15,10))"
   ]
  },
  {
   "cell_type": "markdown",
   "metadata": {
    "id": "t1KAaud-F0dt"
   },
   "source": [
    "## **Measures of Central Tendency**"
   ]
  },
  {
   "cell_type": "markdown",
   "metadata": {
    "id": "WFayyXGCYl9v"
   },
   "source": [
    "#### **The (Arithmetic) Mean**"
   ]
  },
  {
   "cell_type": "markdown",
   "metadata": {
    "id": "qf3gMDpWwLyB"
   },
   "source": [
    "***To do 2: "
   ]
  },
  {
   "cell_type": "markdown",
   "metadata": {
    "id": "UGWpsiSZwL-b"
   },
   "source": [
    "**1)**. Calculate the mean of the following using the concept of deviation from arbitrary point."
   ]
  },
  {
   "cell_type": "markdown",
   "metadata": {
    "id": "O5glANF3JZ0k"
   },
   "source": [
    "![Screenshot from 2022-08-25 00-35-42.png](data:image/png;base64,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)"
   ]
  },
  {
   "cell_type": "markdown",
   "metadata": {
    "id": "Voe8aHJLJfEZ"
   },
   "source": [
    "**Solution:**\n",
    "\n",
    "Formula to find mean for Grouped data is $ \\bar{x}=\\frac{\\sum f_ix_i}{\\sum f_i}$\n",
    "\n",
    "So we have:\n",
    "\n",
    "${\\sum f_i}$ = 5 + 8 + 30 + 25 + 14 + 12 + 6\n",
    "\n",
    "${\\sum f_i}f_i$ = 100\n",
    "\n",
    "${\\sum f_ix_i}$ = (47.5 * 5) + (52.5 * 8) + (57.5 * 30) + (62.5 * 25) + (67.5 * 14) + (72.5 * 12) + (77.5 * 6)\n",
    "\n",
    "${\\sum f_ix_i}$ = 237.5 + 420 + 1725 + 1562.5 + 945 + 870 + 465\n",
    "\n",
    "${\\sum f_ix_i}$ = 6225\n",
    "\n",
    "$\\therefore \\bar{x}=\\frac{\\sum f_ix_i}{\\sum f_i}$\n",
    "\n",
    "$\\bar{x}=\\frac{6225}{100}$\n",
    "\n",
    "$\\bar{x}= 62.25$\n",
    "\n",
    "Therefore, the **Mean** is **62.25**\n",
    "\n"
   ]
  },
  {
   "cell_type": "markdown",
   "metadata": {
    "id": "K8y5FodTO2zT"
   },
   "source": [
    "**2)**. Find the arithmetic mean of the following by changing the origin and scale method. The method is also called step-deviation method."
   ]
  },
  {
   "cell_type": "markdown",
   "metadata": {
    "id": "8nm_1W0yO8gP"
   },
   "source": [
    "![Screenshot from 2022-08-25 00-37-22.png](data:image/png;base64,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)"
   ]
  },
  {
   "cell_type": "markdown",
   "metadata": {
    "id": "v4ZTmMi_PAsF"
   },
   "source": [
    "**Solution:**\n",
    "\n",
    "The formula to find arithmetic mean using step-deviation method is $ \\bar{x}=A+\\frac{\\sum df}{\\sum f_i}.h$\n",
    "\n",
    "where; \n",
    "\n",
    "A = assumed mean\n",
    "\n",
    "h = size of class interval\n",
    "\n",
    "$f_i$ = frequency of ith class interval\n",
    "\n",
    "${\\sum d} = \\frac{x - A}{h}$ (x = mid value of the class)\n",
    "\n",
    "Here we took \n",
    "\n",
    "Assumed mean(A) = 35 \n",
    "\n",
    "\\begin{array}{|c|c|} \\hline\n",
    "Class interval & Frequency(f) & Mid-Value(x) & d = \\frac{x - A}{h} & fd \\\\ \\hline\n",
    "0-10 & 5 & 5 & -3 & -15 \\\\ \\hline\n",
    "10-20 & 8 & 15 & -2 & -16 \\\\ \\hline\n",
    "20-30 & 30 & 25 & -1 & -30 \\\\ \\hline\n",
    "30-40 & 25 & 35 = A & 0 & 0 \\\\ \\hline\n",
    "40-50 & 14 & 45 & 1 & 14 \\\\ \\hline\n",
    "50-60 & 12 & 55 & 2 & 24 \\\\ \\hline\n",
    "60-70 & 6 & 65 & 3 & 18 \\\\ \\hline\n",
    " & {\\sum f = 100} &  &  & {\\sum fd} = -5 \\\\ \\hline\n",
    "\\end{array}\n",
    "\n",
    "So we have;\n",
    "\n",
    "${\\sum f_i}$ = 100\n",
    "\n",
    "h = 10\n",
    "\n",
    "A = 35\n",
    "\n",
    "${\\sum fd}$ = -5\n",
    "\n",
    "$ \\bar{x}=A+\\frac{\\sum df}{\\sum f_i}.h$\n",
    "\n",
    "$ \\bar{x}=35+\\frac{-5}{100}.10$\n",
    "\n",
    "$ \\bar{x}=35+ (-0.05).10$\n",
    "\n",
    "$ \\bar{x}= 34.5$\n",
    "\n",
    "Therefore, the **Mean** is **34.5**\n",
    "\n",
    "\n"
   ]
  },
  {
   "cell_type": "markdown",
   "metadata": {
    "id": "fEbTX0JIY58K"
   },
   "source": [
    "#### **Geometric Mean**"
   ]
  },
  {
   "cell_type": "markdown",
   "metadata": {
    "id": "E4IzDtjdahLC"
   },
   "source": [
    "***To Do 3: "
   ]
  },
  {
   "cell_type": "markdown",
   "metadata": {
    "id": "OkaPh-YPaoMV"
   },
   "source": [
    "**1).** Find the geometric mean of the following data.\n",
    "$$Weight(Kg): 45,60,48,100,65$$"
   ]
  },
  {
   "cell_type": "markdown",
   "metadata": {
    "id": "wpoeAS7qaqUL"
   },
   "source": [
    "**Solution:**\n",
    "\n",
    "The formula to find the geometric mean is $ GM=Antilog\\left[\\frac{\\displaystyle\\sum log(x_i)}{n}\\right]$\n",
    "\n",
    "We have;\n",
    "\n",
    "n = 5\n",
    "\n",
    "\\begin{array}{|c|c|} \\hline\n",
    "Weight(Kg) & Logx \\\\ \\hline\n",
    "45 & 1.653 \\\\ \\hline\n",
    "60 & 1.778 \\\\ \\hline\n",
    "48 & 1.681 \\\\ \\hline\n",
    "100 & 2 \\\\ \\hline\n",
    "65 & 1.813 \\\\ \\hline\n",
    " & {\\sum log(x_i)} = 8.925 \\\\ \\hline\n",
    "\\end{array}\n",
    "\n",
    "We have; \n",
    "\n",
    "${\\sum log(x_i)}$ = 8.925\n",
    "\n",
    "$ GM=Antilog\\left[\\frac{\\displaystyle\\sum log(x_i)}{n}\\right]$\n",
    "\n",
    "$ GM=Antilog\\left[\\frac{\\displaystyle 8.925}{5}\\right]$\n",
    "\n",
    "$ GM=Antilog\\left[{\\displaystyle 1.785}\\right]$\n",
    "\n",
    "$ GM = 60.96824$ \n",
    "\n",
    "Therefore, the **geometric mean** is **60.97**"
   ]
  },
  {
   "cell_type": "code",
   "execution_count": 1,
   "metadata": {
    "colab": {
     "base_uri": "https://localhost:8080/"
    },
    "id": "sNCRJbOzijiL",
    "outputId": "d6e08158-9c1a-4211-ddfa-6738474bdc10"
   },
   "outputs": [
    {
     "name": "stdout",
     "output_type": "stream",
     "text": [
      "60.96824188449577\n"
     ]
    }
   ],
   "source": [
    "# Calculate Geometric Mean\n",
    "from scipy import stats\n",
    " \n",
    "print(stats.gmean([45,60,48,100,65]))"
   ]
  },
  {
   "cell_type": "markdown",
   "metadata": {
    "id": "limHYv0udtjc"
   },
   "source": [
    "**2).** Find the geometric mean of the following grouped data for the frequency distribution of weights."
   ]
  },
  {
   "cell_type": "markdown",
   "metadata": {
    "id": "Y_IS9Y6Pd9pT"
   },
   "source": [
    "![Screenshot from 2022-08-25 02-07-04.png](data:image/png;base64,iVBORw0KGgoAAAANSUhEUgAAAokAAABUCAYAAADu6K35AAAAinpUWHRSYXcgcHJvZmlsZSB0eXBlIGV4aWYAAHjaXY7ZDcNACET/qSIlDMdylBNZtpQOUn5YryXLeR8wIDQD7d/PQa8Jw8hGpJc7GisrebdILBRgAc/edXF15VbS4zWTyhJeGbD70AwPhnr6ERbhwzffpN1lVz0rK+i8mmbzlbqNsrAi9LkffwH0A/bvLO84XZ5IAAAKBGlUWHRYTUw6Y29tLmFkb2JlLnhtcAAAAAAAPD94cGFja2V0IGJlZ2luPSLvu78iIGlkPSJXNU0wTXBDZWhpSHpyZVN6TlRjemtjOWQiPz4KPHg6eG1wbWV0YSB4bWxuczp4PSJhZG9iZTpuczptZXRhLyIgeDp4bXB0az0iWE1QIENvcmUgNC40LjAtRXhpdjIiPgogPHJkZjpSREYgeG1sbnM6cmRmPSJodHRwOi8vd3d3LnczLm9yZy8xOTk5LzAyLzIyLXJkZi1zeW50YXgtbnMjIj4KICA8cmRmOkRlc2NyaXB0aW9uIHJkZjphYm91dD0iIgogICAgeG1sbnM6ZXhpZj0iaHR0cDovL25zLmFkb2JlLmNvbS9leGlmLzEuMC8iCiAgICB4bWxuczp0aWZmPSJodHRwOi8vbnMuYWRvYmUuY29tL3RpZmYvMS4wLyIKICAgZXhpZjpQaXhlbFhEaW1lbnNpb249IjY0OSIKICAgZXhpZjpQaXhlbFlEaW1lbnNpb249Ijg0IgogICB0aWZmOkltYWdlV2lkdGg9IjY0OSIKICAgdGlmZjpJbWFnZUhlaWdodD0iODQiCiAgIHRpZmY6T3JpZW50YXRpb249IjEiLz4KIDwvcmRmOlJERj4KPC94OnhtcG1ldGE+CiAgICAgICAgICAgICAgICAgICAgICAgICAgICAgICAgICAgICAgICAgICAgICAgICAgICAgICAgICAgICAgICAgICAgICAgICAgICAgICAgICAgICAgICAgICAgICAgICAgICAKICAgICAgICAgICAgICAgICAgICAgICAgICAgICAgICAgICAgICAgICAgICAgICAgICAgICAgICAgICAgICAgICAgICAgICAgICAgICAgICAgICAgICAgICAgICAgICAgICAgIAogICAgICAgICAgICAgICAgICAgICAgICAgICAgICAgICAgICAgICAgICAgICAgICAgICAgICAgICAgICAgICAgICAgICAgICAgICAgICAgICAgICAgICAgICAgICAgICAgICAgCiAgICAgICAgICAgICAgICAgICAgICAgICAgICAgICAgICAgICAgICAgICAgICAgICAgICAgICAgICAgICAgICAgICAgICAgICAgICAgICAgICAgICAgICAgICAgICAgICAgICAKICAgICAgICAgICAgICAgICAgICAgICAgICAgICAgICAgICAgICAgICAgICAgICAgICAgICAgICAgICAgICAgICAgICAgICAgICAgICAgICAgICAgICAgICAgICAgICAgICAgIAogICAgICAgICAgICAgICAgICAgICAgICAgICAgICAgICAgICAgICAgICAgICAgICAgICAgICAgICAgICAgICAgICAgICAgICAgICAgICAgICAgICAgICAgICAgICAgICAgICAgCiAgICAgICAgICAgICAgICAgICAgICAgICAgICAgICAgICAgICAgICAgICAgICAgICAgICAgICAgICAgICAgICAgICAgICAgICAgICAgICAgICAgICAgICAgICAgICAgICAgICAKICAgICAgICAgICAgICAgICAgICAgICAgICAgICAgICAgICAgICAgICAgICAgICAgICAgICAgICAgICAgICAgICAgICAgICAgICAgICAgICAgICAgICAgICAgICAgICAgICAgIAogICAgICAgICAgICAgICAgICAgICAgICAgICAgICAgICAgICAgICAgICAgICAgICAgICAgICAgICAgICAgICAgICAgICAgICAgICAgICAgICAgICAgICAgICAgICAgICAgICAgCiAgICAgICAgICAgICAgICAgICAgICAgICAgICAgICAgICAgICAgICAgICAgICAgICAgICAgICAgICAgICAgICAgICAgICAgICAgICAgICAgICAgICAgICAgICAgICAgICAgICAKICAgICAgICAgICAgICAgICAgICAgICAgICAgICAgICAgICAgICAgICAgICAgICAgICAgICAgICAgICAgICAgICAgICAgICAgICAgICAgICAgICAgICAgICAgICAgICAgICAgIAogICAgICAgICAgICAgICAgICAgICAgICAgICAgICAgICAgICAgICAgICAgICAgICAgICAgICAgICAgICAgICAgICAgICAgICAgICAgICAgICAgICAgICAgICAgICAgICAgICAgCiAgICAgICAgICAgICAgICAgICAgICAgICAgICAgICAgICAgICAgICAgICAgICAgICAgICAgICAgICAgICAgICAgICAgICAgICAgICAgICAgICAgICAgICAgICAgICAgICAgICAKICAgICAgICAgICAgICAgICAgICAgICAgICAgICAgICAgICAgICAgICAgICAgICAgICAgICAgICAgICAgICAgICAgICAgICAgICAgICAgICAgICAgICAgICAgICAgICAgICAgIAogICAgICAgICAgICAgICAgICAgICAgICAgICAgICAgICAgICAgICAgICAgICAgICAgICAgICAgICAgICAgICAgICAgICAgICAgICAgICAgICAgICAgICAgICAgICAgICAgICAgCiAgICAgICAgICAgICAgICAgICAgICAgICAgICAgICAgICAgICAgICAgICAgICAgICAgICAgICAgICAgICAgICAgICAgICAgICAgICAgICAgICAgICAgICAgICAgICAgICAgICAKICAgICAgICAgICAgICAgICAgICAgICAgICAgICAgICAgICAgICAgICAgICAgICAgICAgICAgICAgICAgICAgICAgICAgICAgICAgICAgICAgICAgICAgICAgICAgICAgICAgIAogICAgICAgICAgICAgICAgICAgICAgICAgICAgICAgICAgICAgICAgICAgICAgICAgICAgICAgICAgICAgICAgICAgICAgICAgICAgICAgICAgICAgICAgICAgICAgICAgICAgCiAgICAgICAgICAgICAgICAgICAgICAgICAgICAgICAgICAgICAgICAgICAgICAgICAgICAgICAgICAgICAgICAgICAgICAgICAgICAgICAgICAgICAgICAgICAgICAgICAgICAKICAgICAgICAgICAgICAgICAgICAgICAgICAgICAgICAgICAgICAgICAgICAgICAgICAgICAgICAgICAgICAgICAgICAgICAgICAgICAgICAgICAgICAgICAgICAgICAgICAgIAogICAgICAgICAgICAgICAgICAgICAgICAgICAKPD94cGFja2V0IGVuZD0idyI/Pp1MIXYAAAAEc0JJVAgICAh8CGSIAAAXXUlEQVR42u2de3AUx4HGvwWRVErmfJWqFFg2OcAgGUkYBMR2tDJgpyJdfJYQtsHBcBgMaMUVUsAJhJwNyNg+A8KBSC5bIHJg54gNwryk093K5iyIRXx+8ZSsB0gQg4IuVany5ai6syT6/piHZndnH7M7uzO7+/2qpkra7Z3u/rqn+5vunh6HEEKAEEIIIYQQDcMoASGEEEIIoUkkhBBCCCE0iYQQQgghhCaREEIIIYRYZRJbW1upHGGdoP6E+lN/Qv0TWH+OJBJCCCGEEJpEQgghhBBCk0gIIYQQQmgSCSGEEEIITSIhhBBCCIkKKcEC6D01k52dTeUIIYQQQmzAxYsXdT/PysqK6LyOcN7d7HA4wFc+E9YJ6k+oP/Un1D9x9ed0MyGEEEIIoUkkhBBCCCE0iYQQQgghhCaREEIIIYTQJBJCCCGEEJpEQgghhBBCk2hreqtHw+Fw4E5HKY59Edu4T5U44HA4cMeIalww8LtBdGHPNOm3jrlNLERCCCGE2NMkKkbL4XDgqYOBv9c1Nde24iH5+6wXrhiKW2uY7hhRjX1h5uErXMRnsVTx2lZsqpX+/PbzhZhs4KfDMRGPLB0FAEg9uhkbO+Kvwg6iC6eWZajl7nA44HjwQZ/6oxdu9uQwDH1PPd5YOc3nPJXHe0JKW1hx2gEr831tK8qc0g3YPgP1wF+ccVEuds9zCOnr+EMjyr93vxrfbY48LKls0r2RtV2Z2D1/IaTPg6b5AfvGeNTf0vyFmL6Y90+xQIRBmD/zxT1PAJCOYrfP1ydXQP1+dEqVOB/g9wsOGIv6a1EvVsu/TYVTbGg39vvrVaMM/VYbn15eoxVvoHRkVvQIszCtToSQ9lQ4xfTFVaKxsVHUv79DLFv1gBi5vUkNNyA6RW2OrHVenigpKRFlM+4zrJtefO9VLxGzdeqcWXHaQX8r863UbwAiDS6xVyeMkThjVS6R6G/3PIeSPm27NGllqVi26gG/bXs0yiTa+luZv1DS5zd+nXY+HvW3Mn+hpi/W/VOs+l9LTaLWsHibQA9T5Uc8xUSGI6y2oHQNqA1NYqRp9tYtknPE2iQqeQ9Fb/Wi9tK558QiQ/or5/G5Aflyi2SYNOcxK0476G9FvrV1e+T2JlGbE7zDDiXOWJVLOPrbPc9G0zdye5NneyLXF+9rNhplEgv9Y50/I+nzTmsqnOLV15frmqh41N+K/BlJnxX9U1KYRG0h+IirdEjQv2MwyzDFakTPlJFEjSaRjAJGOhppyUiinPdg+Q50sSrfhdIQKWZaVyMvs2RmnHbQ35J8f7lFPIzviw3tgX9rJM5YlktY+ts9zyGmL5T2XbnhiFaZRFN/y/IXRvrUfqbYrc606fWb8ap/TPNnJH0W9E+x6n8tXZOoXSN3Ey24dE6zHvHIDjQDQF4eZsuftZ3tVL+/hQ60ntFfmxfKfL/3mkTtupIr//H3+P5szZoCzaG3JuFbV914Y+W0oXBTV3qs9ztV4sA3HIXYqXxwtEBd06KEG0QX3n9taeA1Cm2fSZoAmDJprI+eoaY7LWOmqvm771xBPNB7ZAc+gROP/3hswHBKvRiZ8iTmZfjWt/QZ0jrS7hDWY06YPEpXI6VuZk5NNz1OO2BJvu/6OU6I09icAdPK1/blYvc8h5i+YKTCiQlTYL9rxe75CyN9vy8pxEG4sPdIftTbRyv0j2n+DKTPiv4pKR5c0RoWADj3xVCndOlCn9xjPYmFOXLYo4dVozOi6S3VdGkNUz8a8DNHOmb9c6dqqADg5MVdWJiZp/uAjPfDMuN+8C/46GRo6b+JFvxjwd/iH2rODH14rga/vCfP0IMhLSXp+GHZPp80l947ZGB7O075NEphpTtzuq7xtjOXLvThdmRjxB+rAi4eH3GtFWcB3Hg0Q/ehHsUAaW9I/DGq7HeozQHaKsZhxtPVeLenG+/VZOHO8j6g2I13No01PU47YOd8G4kzUcolXvOsdIi3IxvjM5Bw14rt8ic/1PjXFeuxxIS6ZDtsnD8r+qekMYn9+YuxWv77zy/V44Js9I7IT/Au+NEqdbRR67AVw5QGF/Lne95p7JSN1LZj3RBCQHQfx2rZ0H2w0P+2Mf1oQGW5bE6L3TgvBAZEJ2plk4piN66LGp8KmgYXjrYJCCFwvWqUzyjdzN0CX4t6NZ8odkMIgf8RH0p3KZonljMreiDkeHt/+RTuHYCPcdY2SuGku/+uLExF/DCILnR+CvRiFzY+9BOczlyEf3L/O+rf34GluS14c10B7o3Clj7DMRFLP+/EyWfS8dlb5Xhi/N3IX9kmldGRfENPlscTyZpvYi5/ql6OnQB6ix/z26kzf+a1kXuK1qM9pUq9iUsk7Jw/q/qnWJFi+V0yHsXcFcDOWmDYQCs+AzBZdtvKiFna1ZkA6lTjtWlTPxr3SqboVkoWpmvMkmIubxZvxNqicdI/4wqxtmoUdpb34S8DB1DXUYZNQYaQFyxQOkN5SvxMH0Y3dOACPDvJVDixrL0Gc+TzfadsD1aXS0ZVGqULXqEV09YMoO3IVhyb/wbmTJqIO9bsh3uNMT1DTbdCoO/sRhpcWNZeoxn+L8CPfvB3mDItHZuOHsY+5BtqrAfRhaZ/u+RpkP43Hflz7x76/9ph1LV3IhVOTMkVOH36NK5WLILr1m+w64VxCdvBm53vULQmse/colYm17ZiYXkf0uDCy36mBuMaE/Jnpv7Dm57DijPAggNlCXkTF438mV3/ze6faBI1TJg8CkAferELTQdrkN8nrX1Kk0fM+jMWYzXqVON1C1/rrkdUhnIByOv+wk/T22834Rfz85GJLtWQRtMoKyYW52pQnFmDVDjxxLaN+OlaycApdytmpHsYMpCVA+BM/FXY8X7WcfSekerOklxjDc8jj9T5XOgvK6OuTfPhKKjD6JQq7G8rw5xJAHrqsefxIqzYPB67z7shErEDjEK+g2pNLOl4o1Em/WjAujHr8QmceLY98crXrPyZpX8/GrCuoA4oduO38xOvnkYrf9Go/2b2T3bBFm9cSZu7Rl0jd+6LK+q0qjKMr5oaSOsSD/VdVkcagy0UDcesKSbzXocDKY50rJDN1EP7o3eXllZ2A+1X/xVlM+4DIE1Xv7muAPnyQzVKZTMj3dqHfuKiMzOwoFcZlZVGSH25dKFvaE1n/kHIT/irhzIt348GrCmoQxpceKVfNkoAMK4QSz+XpvKVDckNxRkHDXJU8h1Aa0PpMxBnopRL1PJsUpl4j868OU2aSSk68KHPov94LxNT82eS/sq096xLh+FyudSj/LmrAKTZKZfLhV+9HZ/6Ry1/Jukftf6JJtFXOABo+69tqGuV/laeotQ+Bf0VLuLES++gGTpr87Rr7eR1f96Hug7QTwOgjL7l5mos/5RSbDvWHfW7tIzvPoKqT/4TA6ITJ1dIn90YKMcrB4M3XOGm298CWrvhb0GvMsKqXFjKDYWydMHbAB2p9a03usZbHpXWLmfwbhSGLiJz4rQDds+3kTgTpVziJc+D6MLeaenytKDQbXfiuUzsnr+TF3dh9+7d6lH96cfyyEuN9FnnlbjW3875i3X/FFPssiee9u0q0NvDT/t2lhB2uk+FU2w71j30ZXuHOPlMusiHtKei7j6LchxGNsT0DutvP8RAG4eLL7eIWdkuj/Tqnd/v/oYG0u2zB6WFmwkbQs6jj3Y6nys6hbrJaqD9uALtW6f9zow47aC/HfIdbL8wI3HGqlwi1d/ueQ6WPm17WlTfE1LbaWb6oq2/1fkLaw89nX0E41V/q/MXNH0x7p+SZjNtXYH8vP7G+w0s8Ldxpc4m3HrGUs8k6sWhHLm5uaJkY3fYJjGgEQ6QZo9K5+c1hEbS7X0es17Nhxi9cUXRLdCrjDz0mFIqSkpKxKrc0F/75FMn8/LE09vc6uvpHpjlq51ZcdpBfyvyPSA6xe8WLhYlJSWipKREfZPFpJXSOZ/e5lavAyNxxqpcEOYbJ+ycZyPpU9s2OT7v4+lt7qiWSbT1tyJ/RtJnxETFo/5W5M9I+qzon5LOJPoYpSDvcg44atZ9XLxemuN5PrnD0ytUxYgNiE4fIwc/xjQck/i1qBd7Mu8dOt+UUrVC9JxYpHbCynlnFrl1XwMFnV3mQ013wBFJO48kKvl8Jt2jXKcvrhJH2/zXAa2e0xcbfzPPFXelerErh/eor9lx2kH/WOc70I2ObuNpJM4YlEs4+ts9z6Gmz/tdukFvdqNQJtHU36r8Ga4fIZqoeNPfqvwZTZ8V/VMs+l+HHIEhHA4HwviZ7emtHo07y6WFo8+2a9Yu9tRjzfgi7AQwOqUKTf3WbDOgXROjTYeRdGdqzmHm06WJWifiBepP/ak/9af+1N/8NdFERX3LixdXuzqGttaxEO0DPNJ+j8bTPfzaYeyXn2wOtHM9IYQQQpIbmkQN0n6N0vYzL94z9N7jsQVr0QzpCaUVF63drFTZLkj7Rhcj6Vbev2v29kGEEEIIoUlMWNLKbuCKu1Ldq1AhFU5MX1yF/W0fRvwy+Ii56+d4Qd4eR3mNYajp1m6Vc7N4o/V5IYQQQoht4ZpEYk5FYp2g/tSfQlB/6k8SSn+OJBJCCCGEEB+Cvru5tbXVr3MlhHWC+hPqT/0J9bcWf14tKysrsnLldDMxq4FgnaD+1J9Qf+pPEkd/TjcTQgghhBCaREIIIYQQQpNICCGEEEJoEgkhhBBCCE0iIYQQQgihSSSEEEIIITSJhBBCCCEk2U1ib/VoOBwOv8dTB1lYJHw6/tCI8u/dr9an2xx5WFLZhAsRhiXm64+eeryxchoe0lz/syeXovJ4D4U0g6b5qrZZL1zx/O7aVg/dtcedjlLso3rRrf/U3/L2ZxBdOLUsw6f9OfZFcmpnm820e6tH487yPr/fLzgg8Nv5rOy2rUg23kxVqVupcOK7Kycjd/hZ/Pq1j6Qvi90QR/LDCkv9QzcljoK6kDTtRwPWOQpRCyfuWfwkXvzxBIy4fBAvl+1Ds43bgXjZTHgQXdg7LR0rzkj/Z1b0oHXTWE+TMmY9RLYLGbme+fnW9cewrKEAk1n/o1b/qb+17b/H9ZGXh5LMTHzz87Oo/vRjpMKJZ9s/xOaMJNNfhEGYPwvI9apRAoAAIBYcECTOiEadMLNujdzeJM5rP/xyi5gNiFQ4xYb28MJS/8j1T4NL7NVpB3zaADk8it3UP8KySIVTvPr6cgFAZFb06Oocb21wotR/6m99+w+ddqbnxCLdz5NBf65JJAlPWtkN/PdPf+hxBz5412NYmAPcRAsunQsvLIlc/69wEd0dQ59fuiDd8U+YQt3Mph8NqCzvw83ijXj27q8oiA3rP7Gu/R9EFxr3Su3Phi2eM0ZjHt6I2hwg7ejhpJvyjzuTqK5dnNsEXNuKMqe0ZuCvXn3PY8g45DUFPfUeaxWUcKdKfNfsKJ/5rA3RrCPxXuMTalo88iWvyVLXo0xdiY0d+mnXrt26zZGHWXOacAaXsWeafloH0aV+d8eI6qRfZ2fEkNC8RJ8Jk0fhJlrw7jue11HvkR1oBpA5NZ0ihcnvSwpxEC7stemSCUKsbP9voQOtZ4CRKU9inteU8nBMRPqMJDX18TbdrIbLy5Omn5RDHgb+WtSL1drPNUcqnJ7nVqawdMI9MAs+0zEnV0if+Zsi8A5vJC1KvlLh9Jsmj6lOP2lX0uBXTz9pTZbpNu+y8SnLCMNyuidE3PN0p28GRKeozZHq5/TFVeJQ92XR9EamGvY89Q8P+bpXr3lZf3/TzSO3N4nGxkbR2NgoDnVf5nRnjOo/9bew/Q+ypMXvUpgE19+WJtH70BakNpzWOJ33MnKpcIptx7qlD7uPq2ZtdEqVT1gAoqi+R9d8RWISjaRFm680uMTRNt/P9c6tTfuA6BQnn0mXwmnzoan0WjNq5vq6eGsk/K09iTQsG2k/dB8XjY2Nov79HeL10hxJzymluqZbqcfwcx1Sf2Moxlvb3gQziXo3qSUbu6l/tOs/9beu/adJTDyT6F1YHiN3XgXtbY60YT0azxBMXygm0UhaApk3vfMEOrcWrUlVzql85pPnZGok/C0ajzQsG2lD1/f0xVXqzZC35qtypXqbm5vLTtKkUSuP9tKfSdThirtSbd/s+kBFQtV/6m9N+0+TqIst1yQuOCAgG1gIIXBd1GBJCOvDRlxrxVnln6MFnntMeW2vow1749EM07cVMJKWSM4daI3WzCfmAYC6xqsfDThSK3337ecLbbmVQiwW768Zsx6fwIll7b71KtywJPjiceV6HhCd6DmxCCPfKsfCzDzP9bZN8+EYsx6HPq7C/rYP0dLSAtF9HDtzWrB783hpzS4xVt8L6oBid9hbB/1N/s/wgVtqSz5YyHXMUa3/1N827T+R4NPNiXxB5C/GavnvP79Uj0t/7FTN5ZRJY5NOj0F04c1phdgJoOhA4P2ujIQlxhiOiRj78G/wgXsebqIFL65v8jA0aXDhlf4yzJkk/2BcIZZ+3onaHCD16OagnSoZ4k/Vy7ETwKxLh+FyudSj/LmrAIC2I1vhcrnwq7eDnChzOmZTzqjWf+pvbfvff1cWpgIY3dCha8STdeeFlIQyRXIhNwNBNz7ux1BYqVLkhzyypj7hlGFOWiKh7WwnAH3DNwKPYm3VKOws78ONgXIsfyIXpwGkwYX8+cnXQCibpAbbkNlIWBI56vUnj5DfSsnCdJ2ONX0GgDPUKxxOXtyFkxd1vjhXg93ngMy0X+AnGEuhrKz/lMLS9n8YMpCVAww704rPAI/yUGbhbkc2xifZgMGwxMqMVMiANOLg8Rqvjk6cWpaBAoc0XK8Ne2OgHM83XJH+kXe8b9Y5/4TJowDAc4sOP+GNpMVwhZf3eAIAHC3AHDntynY72m140uauUe9AT58+DQDoLX4sqYbZtQ1EUX1PyAYxWFgSmva/zpri80q9QXTh1KE66fqTl3soN1bDBqRG2jt856fJ2UhHgnaa0+OQpy8zK3oghPB864qO9nuKpDYuWZepxKL+U39r2//hmIhHlo5CL3ah0msrO2VEPtn6TiDBRhKHYyKWH9+C/WPWoxktWDdnPNZ5BypWLsiJWL5lHlYUSBfq8cJxcARrcOeuwexy6WJtqxgHR4VsAuHEA7Na8NHJcNMSRj63zMP+gjo066Q9s8LbUK5Hs2YEZsGC5NonraVEfs3SlFKMrn8FrnrP7/9vwuPYtzbfcFgSGuKb57Fuzni8ACcWlmQBADp370YzpFHtl+VR9qGR711Y+mArmos24MnsQYy4fBAbDu3DR2eAzIr1XEcUJfrRgGedhfgcucjOzpbaj2+cV19hNjqlCu8EMJMksvpP/a1v/79Ttgerywuxs2IcHEdKUXL/LXzj4m68dtqzrJKrAtvw6eZQ9kkMuIVL93HxemmO51YCeXni6W2++6xdcVeKVbmeT5zVv7/D/16C8pOX8HpCTXlq2Cd8iGkx8nSz9txlM+7z2CZhZpHOXnLKnlxRfEoXNn26Tbvvnr9DedLbSFg+XWisDN6rXqLuPRroelSuSW29BiBmZbuGtpGi/qY98ezdXulpj7y8oS3CqH9U6z/1t6799+6ztf3q9MVVtt2jNdr6O+QIDBEvL7MPG80UcmZFT8CpmHjLT7TWRyZ8nbA51J/6U3/qT/2pv9nw6eYkQHmlGZB8U82EEEIIoUkkOvSjAZXyvozJ+FQzIYQQQmgSiQ4jmt7CTvnvv2x/nIv+CSGEEBISXJNIzKlIrBPUn/pTCOpP/UlC6c+RREIIIYQQ4kPQfRJbW1v9OldCWCeoP6H+1J9Qf2vx59WysrIiK9dwpptbW1sjjpgkXgVlnaD+1J9Qf+pPEkd/TjcTQgghhBCaREIIIYQQQpNICCGEEEJoEgkhhBBCiBmE9eAKIYQQQghJbDiSSAghhBBCaBIJIYQQQghNIiGEEEIIoUkkhBBCCCE0iYQQQgghhCaREEIIIYTQJBJCCCGEEJpEQgghhBBiF/4fXT/GdKazlI4AAAAASUVORK5CYII=)"
   ]
  },
  {
   "cell_type": "markdown",
   "metadata": {
    "id": "7UIerHvUeSqe"
   },
   "source": [
    "**Solution:**\n",
    "\n",
    "The formula to find geometric mean for grouped data is $GM=Antilog\\left[\\frac{\\sum f_ilog(x_i)}{\\sum f_i}\\right]$ \n",
    "\n",
    "We have;\n",
    "\n",
    "\\begin{array}{|c|c|} \\hline\n",
    "Weight(g) & Frequency(f) & Mid-Value(x) & Log(x) & f.log(x)\\\\ \\hline\n",
    "60 - 80 & 22 & 70 & 1.845 & 40.59 \\\\ \\hline\n",
    "80- 100 & 38 & 90 & 1.954 & 74.25 \\\\ \\hline\n",
    "100 - 120 & 45 & 110 & 2.041 & 91.85 \\\\ \\hline\n",
    "120 - 140 & 35 & 130 & 2.114 & 73.99 \\\\ \\hline\n",
    "140 - 160 & 20 & 150 & 2.176 & 43.52\\\\ \\hline\n",
    " & {\\sum f_i} = 160 & & & {\\sum f_ilog(x_i)} = 324.2\\\\ \\hline\n",
    "\\end{array}\n",
    "\n",
    "$GM=Antilog\\left[\\frac{\\sum f_ilog(x_i)}{\\sum f_i}\\right]$ \n",
    "\n",
    "We have;\n",
    "\n",
    "${\\sum f_i} = 160$\n",
    "\n",
    "$ {\\sum f_ilog(x_i)} = 324.2$\n",
    "\n",
    "$GM=Antilog\\left[\\frac{324.2}{160}\\right]$\n",
    "\n",
    "$GM=Antilog\\left[2.02625 \\right]$\n",
    "\n",
    "$GM = 106.23$\n",
    "\n",
    "Therefore, the **geometric mean** is **106.23**\n",
    "\n"
   ]
  },
  {
   "cell_type": "markdown",
   "metadata": {
    "id": "GkEe5Bsgj0aR"
   },
   "source": [
    "#### **Harmonic Mean**"
   ]
  },
  {
   "cell_type": "markdown",
   "metadata": {
    "id": "QOQaUNz6kBge"
   },
   "source": [
    "***To Do 4:"
   ]
  },
  {
   "cell_type": "markdown",
   "metadata": {
    "id": "2hpilUnDkTsW"
   },
   "source": [
    "**1).** Find the harmonic mean of $\\{2, 4, 5, 11, 14\\}$."
   ]
  },
  {
   "cell_type": "markdown",
   "metadata": {
    "id": "UG84pxBhmLeL"
   },
   "source": [
    "**Solution:**\n",
    "\n",
    "The formula to find harmonic mean is $HM=\\frac{n}{\\displaystyle\\sum_{i=1}^n\\frac{1}{x_i}}$\n",
    "\n",
    "n = 5\n",
    "\n",
    "Find the reciprocal of the values.\n",
    "\n",
    "$\\frac{1}{2} = 0.5$\n",
    "\n",
    "$\\frac{1}{4} = 0.25$\n",
    "\n",
    "$\\frac{1}{5} = 0.2$\n",
    "\n",
    "$\\frac{1}{11} = 0.0909090909$\n",
    "\n",
    "$\\frac{1}{14} = 0.714285714$\n",
    "\n",
    "${\\sum_{i=1}^n\\frac{1}{x_i}} = 1.1123376623$\n",
    "\n",
    "$HM=\\frac{5}{1.1123376623}$\n",
    "\n",
    "$HM = 4.4950379453$\n",
    "\n",
    "Therefore, the **harmonic mean** is **4.495**\n"
   ]
  },
  {
   "cell_type": "code",
   "execution_count": 3,
   "metadata": {
    "colab": {
     "base_uri": "https://localhost:8080/"
    },
    "id": "e2dWKCQWohIn",
    "outputId": "a6bf1e5c-8e18-4ef4-ebe4-de028bdba6e5"
   },
   "outputs": [
    {
     "name": "stdout",
     "output_type": "stream",
     "text": [
      "4.495037945125511\n"
     ]
    }
   ],
   "source": [
    "# Calculate Harmonic Mean\n",
    "from scipy import stats\n",
    "print(stats.hmean([2,4,5,11,14]))"
   ]
  },
  {
   "cell_type": "markdown",
   "metadata": {
    "id": "GnYyv7q2os8G"
   },
   "source": [
    "**2).** Derive the relationship between arithmetic mean(AM), geometric mean(GM), and harmonic mean(HM)."
   ]
  },
  {
   "cell_type": "code",
   "execution_count": 2,
   "metadata": {
    "colab": {
     "base_uri": "https://localhost:8080/"
    },
    "id": "qYu24rOxoydy",
    "outputId": "313c85c3-26de-439d-ea3e-5eb8bcaba736"
   },
   "outputs": [
    {
     "data": {
      "text/plain": [
       "7.2"
      ]
     },
     "execution_count": 2,
     "metadata": {},
     "output_type": "execute_result"
    }
   ],
   "source": [
    "# Calculate Arithmetic Mean \n",
    "import statistics as stat\n",
    "stat.mean([2,4,5,11,14])"
   ]
  },
  {
   "cell_type": "code",
   "execution_count": null,
   "metadata": {
    "colab": {
     "base_uri": "https://localhost:8080/"
    },
    "id": "k_uOimgLpYf4",
    "outputId": "35b4de23-97c7-4b2b-f3c5-7e8ea38e1d50"
   },
   "outputs": [
    {
     "name": "stdout",
     "output_type": "stream",
     "text": [
      "5.726854409448368\n"
     ]
    }
   ],
   "source": [
    "# Calculate Geometric Mean\n",
    "from scipy import stats\n",
    " \n",
    "print(stats.gmean([2,4,5,11,14]))"
   ]
  },
  {
   "cell_type": "code",
   "execution_count": 4,
   "metadata": {
    "colab": {
     "base_uri": "https://localhost:8080/"
    },
    "id": "1rG7Jczqpd7S",
    "outputId": "36b9a0d4-9d46-42fb-8e36-9ccae83bc6a2"
   },
   "outputs": [
    {
     "name": "stdout",
     "output_type": "stream",
     "text": [
      "4.495037945125511\n"
     ]
    }
   ],
   "source": [
    "# calculate harmonic mean\n",
    "from scipy import stats\n",
    "print(stats.hmean([2,4,5,11,14]))"
   ]
  },
  {
   "cell_type": "code",
   "execution_count": null,
   "metadata": {
    "colab": {
     "base_uri": "https://localhost:8080/"
    },
    "id": "0iXM-IAmpvtY",
    "outputId": "46dd8baf-ff24-4e1d-ec83-d70965d30b99"
   },
   "outputs": [
    {
     "name": "stdout",
     "output_type": "stream",
     "text": [
      "32.36427320490368\n",
      "32.796861427018214\n"
     ]
    }
   ],
   "source": [
    "AM = 7.2\n",
    "GM = 5.726854409448368\n",
    "HM = 4.495037945125511\n",
    "\n",
    "product = AM * HM\n",
    "\n",
    "squ = (GM*GM)\n",
    "print(product)\n",
    "print(squ)"
   ]
  },
  {
   "cell_type": "markdown",
   "metadata": {
    "id": "9qk2at9yqbId"
   },
   "source": [
    "So from the above examples we can say that the relationship between AM, HM and GM is that the product of Arithmetic Mean(AM) and Harmonic Mean(HM) is equal to the square of Geometric Mean(GM).\n",
    "\n",
    "The formula can be represented as $AM * HM$ = $GM^2$"
   ]
  },
  {
   "cell_type": "markdown",
   "metadata": {
    "id": "xDEeonCOr5k2"
   },
   "source": [
    "**Q).** Find the arithmetic mean, geometric mean, and harmonic mean for all possible columns of the inbuilt seaborn datasets \"iris\" and the \"titanic\"."
   ]
  },
  {
   "cell_type": "code",
   "execution_count": 11,
   "metadata": {
    "id": "birFM6v1r6Qe"
   },
   "outputs": [],
   "source": [
    "import seaborn as sns\n",
    "import statistics as stat\n",
    "from scipy import stats"
   ]
  },
  {
   "cell_type": "markdown",
   "metadata": {
    "id": "YKgHSZM_w4d_"
   },
   "source": [
    "### Iris"
   ]
  },
  {
   "cell_type": "code",
   "execution_count": 12,
   "metadata": {
    "colab": {
     "base_uri": "https://localhost:8080/",
     "height": 424
    },
    "id": "DsIiA65vsJdD",
    "outputId": "5c7b9cbd-c472-4779-cf83-a89a7b9c0f46"
   },
   "outputs": [
    {
     "data": {
      "text/html": [
       "<div>\n",
       "<style scoped>\n",
       "    .dataframe tbody tr th:only-of-type {\n",
       "        vertical-align: middle;\n",
       "    }\n",
       "\n",
       "    .dataframe tbody tr th {\n",
       "        vertical-align: top;\n",
       "    }\n",
       "\n",
       "    .dataframe thead th {\n",
       "        text-align: right;\n",
       "    }\n",
       "</style>\n",
       "<table border=\"1\" class=\"dataframe\">\n",
       "  <thead>\n",
       "    <tr style=\"text-align: right;\">\n",
       "      <th></th>\n",
       "      <th>sepal_length</th>\n",
       "      <th>sepal_width</th>\n",
       "      <th>petal_length</th>\n",
       "      <th>petal_width</th>\n",
       "      <th>species</th>\n",
       "    </tr>\n",
       "  </thead>\n",
       "  <tbody>\n",
       "    <tr>\n",
       "      <th>0</th>\n",
       "      <td>5.1</td>\n",
       "      <td>3.5</td>\n",
       "      <td>1.4</td>\n",
       "      <td>0.2</td>\n",
       "      <td>setosa</td>\n",
       "    </tr>\n",
       "    <tr>\n",
       "      <th>1</th>\n",
       "      <td>4.9</td>\n",
       "      <td>3.0</td>\n",
       "      <td>1.4</td>\n",
       "      <td>0.2</td>\n",
       "      <td>setosa</td>\n",
       "    </tr>\n",
       "    <tr>\n",
       "      <th>2</th>\n",
       "      <td>4.7</td>\n",
       "      <td>3.2</td>\n",
       "      <td>1.3</td>\n",
       "      <td>0.2</td>\n",
       "      <td>setosa</td>\n",
       "    </tr>\n",
       "    <tr>\n",
       "      <th>3</th>\n",
       "      <td>4.6</td>\n",
       "      <td>3.1</td>\n",
       "      <td>1.5</td>\n",
       "      <td>0.2</td>\n",
       "      <td>setosa</td>\n",
       "    </tr>\n",
       "    <tr>\n",
       "      <th>4</th>\n",
       "      <td>5.0</td>\n",
       "      <td>3.6</td>\n",
       "      <td>1.4</td>\n",
       "      <td>0.2</td>\n",
       "      <td>setosa</td>\n",
       "    </tr>\n",
       "    <tr>\n",
       "      <th>...</th>\n",
       "      <td>...</td>\n",
       "      <td>...</td>\n",
       "      <td>...</td>\n",
       "      <td>...</td>\n",
       "      <td>...</td>\n",
       "    </tr>\n",
       "    <tr>\n",
       "      <th>145</th>\n",
       "      <td>6.7</td>\n",
       "      <td>3.0</td>\n",
       "      <td>5.2</td>\n",
       "      <td>2.3</td>\n",
       "      <td>virginica</td>\n",
       "    </tr>\n",
       "    <tr>\n",
       "      <th>146</th>\n",
       "      <td>6.3</td>\n",
       "      <td>2.5</td>\n",
       "      <td>5.0</td>\n",
       "      <td>1.9</td>\n",
       "      <td>virginica</td>\n",
       "    </tr>\n",
       "    <tr>\n",
       "      <th>147</th>\n",
       "      <td>6.5</td>\n",
       "      <td>3.0</td>\n",
       "      <td>5.2</td>\n",
       "      <td>2.0</td>\n",
       "      <td>virginica</td>\n",
       "    </tr>\n",
       "    <tr>\n",
       "      <th>148</th>\n",
       "      <td>6.2</td>\n",
       "      <td>3.4</td>\n",
       "      <td>5.4</td>\n",
       "      <td>2.3</td>\n",
       "      <td>virginica</td>\n",
       "    </tr>\n",
       "    <tr>\n",
       "      <th>149</th>\n",
       "      <td>5.9</td>\n",
       "      <td>3.0</td>\n",
       "      <td>5.1</td>\n",
       "      <td>1.8</td>\n",
       "      <td>virginica</td>\n",
       "    </tr>\n",
       "  </tbody>\n",
       "</table>\n",
       "<p>150 rows × 5 columns</p>\n",
       "</div>"
      ],
      "text/plain": [
       "     sepal_length  sepal_width  petal_length  petal_width    species\n",
       "0             5.1          3.5           1.4          0.2     setosa\n",
       "1             4.9          3.0           1.4          0.2     setosa\n",
       "2             4.7          3.2           1.3          0.2     setosa\n",
       "3             4.6          3.1           1.5          0.2     setosa\n",
       "4             5.0          3.6           1.4          0.2     setosa\n",
       "..            ...          ...           ...          ...        ...\n",
       "145           6.7          3.0           5.2          2.3  virginica\n",
       "146           6.3          2.5           5.0          1.9  virginica\n",
       "147           6.5          3.0           5.2          2.0  virginica\n",
       "148           6.2          3.4           5.4          2.3  virginica\n",
       "149           5.9          3.0           5.1          1.8  virginica\n",
       "\n",
       "[150 rows x 5 columns]"
      ]
     },
     "execution_count": 12,
     "metadata": {},
     "output_type": "execute_result"
    }
   ],
   "source": [
    "iris = sns.load_dataset('iris')\n",
    "iris"
   ]
  },
  {
   "cell_type": "markdown",
   "metadata": {
    "id": "GIFQcV_exCew"
   },
   "source": [
    "###Arithmetic Mean"
   ]
  },
  {
   "cell_type": "code",
   "execution_count": 14,
   "metadata": {
    "colab": {
     "base_uri": "https://localhost:8080/"
    },
    "id": "mjp6xFCAssZG",
    "outputId": "8e9a2de2-63a6-47e0-e3e1-89614ff2c365"
   },
   "outputs": [
    {
     "data": {
      "text/plain": [
       "5.843333333333335"
      ]
     },
     "execution_count": 14,
     "metadata": {},
     "output_type": "execute_result"
    }
   ],
   "source": [
    "#Arithmetic Mean\n",
    "iris['sepal_length'].mean()"
   ]
  },
  {
   "cell_type": "code",
   "execution_count": 15,
   "metadata": {
    "colab": {
     "base_uri": "https://localhost:8080/"
    },
    "id": "O-5izY-TuMfD",
    "outputId": "0106d178-1ae9-4bd3-8b57-046ef607b6cb"
   },
   "outputs": [
    {
     "data": {
      "text/plain": [
       "3.057333333333334"
      ]
     },
     "execution_count": 15,
     "metadata": {},
     "output_type": "execute_result"
    }
   ],
   "source": [
    "iris['sepal_width'].mean()"
   ]
  },
  {
   "cell_type": "code",
   "execution_count": 16,
   "metadata": {
    "colab": {
     "base_uri": "https://localhost:8080/"
    },
    "id": "BGfYZNHtuOt_",
    "outputId": "b3597485-4fa6-4e2f-c037-a4a1047d54a3"
   },
   "outputs": [
    {
     "data": {
      "text/plain": [
       "3.7580000000000027"
      ]
     },
     "execution_count": 16,
     "metadata": {},
     "output_type": "execute_result"
    }
   ],
   "source": [
    "iris['petal_length'].mean()"
   ]
  },
  {
   "cell_type": "code",
   "execution_count": 17,
   "metadata": {
    "colab": {
     "base_uri": "https://localhost:8080/"
    },
    "id": "t3kGBdf7uQQL",
    "outputId": "a38b90c9-2f80-4644-b28b-6908e867474c"
   },
   "outputs": [
    {
     "data": {
      "text/plain": [
       "1.199333333333334"
      ]
     },
     "execution_count": 17,
     "metadata": {},
     "output_type": "execute_result"
    }
   ],
   "source": [
    "iris['petal_width'].mean()"
   ]
  },
  {
   "cell_type": "markdown",
   "metadata": {
    "id": "QlJgrIpnxF9c"
   },
   "source": [
    "###Geometric Mean"
   ]
  },
  {
   "cell_type": "code",
   "execution_count": 18,
   "metadata": {
    "colab": {
     "base_uri": "https://localhost:8080/"
    },
    "id": "YySQn6U5uY8K",
    "outputId": "10f2db67-40e6-4026-8d48-eb06f938cdcf"
   },
   "outputs": [
    {
     "data": {
      "text/plain": [
       "5.785720390427728"
      ]
     },
     "execution_count": 18,
     "metadata": {},
     "output_type": "execute_result"
    }
   ],
   "source": [
    "#Geometric Mean\n",
    "stats.gmean(iris.loc[:, \"sepal_length\"])"
   ]
  },
  {
   "cell_type": "code",
   "execution_count": 19,
   "metadata": {
    "colab": {
     "base_uri": "https://localhost:8080/"
    },
    "id": "RFFVRrPTu8Ds",
    "outputId": "442f8a35-a38f-4aaa-a887-9694b0ef0708"
   },
   "outputs": [
    {
     "data": {
      "text/plain": [
       "3.02659784973356"
      ]
     },
     "execution_count": 19,
     "metadata": {},
     "output_type": "execute_result"
    }
   ],
   "source": [
    "stats.gmean(iris.loc[:, \"sepal_width\"])"
   ]
  },
  {
   "cell_type": "code",
   "execution_count": 20,
   "metadata": {
    "colab": {
     "base_uri": "https://localhost:8080/"
    },
    "id": "0qzhFKBZu-1P",
    "outputId": "7b97a60b-cc18-40ab-81bc-e18d1a0a507e"
   },
   "outputs": [
    {
     "data": {
      "text/plain": [
       "3.238266844512273"
      ]
     },
     "execution_count": 20,
     "metadata": {},
     "output_type": "execute_result"
    }
   ],
   "source": [
    "stats.gmean(iris.loc[:, \"petal_length\"])"
   ]
  },
  {
   "cell_type": "code",
   "execution_count": 21,
   "metadata": {
    "colab": {
     "base_uri": "https://localhost:8080/"
    },
    "id": "bJgLzmw7vBnn",
    "outputId": "15e8dad6-5aab-4cd7-e52b-24d184acd7f8"
   },
   "outputs": [
    {
     "data": {
      "text/plain": [
       "0.8417075469176013"
      ]
     },
     "execution_count": 21,
     "metadata": {},
     "output_type": "execute_result"
    }
   ],
   "source": [
    "stats.gmean(iris.loc[:, \"petal_width\"])"
   ]
  },
  {
   "cell_type": "markdown",
   "metadata": {
    "id": "qr8_ADrrxJSy"
   },
   "source": [
    "###Harmonic Mean"
   ]
  },
  {
   "cell_type": "code",
   "execution_count": 22,
   "metadata": {
    "colab": {
     "base_uri": "https://localhost:8080/"
    },
    "id": "zh_4ZlaqvH8r",
    "outputId": "40944ebf-8f2c-40a6-ecad-fa0c1a078805"
   },
   "outputs": [
    {
     "data": {
      "text/plain": [
       "5.728905057850834"
      ]
     },
     "execution_count": 22,
     "metadata": {},
     "output_type": "execute_result"
    }
   ],
   "source": [
    "#Harmonic Mean\n",
    "stats.hmean(iris.loc[:, \"sepal_length\"])"
   ]
  },
  {
   "cell_type": "code",
   "execution_count": 23,
   "metadata": {
    "colab": {
     "base_uri": "https://localhost:8080/"
    },
    "id": "1LN_irknvade",
    "outputId": "dbefae4c-d5b7-44b8-b9f0-528dff685fc9"
   },
   "outputs": [
    {
     "data": {
      "text/plain": [
       "2.995815074916938"
      ]
     },
     "execution_count": 23,
     "metadata": {},
     "output_type": "execute_result"
    }
   ],
   "source": [
    "stats.hmean(iris.loc[:, \"sepal_width\"])"
   ]
  },
  {
   "cell_type": "code",
   "execution_count": 24,
   "metadata": {
    "colab": {
     "base_uri": "https://localhost:8080/"
    },
    "id": "uyVVNnatvfnW",
    "outputId": "26c8f07c-5743-44fb-90bc-88cbf0ade0be"
   },
   "outputs": [
    {
     "data": {
      "text/plain": [
       "2.6941655339916752"
      ]
     },
     "execution_count": 24,
     "metadata": {},
     "output_type": "execute_result"
    }
   ],
   "source": [
    "stats.hmean(iris.loc[:, \"petal_length\"])"
   ]
  },
  {
   "cell_type": "code",
   "execution_count": 25,
   "metadata": {
    "colab": {
     "base_uri": "https://localhost:8080/"
    },
    "id": "tDO4kwJwvigL",
    "outputId": "7fa71a5b-ccdc-4f9d-d145-c82c76023884"
   },
   "outputs": [
    {
     "data": {
      "text/plain": [
       "0.49467077749202265"
      ]
     },
     "execution_count": 25,
     "metadata": {},
     "output_type": "execute_result"
    }
   ],
   "source": [
    "stats.hmean(iris.loc[:, \"petal_width\"])"
   ]
  },
  {
   "cell_type": "markdown",
   "metadata": {
    "id": "sP0sNRpjw9_C"
   },
   "source": [
    "###Titanic"
   ]
  },
  {
   "cell_type": "code",
   "execution_count": 26,
   "metadata": {
    "colab": {
     "base_uri": "https://localhost:8080/",
     "height": 424
    },
    "id": "47xfnHqEvq54",
    "outputId": "d865acb3-7e47-4e75-d69d-6024c730cdb4"
   },
   "outputs": [
    {
     "data": {
      "text/html": [
       "<div>\n",
       "<style scoped>\n",
       "    .dataframe tbody tr th:only-of-type {\n",
       "        vertical-align: middle;\n",
       "    }\n",
       "\n",
       "    .dataframe tbody tr th {\n",
       "        vertical-align: top;\n",
       "    }\n",
       "\n",
       "    .dataframe thead th {\n",
       "        text-align: right;\n",
       "    }\n",
       "</style>\n",
       "<table border=\"1\" class=\"dataframe\">\n",
       "  <thead>\n",
       "    <tr style=\"text-align: right;\">\n",
       "      <th></th>\n",
       "      <th>survived</th>\n",
       "      <th>pclass</th>\n",
       "      <th>sex</th>\n",
       "      <th>age</th>\n",
       "      <th>sibsp</th>\n",
       "      <th>parch</th>\n",
       "      <th>fare</th>\n",
       "      <th>embarked</th>\n",
       "      <th>class</th>\n",
       "      <th>who</th>\n",
       "      <th>adult_male</th>\n",
       "      <th>deck</th>\n",
       "      <th>embark_town</th>\n",
       "      <th>alive</th>\n",
       "      <th>alone</th>\n",
       "    </tr>\n",
       "  </thead>\n",
       "  <tbody>\n",
       "    <tr>\n",
       "      <th>0</th>\n",
       "      <td>0</td>\n",
       "      <td>3</td>\n",
       "      <td>male</td>\n",
       "      <td>22.0</td>\n",
       "      <td>1</td>\n",
       "      <td>0</td>\n",
       "      <td>7.2500</td>\n",
       "      <td>S</td>\n",
       "      <td>Third</td>\n",
       "      <td>man</td>\n",
       "      <td>True</td>\n",
       "      <td>NaN</td>\n",
       "      <td>Southampton</td>\n",
       "      <td>no</td>\n",
       "      <td>False</td>\n",
       "    </tr>\n",
       "    <tr>\n",
       "      <th>1</th>\n",
       "      <td>1</td>\n",
       "      <td>1</td>\n",
       "      <td>female</td>\n",
       "      <td>38.0</td>\n",
       "      <td>1</td>\n",
       "      <td>0</td>\n",
       "      <td>71.2833</td>\n",
       "      <td>C</td>\n",
       "      <td>First</td>\n",
       "      <td>woman</td>\n",
       "      <td>False</td>\n",
       "      <td>C</td>\n",
       "      <td>Cherbourg</td>\n",
       "      <td>yes</td>\n",
       "      <td>False</td>\n",
       "    </tr>\n",
       "    <tr>\n",
       "      <th>2</th>\n",
       "      <td>1</td>\n",
       "      <td>3</td>\n",
       "      <td>female</td>\n",
       "      <td>26.0</td>\n",
       "      <td>0</td>\n",
       "      <td>0</td>\n",
       "      <td>7.9250</td>\n",
       "      <td>S</td>\n",
       "      <td>Third</td>\n",
       "      <td>woman</td>\n",
       "      <td>False</td>\n",
       "      <td>NaN</td>\n",
       "      <td>Southampton</td>\n",
       "      <td>yes</td>\n",
       "      <td>True</td>\n",
       "    </tr>\n",
       "    <tr>\n",
       "      <th>3</th>\n",
       "      <td>1</td>\n",
       "      <td>1</td>\n",
       "      <td>female</td>\n",
       "      <td>35.0</td>\n",
       "      <td>1</td>\n",
       "      <td>0</td>\n",
       "      <td>53.1000</td>\n",
       "      <td>S</td>\n",
       "      <td>First</td>\n",
       "      <td>woman</td>\n",
       "      <td>False</td>\n",
       "      <td>C</td>\n",
       "      <td>Southampton</td>\n",
       "      <td>yes</td>\n",
       "      <td>False</td>\n",
       "    </tr>\n",
       "    <tr>\n",
       "      <th>4</th>\n",
       "      <td>0</td>\n",
       "      <td>3</td>\n",
       "      <td>male</td>\n",
       "      <td>35.0</td>\n",
       "      <td>0</td>\n",
       "      <td>0</td>\n",
       "      <td>8.0500</td>\n",
       "      <td>S</td>\n",
       "      <td>Third</td>\n",
       "      <td>man</td>\n",
       "      <td>True</td>\n",
       "      <td>NaN</td>\n",
       "      <td>Southampton</td>\n",
       "      <td>no</td>\n",
       "      <td>True</td>\n",
       "    </tr>\n",
       "    <tr>\n",
       "      <th>...</th>\n",
       "      <td>...</td>\n",
       "      <td>...</td>\n",
       "      <td>...</td>\n",
       "      <td>...</td>\n",
       "      <td>...</td>\n",
       "      <td>...</td>\n",
       "      <td>...</td>\n",
       "      <td>...</td>\n",
       "      <td>...</td>\n",
       "      <td>...</td>\n",
       "      <td>...</td>\n",
       "      <td>...</td>\n",
       "      <td>...</td>\n",
       "      <td>...</td>\n",
       "      <td>...</td>\n",
       "    </tr>\n",
       "    <tr>\n",
       "      <th>886</th>\n",
       "      <td>0</td>\n",
       "      <td>2</td>\n",
       "      <td>male</td>\n",
       "      <td>27.0</td>\n",
       "      <td>0</td>\n",
       "      <td>0</td>\n",
       "      <td>13.0000</td>\n",
       "      <td>S</td>\n",
       "      <td>Second</td>\n",
       "      <td>man</td>\n",
       "      <td>True</td>\n",
       "      <td>NaN</td>\n",
       "      <td>Southampton</td>\n",
       "      <td>no</td>\n",
       "      <td>True</td>\n",
       "    </tr>\n",
       "    <tr>\n",
       "      <th>887</th>\n",
       "      <td>1</td>\n",
       "      <td>1</td>\n",
       "      <td>female</td>\n",
       "      <td>19.0</td>\n",
       "      <td>0</td>\n",
       "      <td>0</td>\n",
       "      <td>30.0000</td>\n",
       "      <td>S</td>\n",
       "      <td>First</td>\n",
       "      <td>woman</td>\n",
       "      <td>False</td>\n",
       "      <td>B</td>\n",
       "      <td>Southampton</td>\n",
       "      <td>yes</td>\n",
       "      <td>True</td>\n",
       "    </tr>\n",
       "    <tr>\n",
       "      <th>888</th>\n",
       "      <td>0</td>\n",
       "      <td>3</td>\n",
       "      <td>female</td>\n",
       "      <td>NaN</td>\n",
       "      <td>1</td>\n",
       "      <td>2</td>\n",
       "      <td>23.4500</td>\n",
       "      <td>S</td>\n",
       "      <td>Third</td>\n",
       "      <td>woman</td>\n",
       "      <td>False</td>\n",
       "      <td>NaN</td>\n",
       "      <td>Southampton</td>\n",
       "      <td>no</td>\n",
       "      <td>False</td>\n",
       "    </tr>\n",
       "    <tr>\n",
       "      <th>889</th>\n",
       "      <td>1</td>\n",
       "      <td>1</td>\n",
       "      <td>male</td>\n",
       "      <td>26.0</td>\n",
       "      <td>0</td>\n",
       "      <td>0</td>\n",
       "      <td>30.0000</td>\n",
       "      <td>C</td>\n",
       "      <td>First</td>\n",
       "      <td>man</td>\n",
       "      <td>True</td>\n",
       "      <td>C</td>\n",
       "      <td>Cherbourg</td>\n",
       "      <td>yes</td>\n",
       "      <td>True</td>\n",
       "    </tr>\n",
       "    <tr>\n",
       "      <th>890</th>\n",
       "      <td>0</td>\n",
       "      <td>3</td>\n",
       "      <td>male</td>\n",
       "      <td>32.0</td>\n",
       "      <td>0</td>\n",
       "      <td>0</td>\n",
       "      <td>7.7500</td>\n",
       "      <td>Q</td>\n",
       "      <td>Third</td>\n",
       "      <td>man</td>\n",
       "      <td>True</td>\n",
       "      <td>NaN</td>\n",
       "      <td>Queenstown</td>\n",
       "      <td>no</td>\n",
       "      <td>True</td>\n",
       "    </tr>\n",
       "  </tbody>\n",
       "</table>\n",
       "<p>891 rows × 15 columns</p>\n",
       "</div>"
      ],
      "text/plain": [
       "     survived  pclass     sex   age  sibsp  parch     fare embarked   class  \\\n",
       "0           0       3    male  22.0      1      0   7.2500        S   Third   \n",
       "1           1       1  female  38.0      1      0  71.2833        C   First   \n",
       "2           1       3  female  26.0      0      0   7.9250        S   Third   \n",
       "3           1       1  female  35.0      1      0  53.1000        S   First   \n",
       "4           0       3    male  35.0      0      0   8.0500        S   Third   \n",
       "..        ...     ...     ...   ...    ...    ...      ...      ...     ...   \n",
       "886         0       2    male  27.0      0      0  13.0000        S  Second   \n",
       "887         1       1  female  19.0      0      0  30.0000        S   First   \n",
       "888         0       3  female   NaN      1      2  23.4500        S   Third   \n",
       "889         1       1    male  26.0      0      0  30.0000        C   First   \n",
       "890         0       3    male  32.0      0      0   7.7500        Q   Third   \n",
       "\n",
       "       who  adult_male deck  embark_town alive  alone  \n",
       "0      man        True  NaN  Southampton    no  False  \n",
       "1    woman       False    C    Cherbourg   yes  False  \n",
       "2    woman       False  NaN  Southampton   yes   True  \n",
       "3    woman       False    C  Southampton   yes  False  \n",
       "4      man        True  NaN  Southampton    no   True  \n",
       "..     ...         ...  ...          ...   ...    ...  \n",
       "886    man        True  NaN  Southampton    no   True  \n",
       "887  woman       False    B  Southampton   yes   True  \n",
       "888  woman       False  NaN  Southampton    no  False  \n",
       "889    man        True    C    Cherbourg   yes   True  \n",
       "890    man        True  NaN   Queenstown    no   True  \n",
       "\n",
       "[891 rows x 15 columns]"
      ]
     },
     "execution_count": 26,
     "metadata": {},
     "output_type": "execute_result"
    }
   ],
   "source": [
    "#Titanic\n",
    "titanic = sns.load_dataset('titanic')\n",
    "titanic"
   ]
  },
  {
   "cell_type": "markdown",
   "metadata": {
    "id": "pi33qAFkxM6E"
   },
   "source": [
    "###Arithmetic Mean"
   ]
  },
  {
   "cell_type": "code",
   "execution_count": 27,
   "metadata": {
    "colab": {
     "base_uri": "https://localhost:8080/"
    },
    "id": "l9Hl6Lu9v_pf",
    "outputId": "ba6fa828-bc58-4e6f-df76-52dabe5e2b65"
   },
   "outputs": [
    {
     "data": {
      "text/plain": [
       "0.3838383838383838"
      ]
     },
     "execution_count": 27,
     "metadata": {},
     "output_type": "execute_result"
    }
   ],
   "source": [
    "#Arithmetic Mean \n",
    "titanic['survived'].mean()"
   ]
  },
  {
   "cell_type": "code",
   "execution_count": 28,
   "metadata": {
    "colab": {
     "base_uri": "https://localhost:8080/"
    },
    "id": "QtDGbs8vwRv7",
    "outputId": "af706ccf-2125-4384-8be0-349666f54dcb"
   },
   "outputs": [
    {
     "data": {
      "text/plain": [
       "2.308641975308642"
      ]
     },
     "execution_count": 28,
     "metadata": {},
     "output_type": "execute_result"
    }
   ],
   "source": [
    "titanic['pclass'].mean()"
   ]
  },
  {
   "cell_type": "code",
   "execution_count": 29,
   "metadata": {
    "colab": {
     "base_uri": "https://localhost:8080/"
    },
    "id": "4Ydh25JwwfEQ",
    "outputId": "e9ff442b-96a5-4402-a88e-f42acd779bf2"
   },
   "outputs": [
    {
     "data": {
      "text/plain": [
       "29.69911764705882"
      ]
     },
     "execution_count": 29,
     "metadata": {},
     "output_type": "execute_result"
    }
   ],
   "source": [
    "titanic['age'].mean()\n"
   ]
  },
  {
   "cell_type": "code",
   "execution_count": 30,
   "metadata": {
    "colab": {
     "base_uri": "https://localhost:8080/"
    },
    "id": "inx6C02WwmZT",
    "outputId": "c107164a-9436-4adf-d259-0111168bddfd"
   },
   "outputs": [
    {
     "data": {
      "text/plain": [
       "0.5230078563411896"
      ]
     },
     "execution_count": 30,
     "metadata": {},
     "output_type": "execute_result"
    }
   ],
   "source": [
    "titanic['sibsp'].mean()"
   ]
  },
  {
   "cell_type": "code",
   "execution_count": 31,
   "metadata": {
    "colab": {
     "base_uri": "https://localhost:8080/"
    },
    "id": "80ID8va8wtMi",
    "outputId": "56696ee6-54e2-40f6-f773-27e0f401f40e"
   },
   "outputs": [
    {
     "data": {
      "text/plain": [
       "0.38159371492704824"
      ]
     },
     "execution_count": 31,
     "metadata": {},
     "output_type": "execute_result"
    }
   ],
   "source": [
    "titanic['parch'].mean()"
   ]
  },
  {
   "cell_type": "code",
   "execution_count": 32,
   "metadata": {
    "colab": {
     "base_uri": "https://localhost:8080/"
    },
    "id": "lM47Zm3xwxit",
    "outputId": "cc4b3a28-9c16-44de-a485-33dc4ab3cb98"
   },
   "outputs": [
    {
     "data": {
      "text/plain": [
       "32.2042079685746"
      ]
     },
     "execution_count": 32,
     "metadata": {},
     "output_type": "execute_result"
    }
   ],
   "source": [
    "titanic['fare'].mean()"
   ]
  },
  {
   "cell_type": "markdown",
   "metadata": {
    "id": "p4cTxhzIxRWK"
   },
   "source": [
    "***Geometric Mean"
   ]
  },
  {
   "cell_type": "code",
   "execution_count": 33,
   "metadata": {
    "colab": {
     "base_uri": "https://localhost:8080/"
    },
    "id": "ehRcqBIIxUBL",
    "outputId": "58d49300-e17b-41ff-964c-6d30e42d4381"
   },
   "outputs": [
    {
     "name": "stderr",
     "output_type": "stream",
     "text": [
      "C:\\Users\\Lenovo\\anaconda3\\lib\\site-packages\\scipy\\stats\\stats.py:275: RuntimeWarning: divide by zero encountered in log\n",
      "  log_a = np.log(np.array(a, dtype=dtype))\n"
     ]
    },
    {
     "data": {
      "text/plain": [
       "0.0"
      ]
     },
     "execution_count": 33,
     "metadata": {},
     "output_type": "execute_result"
    }
   ],
   "source": [
    "stats.gmean(titanic.loc[:, \"survived\"])"
   ]
  },
  {
   "cell_type": "code",
   "execution_count": 34,
   "metadata": {
    "colab": {
     "base_uri": "https://localhost:8080/"
    },
    "id": "11ZXC2SVxh29",
    "outputId": "a0459825-7aba-4931-a36d-a895596d2945"
   },
   "outputs": [
    {
     "data": {
      "text/plain": [
       "2.1139317961119395"
      ]
     },
     "execution_count": 34,
     "metadata": {},
     "output_type": "execute_result"
    }
   ],
   "source": [
    "stats.gmean(titanic.loc[:, \"pclass\"])"
   ]
  },
  {
   "cell_type": "code",
   "execution_count": 35,
   "metadata": {
    "colab": {
     "base_uri": "https://localhost:8080/"
    },
    "id": "l8HteICSxmFQ",
    "outputId": "dc1578a8-7837-496b-cf0c-9790322f9eb8"
   },
   "outputs": [
    {
     "data": {
      "text/plain": [
       "nan"
      ]
     },
     "execution_count": 35,
     "metadata": {},
     "output_type": "execute_result"
    }
   ],
   "source": [
    "stats.gmean(titanic.loc[:, \"age\"])"
   ]
  },
  {
   "cell_type": "code",
   "execution_count": 36,
   "metadata": {
    "colab": {
     "base_uri": "https://localhost:8080/"
    },
    "id": "4J6oFkhsxrPE",
    "outputId": "74b55178-b38a-475e-a29e-332150d2a6dd"
   },
   "outputs": [
    {
     "data": {
      "text/plain": [
       "0.0"
      ]
     },
     "execution_count": 36,
     "metadata": {},
     "output_type": "execute_result"
    }
   ],
   "source": [
    "stats.gmean(titanic.loc[:, \"sibsp\"])"
   ]
  },
  {
   "cell_type": "code",
   "execution_count": 37,
   "metadata": {
    "colab": {
     "base_uri": "https://localhost:8080/"
    },
    "id": "WXqerc4Dxzjf",
    "outputId": "dbdd5f04-7e54-483c-a46a-75cf74a66e93"
   },
   "outputs": [
    {
     "data": {
      "text/plain": [
       "0.0"
      ]
     },
     "execution_count": 37,
     "metadata": {},
     "output_type": "execute_result"
    }
   ],
   "source": [
    "stats.gmean(titanic.loc[:, \"parch\"])"
   ]
  },
  {
   "cell_type": "code",
   "execution_count": 38,
   "metadata": {
    "colab": {
     "base_uri": "https://localhost:8080/"
    },
    "id": "ckJ0gZ39x3Na",
    "outputId": "96f01d01-e8b4-45c0-b812-5a9d5f728529"
   },
   "outputs": [
    {
     "data": {
      "text/plain": [
       "0.0"
      ]
     },
     "execution_count": 38,
     "metadata": {},
     "output_type": "execute_result"
    }
   ],
   "source": [
    "stats.gmean(titanic.loc[:, \"fare\"])"
   ]
  },
  {
   "cell_type": "markdown",
   "metadata": {
    "id": "pFGZ7HyAx7sW"
   },
   "source": [
    "***Harmonic Mean"
   ]
  },
  {
   "cell_type": "code",
   "execution_count": 39,
   "metadata": {
    "colab": {
     "base_uri": "https://localhost:8080/"
    },
    "id": "OTWV2nbwx-Yq",
    "outputId": "401f6466-0dae-4350-b34c-5f76f155ec4c"
   },
   "outputs": [
    {
     "data": {
      "text/plain": [
       "0.0"
      ]
     },
     "execution_count": 39,
     "metadata": {},
     "output_type": "execute_result"
    }
   ],
   "source": [
    "stats.hmean(titanic.loc[:, \"survived\"])"
   ]
  },
  {
   "cell_type": "code",
   "execution_count": 46,
   "metadata": {
    "colab": {
     "base_uri": "https://localhost:8080/"
    },
    "id": "7A8WjNnLyD4p",
    "outputId": "3f4060ad-508e-4221-b0b0-866045128e1c"
   },
   "outputs": [
    {
     "data": {
      "text/plain": [
       "1.88904593639576"
      ]
     },
     "execution_count": 46,
     "metadata": {},
     "output_type": "execute_result"
    }
   ],
   "source": [
    "stats.hmean(titanic.loc[:, \"pclass\"])"
   ]
  },
  {
   "cell_type": "code",
   "execution_count": 47,
   "metadata": {
    "colab": {
     "base_uri": "https://localhost:8080/",
     "height": 287
    },
    "id": "mvaNcdzqyHZr",
    "outputId": "1849e03c-9c1d-4d39-b1f2-4655d9eb9afa",
    "scrolled": true
   },
   "outputs": [
    {
     "ename": "ValueError",
     "evalue": "Harmonic mean only defined if all elements greater than or equal to zero",
     "output_type": "error",
     "traceback": [
      "\u001b[1;31m---------------------------------------------------------------------------\u001b[0m",
      "\u001b[1;31mValueError\u001b[0m                                Traceback (most recent call last)",
      "\u001b[1;32m~\\AppData\\Local\\Temp/ipykernel_63884/3531322406.py\u001b[0m in \u001b[0;36m<module>\u001b[1;34m\u001b[0m\n\u001b[1;32m----> 1\u001b[1;33m \u001b[0mstats\u001b[0m\u001b[1;33m.\u001b[0m\u001b[0mhmean\u001b[0m\u001b[1;33m(\u001b[0m\u001b[0mtitanic\u001b[0m\u001b[1;33m.\u001b[0m\u001b[0mloc\u001b[0m\u001b[1;33m[\u001b[0m\u001b[1;33m:\u001b[0m\u001b[1;33m,\u001b[0m \u001b[1;34m\"age\"\u001b[0m\u001b[1;33m]\u001b[0m\u001b[1;33m)\u001b[0m\u001b[1;33m\u001b[0m\u001b[1;33m\u001b[0m\u001b[0m\n\u001b[0m",
      "\u001b[1;32m~\\anaconda3\\lib\\site-packages\\scipy\\stats\\stats.py\u001b[0m in \u001b[0;36mhmean\u001b[1;34m(a, axis, dtype)\u001b[0m\n\u001b[0;32m    352\u001b[0m             \u001b[1;32mreturn\u001b[0m \u001b[0msize\u001b[0m \u001b[1;33m/\u001b[0m \u001b[0mnp\u001b[0m\u001b[1;33m.\u001b[0m\u001b[0msum\u001b[0m\u001b[1;33m(\u001b[0m\u001b[1;36m1.0\u001b[0m \u001b[1;33m/\u001b[0m \u001b[0ma\u001b[0m\u001b[1;33m,\u001b[0m \u001b[0maxis\u001b[0m\u001b[1;33m=\u001b[0m\u001b[0maxis\u001b[0m\u001b[1;33m,\u001b[0m \u001b[0mdtype\u001b[0m\u001b[1;33m=\u001b[0m\u001b[0mdtype\u001b[0m\u001b[1;33m)\u001b[0m\u001b[1;33m\u001b[0m\u001b[1;33m\u001b[0m\u001b[0m\n\u001b[0;32m    353\u001b[0m     \u001b[1;32melse\u001b[0m\u001b[1;33m:\u001b[0m\u001b[1;33m\u001b[0m\u001b[1;33m\u001b[0m\u001b[0m\n\u001b[1;32m--> 354\u001b[1;33m         raise ValueError(\"Harmonic mean only defined if all elements greater \"\n\u001b[0m\u001b[0;32m    355\u001b[0m                          \"than or equal to zero\")\n\u001b[0;32m    356\u001b[0m \u001b[1;33m\u001b[0m\u001b[0m\n",
      "\u001b[1;31mValueError\u001b[0m: Harmonic mean only defined if all elements greater than or equal to zero"
     ]
    }
   ],
   "source": [
    "stats.hmean(titanic.loc[:, \"age\"])"
   ]
  },
  {
   "cell_type": "code",
   "execution_count": 48,
   "metadata": {
    "colab": {
     "base_uri": "https://localhost:8080/"
    },
    "id": "XbNFZC5DyHwd",
    "outputId": "9315db2e-3092-4f12-fba5-790861de10f5"
   },
   "outputs": [
    {
     "data": {
      "text/plain": [
       "0.0"
      ]
     },
     "execution_count": 48,
     "metadata": {},
     "output_type": "execute_result"
    }
   ],
   "source": [
    "stats.hmean(titanic.loc[:, \"sibsp\"])"
   ]
  },
  {
   "cell_type": "code",
   "execution_count": 49,
   "metadata": {
    "colab": {
     "base_uri": "https://localhost:8080/"
    },
    "id": "VstjlPg2ySFA",
    "outputId": "f3e1820b-4c8a-49fa-daf4-9c1cb934d8a2"
   },
   "outputs": [
    {
     "data": {
      "text/plain": [
       "0.0"
      ]
     },
     "execution_count": 49,
     "metadata": {},
     "output_type": "execute_result"
    }
   ],
   "source": [
    "stats.hmean(titanic.loc[:, \"parch\"])"
   ]
  },
  {
   "cell_type": "code",
   "execution_count": 50,
   "metadata": {
    "colab": {
     "base_uri": "https://localhost:8080/"
    },
    "id": "s8f28QtgyXXl",
    "outputId": "a01c4311-21fb-45d5-a5ab-81ffa601d4d0"
   },
   "outputs": [
    {
     "data": {
      "text/plain": [
       "0.0"
      ]
     },
     "execution_count": 50,
     "metadata": {},
     "output_type": "execute_result"
    }
   ],
   "source": [
    "stats.hmean(titanic.loc[:, \"fare\"])"
   ]
  },
  {
   "cell_type": "markdown",
   "metadata": {
    "id": "OuCO4FHQy-sw"
   },
   "source": [
    "### **Median**"
   ]
  },
  {
   "cell_type": "markdown",
   "metadata": {
    "id": "PSu4XV7JzEeN"
   },
   "source": [
    "***To Do 5:"
   ]
  },
  {
   "cell_type": "markdown",
   "metadata": {
    "id": "dVkMioSmzPqM"
   },
   "source": [
    "**1).** Find the median of the data set $\\{3, 15, 2, 34, 11, 25\\}$."
   ]
  },
  {
   "cell_type": "markdown",
   "metadata": {
    "id": "FXsP5jET2JqA"
   },
   "source": [
    "**Solution:**\n",
    "\n",
    "Since the given data is odd, the formula to find median is $Median=\\frac{(\\frac{n}{2})^{th}~term + (\\frac{n}{2}+1)^{th}~term}{2}$\n",
    "\n",
    "Arrange the data into ascending order {2,3,11,15,25,34}\n",
    "\n",
    "n = 6\n",
    "\n",
    "$(\\frac{n}{2})^{th}~term = \\frac{6}{2}$\n",
    "\n",
    "$(\\frac{n}{2})^{th}~term = 3^{rd} term$\n",
    "\n",
    "$(\\frac{n}{2}+1)^{th}~term = (3 + 1)^{th} term$\n",
    "\n",
    "$(\\frac{n}{2}+1)^{th}~term = 4^{th} term$\n",
    "\n",
    "$Median=\\frac{(\\frac{n}{2})^{th}~term + (\\frac{n}{2}+1)^{th}~term}{2}$\n",
    "\n",
    "$Median=\\frac{11+15}{2}$\n",
    "\n",
    "$Median= 13$\n",
    "\n",
    "Therefore, the **median** is **13** \n"
   ]
  },
  {
   "cell_type": "code",
   "execution_count": 51,
   "metadata": {
    "colab": {
     "base_uri": "https://localhost:8080/"
    },
    "id": "2zrOZKNS47N_",
    "outputId": "bc733bda-c1c9-43b0-f204-f363c1b81012"
   },
   "outputs": [
    {
     "data": {
      "text/plain": [
       "13.0"
      ]
     },
     "execution_count": 51,
     "metadata": {},
     "output_type": "execute_result"
    }
   ],
   "source": [
    "# calculate median or middle value\n",
    "import statistics as stats\n",
    "stats.median([3,15,2,34,11,25])"
   ]
  },
  {
   "cell_type": "markdown",
   "metadata": {
    "id": "gAa4RPf_zdCO"
   },
   "source": [
    "**2).** Calculate the median for the following data:\n",
    "\n",
    "![Screenshot from 2022-08-25 03-40-59.png](data:image/png;base64,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)"
   ]
  },
  {
   "cell_type": "markdown",
   "metadata": {
    "id": "0gtAZ4845uym"
   },
   "source": [
    "**Solution:**\n",
    "\n",
    "The formula to find the median of grouped data is $Median=l+\\frac{h}{f}\\left[\\frac{n}{2}-c\\right]$\n",
    "\n",
    "where; \n",
    "\n",
    "l = lower limit of median class\n",
    "\n",
    "f = frequency of each class\n",
    "\n",
    "n = total number of observations\n",
    "\n",
    "h = class size\n",
    "\n",
    "c = cumulative frequency of the preceding class\n",
    "\n",
    "\\begin{array}{|c|c|} \\hline\n",
    "Marks & No. of Students & cumulative frequency(c) \\\\ \\hline\n",
    "0-20 & 5 & 5  \\\\ \\hline\n",
    "20-40 & 20 & 25 \\\\ \\hline\n",
    "40-60 & 35 & 60 \\\\ \\hline\n",
    "60-80 & 7 & 67 \\\\ \\hline\n",
    "80-100 & 3 & 70\\\\ \\hline\n",
    " & n = 70 & \\\\ \\hline\n",
    "\\end{array}\n",
    "\n",
    "To find median class\n",
    "\n",
    "= value of $(\\frac{n}{2})^{th}$ observation\n",
    "\n",
    "= value of $(\\frac{70}{2})^{th}$ observation\n",
    "\n",
    "= value of $35^{th}$ observation\n",
    "\n",
    "**Note: Here we took (n/2)th because N = sum of cf  = 70/2 = 35 which is odd**\n",
    "\n",
    "From the column of cumulative frequency $cf$, we find that the $35^{th}$ observation lies in the class 40-60.\n",
    "\n",
    "$\\therefore$ The median class is 40-60.\n",
    "\n",
    "Now we have\n",
    "\n",
    "l = 40\n",
    "\n",
    "h = 20\n",
    "\n",
    "c = 25\n",
    "\n",
    "n = 70\n",
    "\n",
    "f = 35\n",
    "\n",
    "$Median=l+\\frac{h}{f}\\left[\\frac{n}{2}-c\\right]$\n",
    "\n",
    "$Median=40+\\frac{20}{35}\\left[\\frac{70}{2}-25\\right]$\n",
    "\n",
    "$Median=40+\\frac{20}{35}\\left[35-25\\right]$\n",
    "\n",
    "$Median=40+\\frac{20}{35}\\left[10\\right]$\n",
    "\n",
    "$Median=40+5.7142857143$\n",
    "\n",
    "$Median=45.7142857143$\n",
    "\n",
    "Therefore, the **median** of the given data is **45.7143**"
   ]
  },
  {
   "cell_type": "markdown",
   "metadata": {
    "id": "pLibMzI6FXvb"
   },
   "source": [
    "#### **Mode**"
   ]
  },
  {
   "cell_type": "markdown",
   "metadata": {
    "id": "Yrn5YMlWFfbv"
   },
   "source": [
    "###To Do 6:"
   ]
  },
  {
   "cell_type": "markdown",
   "metadata": {
    "id": "btFQCBKcFnqH"
   },
   "source": [
    "Find the mode of the table given below:"
   ]
  },
  {
   "cell_type": "markdown",
   "metadata": {
    "id": "cNkay9UFFzwL"
   },
   "source": [
    "![Screenshot from 2022-08-29 20-52-09.png](data:image/png;base64,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)"
   ]
  },
  {
   "cell_type": "markdown",
   "metadata": {
    "id": "_btKlfvqGDsO"
   },
   "source": [
    "**Solution:**\n",
    "\n",
    "The formula to find Mode of a grouped distribution is $Mode=l+\\frac{h(f_m-f_1)}{(f_m-f_1)+(f_m-f_2)}$\n",
    "\n",
    "Where\n",
    "\n",
    "$l$ is the lower limit of the modal class\n",
    "\n",
    "$h$ is the size of the class interval\n",
    "\n",
    "$f_m$ is the frequency of the modal class\n",
    "\n",
    "$f_1$ is the frequency of the class preceding the modal class\n",
    "\n",
    "$f_2$ is the frequency of the class succeeding the modal class\n",
    "\n",
    "\n",
    "\n",
    "Here, maximum frequency is 7.\n",
    "\n",
    "Which lies in mode class 10-15\n",
    "\n",
    "$h = 5$\n",
    "\n",
    "$l = 10$\n",
    "\n",
    "$f_m = 7$\n",
    "\n",
    "$f_1 = 3$\n",
    "\n",
    "$f_2 = 2$\n",
    "\n",
    "$Mode=l+\\frac{h(f_m-f_1)}{(f_m-f_1)+(f_m-f_2)}$\n",
    "\n",
    "$Mode=10+\\frac{5(7-3)}{(7-3)+(7-2)}$\n",
    "\n",
    "$Mode=10+\\frac{20}{9}$\n",
    "\n",
    "$Mode=10+ 2.22222222222$\n",
    "\n",
    "$Mode=12.22222222222$\n",
    "\n",
    "Therefore, the **Mode** of the given data is **12.222**"
   ]
  },
  {
   "cell_type": "markdown",
   "metadata": {
    "id": "mNA13QULI2t7"
   },
   "source": [
    "## **Measures of Dispersion**"
   ]
  },
  {
   "cell_type": "markdown",
   "metadata": {
    "id": "WtWtG8hzI77P"
   },
   "source": [
    "###To Do 7:"
   ]
  },
  {
   "cell_type": "markdown",
   "metadata": {
    "id": "iGjQcI7CJGRd"
   },
   "source": [
    "**1).** Calculate and interpret the measures of dispersion for the dataframe created in the section $1.4$ above using the respective formulas and using the Python functions."
   ]
  },
  {
   "cell_type": "markdown",
   "metadata": {
    "id": "0k7l9ubpJH_v"
   },
   "source": [
    "**Solution:**\n",
    "\n",
    "The dataframe given in section 1.4 is;\n",
    "\n",
    "Name: Pema, Dechen, Wangmo, Tshewang, Karma, Yangden, Sonam\n",
    "\n",
    "Math_Score:62, 47, 55, 74, 31, 77, 85\n",
    "\n",
    "AI_Score:89, 87, 67, 55, 47, 72, 76\n",
    "\n"
   ]
  },
  {
   "cell_type": "code",
   "execution_count": 52,
   "metadata": {
    "colab": {
     "base_uri": "https://localhost:8080/",
     "height": 269
    },
    "id": "g-1skx1AKfdX",
    "outputId": "583e47fa-7b2e-4bdc-ea4c-f82a65d4c7db"
   },
   "outputs": [
    {
     "data": {
      "text/html": [
       "<div>\n",
       "<style scoped>\n",
       "    .dataframe tbody tr th:only-of-type {\n",
       "        vertical-align: middle;\n",
       "    }\n",
       "\n",
       "    .dataframe tbody tr th {\n",
       "        vertical-align: top;\n",
       "    }\n",
       "\n",
       "    .dataframe thead th {\n",
       "        text-align: right;\n",
       "    }\n",
       "</style>\n",
       "<table border=\"1\" class=\"dataframe\">\n",
       "  <thead>\n",
       "    <tr style=\"text-align: right;\">\n",
       "      <th></th>\n",
       "      <th>Name</th>\n",
       "      <th>Math_Score</th>\n",
       "      <th>AI_Score</th>\n",
       "    </tr>\n",
       "  </thead>\n",
       "  <tbody>\n",
       "    <tr>\n",
       "      <th>0</th>\n",
       "      <td>Pema</td>\n",
       "      <td>31</td>\n",
       "      <td>89</td>\n",
       "    </tr>\n",
       "    <tr>\n",
       "      <th>1</th>\n",
       "      <td>Dechen</td>\n",
       "      <td>47</td>\n",
       "      <td>87</td>\n",
       "    </tr>\n",
       "    <tr>\n",
       "      <th>2</th>\n",
       "      <td>Wangmo</td>\n",
       "      <td>55</td>\n",
       "      <td>67</td>\n",
       "    </tr>\n",
       "    <tr>\n",
       "      <th>3</th>\n",
       "      <td>Tshewang</td>\n",
       "      <td>62</td>\n",
       "      <td>55</td>\n",
       "    </tr>\n",
       "    <tr>\n",
       "      <th>4</th>\n",
       "      <td>Karma</td>\n",
       "      <td>74</td>\n",
       "      <td>47</td>\n",
       "    </tr>\n",
       "    <tr>\n",
       "      <th>5</th>\n",
       "      <td>Yangden</td>\n",
       "      <td>77</td>\n",
       "      <td>72</td>\n",
       "    </tr>\n",
       "    <tr>\n",
       "      <th>6</th>\n",
       "      <td>Sonam</td>\n",
       "      <td>85</td>\n",
       "      <td>76</td>\n",
       "    </tr>\n",
       "  </tbody>\n",
       "</table>\n",
       "</div>"
      ],
      "text/plain": [
       "       Name  Math_Score  AI_Score\n",
       "0      Pema          31        89\n",
       "1    Dechen          47        87\n",
       "2    Wangmo          55        67\n",
       "3  Tshewang          62        55\n",
       "4     Karma          74        47\n",
       "5   Yangden          77        72\n",
       "6     Sonam          85        76"
      ]
     },
     "execution_count": 52,
     "metadata": {},
     "output_type": "execute_result"
    }
   ],
   "source": [
    "import pandas as pd\n",
    "import numpy as np\n",
    " \n",
    "d = {\n",
    "    'Name':['Pema','Dechen','Wangmo','Tshewang','Karma','Yangden','Sonam'],\n",
    "   'Math_Score':[31,47,55,62,74,77,85],\n",
    "   'AI_Score':[89,87,67,55,47,72,76]}\n",
    " \n",
    "df = pd.DataFrame(d)\n",
    "df"
   ]
  },
  {
   "cell_type": "markdown",
   "metadata": {
    "id": "ydgQ7J3ZQiaO"
   },
   "source": [
    "For Math Score"
   ]
  },
  {
   "cell_type": "code",
   "execution_count": 53,
   "metadata": {
    "colab": {
     "base_uri": "https://localhost:8080/"
    },
    "id": "uzHFN-YRKowe",
    "outputId": "de5cc2e4-e6b6-4094-e7ef-989f4b0b12c7"
   },
   "outputs": [
    {
     "data": {
      "text/plain": [
       "355.2857142857143"
      ]
     },
     "execution_count": 53,
     "metadata": {},
     "output_type": "execute_result"
    }
   ],
   "source": [
    "# Variance\n",
    "df['Math_Score'].var()"
   ]
  },
  {
   "cell_type": "code",
   "execution_count": 54,
   "metadata": {
    "colab": {
     "base_uri": "https://localhost:8080/"
    },
    "id": "hfszMelcLpmt",
    "outputId": "bff31b45-d131-45e8-ae82-5b587abd6635"
   },
   "outputs": [
    {
     "data": {
      "text/plain": [
       "18.84902422635491"
      ]
     },
     "execution_count": 54,
     "metadata": {},
     "output_type": "execute_result"
    }
   ],
   "source": [
    "# Standard Deviation\n",
    "df['Math_Score'].std()"
   ]
  },
  {
   "cell_type": "code",
   "execution_count": 55,
   "metadata": {
    "colab": {
     "base_uri": "https://localhost:8080/"
    },
    "id": "Cnl9w0QPTgYz",
    "outputId": "fc945494-9446-4492-fe1a-3573deab6cba"
   },
   "outputs": [
    {
     "data": {
      "text/plain": [
       "85"
      ]
     },
     "execution_count": 55,
     "metadata": {},
     "output_type": "execute_result"
    }
   ],
   "source": [
    "# Max\n",
    "max_M = df['Math_Score'].max()\n",
    "max_M"
   ]
  },
  {
   "cell_type": "code",
   "execution_count": null,
   "metadata": {
    "colab": {
     "base_uri": "https://localhost:8080/"
    },
    "id": "KNjRwQViTjwG",
    "outputId": "0f6a88fa-5c8b-4722-d30b-686ebff2f2f9"
   },
   "outputs": [
    {
     "data": {
      "text/plain": [
       "31"
      ]
     },
     "execution_count": 33,
     "metadata": {},
     "output_type": "execute_result"
    }
   ],
   "source": [
    "# Min\n",
    "min_M = df['Math_Score'].min()\n",
    "min_M"
   ]
  },
  {
   "cell_type": "code",
   "execution_count": null,
   "metadata": {
    "colab": {
     "base_uri": "https://localhost:8080/"
    },
    "id": "lx3-rWFTUkwQ",
    "outputId": "7a8af92f-9a56-4504-b5a8-5be0fdaee747"
   },
   "outputs": [
    {
     "data": {
      "text/plain": [
       "54"
      ]
     },
     "execution_count": 34,
     "metadata": {},
     "output_type": "execute_result"
    }
   ],
   "source": [
    "# Range\n",
    "Range_M = max_M - min_M\n",
    "Range_M"
   ]
  },
  {
   "cell_type": "code",
   "execution_count": null,
   "metadata": {
    "colab": {
     "base_uri": "https://localhost:8080/"
    },
    "id": "brnC0p4mL96i",
    "outputId": "87729cdb-3265-4a14-f7be-e3d6438f1ba3"
   },
   "outputs": [
    {
     "data": {
      "text/plain": [
       "51.0"
      ]
     },
     "execution_count": 35,
     "metadata": {},
     "output_type": "execute_result"
    }
   ],
   "source": [
    "# First quartile\n",
    "Q1_M = df['Math_Score'].quantile(0.25)\n",
    "Q1_M"
   ]
  },
  {
   "cell_type": "code",
   "execution_count": null,
   "metadata": {
    "colab": {
     "base_uri": "https://localhost:8080/"
    },
    "id": "W83TJ12jWvRg",
    "outputId": "b7288c85-29ca-465f-f864-a29f68ca52dc"
   },
   "outputs": [
    {
     "data": {
      "text/plain": [
       "62.0"
      ]
     },
     "execution_count": 36,
     "metadata": {},
     "output_type": "execute_result"
    }
   ],
   "source": [
    "# Second quartile\n",
    "Q2_M = df['Math_Score'].quantile(0.5)\n",
    "Q2_M"
   ]
  },
  {
   "cell_type": "code",
   "execution_count": null,
   "metadata": {
    "colab": {
     "base_uri": "https://localhost:8080/"
    },
    "id": "wYKclwghW2Bu",
    "outputId": "7afc6590-473c-48e6-a823-3994fb289c8f"
   },
   "outputs": [
    {
     "data": {
      "text/plain": [
       "75.5"
      ]
     },
     "execution_count": 37,
     "metadata": {},
     "output_type": "execute_result"
    }
   ],
   "source": [
    "# Third quartile\n",
    "Q3_M = df['Math_Score'].quantile(0.75)\n",
    "Q3_M"
   ]
  },
  {
   "cell_type": "code",
   "execution_count": null,
   "metadata": {
    "colab": {
     "base_uri": "https://localhost:8080/"
    },
    "id": "3QDnoqptW8m3",
    "outputId": "1711f6cf-4ceb-4758-e93c-a56d9ba2c4b6"
   },
   "outputs": [
    {
     "data": {
      "text/plain": [
       "24.5"
      ]
     },
     "execution_count": 38,
     "metadata": {},
     "output_type": "execute_result"
    }
   ],
   "source": [
    "# Inter quartile range\n",
    "IQR_M = Q3_M - Q1_M\n",
    "IQR_M"
   ]
  },
  {
   "cell_type": "code",
   "execution_count": null,
   "metadata": {
    "colab": {
     "base_uri": "https://localhost:8080/"
    },
    "id": "0QGr-EGgXEx6",
    "outputId": "db025d01-8f8f-4f9b-8f48-75143b737288"
   },
   "outputs": [
    {
     "data": {
      "text/plain": [
       "12.25"
      ]
     },
     "execution_count": 39,
     "metadata": {},
     "output_type": "execute_result"
    }
   ],
   "source": [
    "# Quartile Deviation\n",
    "QD_M = (Q3_M - Q1_M)/2\n",
    "QD_M"
   ]
  },
  {
   "cell_type": "markdown",
   "metadata": {
    "id": "MWt0nCZuQm1S"
   },
   "source": [
    "For AI Score"
   ]
  },
  {
   "cell_type": "code",
   "execution_count": null,
   "metadata": {
    "colab": {
     "base_uri": "https://localhost:8080/"
    },
    "id": "CvmgWK3PMSLL",
    "outputId": "230feb25-f3c2-4917-f2d2-9e4b939ddee9"
   },
   "outputs": [
    {
     "data": {
      "text/plain": [
       "241.95238095238096"
      ]
     },
     "execution_count": 8,
     "metadata": {},
     "output_type": "execute_result"
    }
   ],
   "source": [
    "# Variance\n",
    "df['AI_Score'].var()"
   ]
  },
  {
   "cell_type": "code",
   "execution_count": null,
   "metadata": {
    "colab": {
     "base_uri": "https://localhost:8080/"
    },
    "id": "cAJ80yVzNgcd",
    "outputId": "acae84b9-1de1-45a9-be10-5b8350c31250"
   },
   "outputs": [
    {
     "data": {
      "text/plain": [
       "15.554818576646305"
      ]
     },
     "execution_count": 9,
     "metadata": {},
     "output_type": "execute_result"
    }
   ],
   "source": [
    "# Standard Deviation\n",
    "df['AI_Score'].std()"
   ]
  },
  {
   "cell_type": "code",
   "execution_count": null,
   "metadata": {
    "colab": {
     "base_uri": "https://localhost:8080/"
    },
    "id": "TsjmMAUITVzE",
    "outputId": "adab369f-d044-49fb-8174-fd37e65f5cf5"
   },
   "outputs": [
    {
     "data": {
      "text/plain": [
       "89"
      ]
     },
     "execution_count": 45,
     "metadata": {},
     "output_type": "execute_result"
    }
   ],
   "source": [
    "# Max\n",
    "max_A = df['AI_Score'].max()\n",
    "max_A"
   ]
  },
  {
   "cell_type": "code",
   "execution_count": null,
   "metadata": {
    "colab": {
     "base_uri": "https://localhost:8080/"
    },
    "id": "uYKiqYqZTaFu",
    "outputId": "886a54f0-b130-4bae-f705-e2b7e2ecc438"
   },
   "outputs": [
    {
     "data": {
      "text/plain": [
       "47"
      ]
     },
     "execution_count": 46,
     "metadata": {},
     "output_type": "execute_result"
    }
   ],
   "source": [
    "# Min\n",
    "min_A = df['AI_Score'].min()\n",
    "min_A"
   ]
  },
  {
   "cell_type": "code",
   "execution_count": null,
   "metadata": {
    "colab": {
     "base_uri": "https://localhost:8080/"
    },
    "id": "L7UpkIv3VcJG",
    "outputId": "228ee639-7e9e-4ada-f38e-01a1262fbe8c"
   },
   "outputs": [
    {
     "data": {
      "text/plain": [
       "42"
      ]
     },
     "execution_count": 47,
     "metadata": {},
     "output_type": "execute_result"
    }
   ],
   "source": [
    "# Range\n",
    "Range_A = max_A - min_A\n",
    "Range_A"
   ]
  },
  {
   "cell_type": "code",
   "execution_count": null,
   "metadata": {
    "colab": {
     "base_uri": "https://localhost:8080/"
    },
    "id": "uIT4-KvWNmiN",
    "outputId": "6cd7b56e-143e-4143-d40f-a99fd982c545"
   },
   "outputs": [
    {
     "data": {
      "text/plain": [
       "61.0"
      ]
     },
     "execution_count": 60,
     "metadata": {},
     "output_type": "execute_result"
    }
   ],
   "source": [
    "# First quartile\n",
    "Q1_A = df['AI_Score'].quantile(0.25)\n",
    "Q1_A"
   ]
  },
  {
   "cell_type": "code",
   "execution_count": null,
   "metadata": {
    "colab": {
     "base_uri": "https://localhost:8080/"
    },
    "id": "JRq8P0KyZGpb",
    "outputId": "f22e16b6-e6d3-4395-cfd0-7aab06ae1c8b"
   },
   "outputs": [
    {
     "data": {
      "text/plain": [
       "72.0"
      ]
     },
     "execution_count": 62,
     "metadata": {},
     "output_type": "execute_result"
    }
   ],
   "source": [
    "# Second quartile\n",
    "Q2_A = df['AI_Score'].quantile(0.5)\n",
    "Q2_A"
   ]
  },
  {
   "cell_type": "code",
   "execution_count": null,
   "metadata": {
    "colab": {
     "base_uri": "https://localhost:8080/"
    },
    "id": "GvKuSmezZPda",
    "outputId": "65d872c7-0746-4193-afe3-c2753c012315"
   },
   "outputs": [
    {
     "data": {
      "text/plain": [
       "81.5"
      ]
     },
     "execution_count": 63,
     "metadata": {},
     "output_type": "execute_result"
    }
   ],
   "source": [
    "# Third quartile\n",
    "Q3_A = df['AI_Score'].quantile(0.75)\n",
    "Q3_A"
   ]
  },
  {
   "cell_type": "code",
   "execution_count": null,
   "metadata": {
    "colab": {
     "base_uri": "https://localhost:8080/"
    },
    "id": "7qC8jj3BZYHi",
    "outputId": "be0939b2-585a-4faf-d364-2c3229fbcfb8"
   },
   "outputs": [
    {
     "data": {
      "text/plain": [
       "20.5"
      ]
     },
     "execution_count": 64,
     "metadata": {},
     "output_type": "execute_result"
    }
   ],
   "source": [
    "# Inter quartile range\n",
    "IQR_A = Q3_A - Q1_A\n",
    "IQR_A"
   ]
  },
  {
   "cell_type": "code",
   "execution_count": null,
   "metadata": {
    "colab": {
     "base_uri": "https://localhost:8080/"
    },
    "id": "37vjn5RyZ7d5",
    "outputId": "728ac826-ba62-4de5-decc-5ddd345d676e"
   },
   "outputs": [
    {
     "data": {
      "text/plain": [
       "10.25"
      ]
     },
     "execution_count": 66,
     "metadata": {},
     "output_type": "execute_result"
    }
   ],
   "source": [
    "# Quartile deviation\n",
    "QD_A = (Q3_A - Q1_A)/2\n",
    "QD_A"
   ]
  },
  {
   "cell_type": "markdown",
   "metadata": {
    "id": "Hv226kb_Sci9"
   },
   "source": [
    "**2).** Use the `seaborn` inbuilt dataset **'taxis'**. Then drop the columns having data type 'Object' from the datset, and try to find the possible measures of dispersion of the remaining columns using Python. "
   ]
  },
  {
   "cell_type": "markdown",
   "metadata": {
    "id": "FjrrOMZrShaY"
   },
   "source": [
    "**Solution:**"
   ]
  },
  {
   "cell_type": "code",
   "execution_count": 58,
   "metadata": {
    "id": "D-P51qt3SjqF"
   },
   "outputs": [],
   "source": [
    "import seaborn as sns"
   ]
  },
  {
   "cell_type": "code",
   "execution_count": 59,
   "metadata": {
    "colab": {
     "base_uri": "https://localhost:8080/",
     "height": 815
    },
    "id": "pPPG2a3VSnDY",
    "outputId": "a20717db-56a9-48d0-a083-614b198ac5fc"
   },
   "outputs": [
    {
     "data": {
      "text/html": [
       "<div>\n",
       "<style scoped>\n",
       "    .dataframe tbody tr th:only-of-type {\n",
       "        vertical-align: middle;\n",
       "    }\n",
       "\n",
       "    .dataframe tbody tr th {\n",
       "        vertical-align: top;\n",
       "    }\n",
       "\n",
       "    .dataframe thead th {\n",
       "        text-align: right;\n",
       "    }\n",
       "</style>\n",
       "<table border=\"1\" class=\"dataframe\">\n",
       "  <thead>\n",
       "    <tr style=\"text-align: right;\">\n",
       "      <th></th>\n",
       "      <th>pickup</th>\n",
       "      <th>dropoff</th>\n",
       "      <th>passengers</th>\n",
       "      <th>distance</th>\n",
       "      <th>fare</th>\n",
       "      <th>tip</th>\n",
       "      <th>tolls</th>\n",
       "      <th>total</th>\n",
       "      <th>color</th>\n",
       "      <th>payment</th>\n",
       "      <th>pickup_zone</th>\n",
       "      <th>dropoff_zone</th>\n",
       "      <th>pickup_borough</th>\n",
       "      <th>dropoff_borough</th>\n",
       "    </tr>\n",
       "  </thead>\n",
       "  <tbody>\n",
       "    <tr>\n",
       "      <th>0</th>\n",
       "      <td>2019-03-23 20:21:09</td>\n",
       "      <td>2019-03-23 20:27:24</td>\n",
       "      <td>1</td>\n",
       "      <td>1.60</td>\n",
       "      <td>7.0</td>\n",
       "      <td>2.15</td>\n",
       "      <td>0.0</td>\n",
       "      <td>12.95</td>\n",
       "      <td>yellow</td>\n",
       "      <td>credit card</td>\n",
       "      <td>Lenox Hill West</td>\n",
       "      <td>UN/Turtle Bay South</td>\n",
       "      <td>Manhattan</td>\n",
       "      <td>Manhattan</td>\n",
       "    </tr>\n",
       "    <tr>\n",
       "      <th>1</th>\n",
       "      <td>2019-03-04 16:11:55</td>\n",
       "      <td>2019-03-04 16:19:00</td>\n",
       "      <td>1</td>\n",
       "      <td>0.79</td>\n",
       "      <td>5.0</td>\n",
       "      <td>0.00</td>\n",
       "      <td>0.0</td>\n",
       "      <td>9.30</td>\n",
       "      <td>yellow</td>\n",
       "      <td>cash</td>\n",
       "      <td>Upper West Side South</td>\n",
       "      <td>Upper West Side South</td>\n",
       "      <td>Manhattan</td>\n",
       "      <td>Manhattan</td>\n",
       "    </tr>\n",
       "    <tr>\n",
       "      <th>2</th>\n",
       "      <td>2019-03-27 17:53:01</td>\n",
       "      <td>2019-03-27 18:00:25</td>\n",
       "      <td>1</td>\n",
       "      <td>1.37</td>\n",
       "      <td>7.5</td>\n",
       "      <td>2.36</td>\n",
       "      <td>0.0</td>\n",
       "      <td>14.16</td>\n",
       "      <td>yellow</td>\n",
       "      <td>credit card</td>\n",
       "      <td>Alphabet City</td>\n",
       "      <td>West Village</td>\n",
       "      <td>Manhattan</td>\n",
       "      <td>Manhattan</td>\n",
       "    </tr>\n",
       "    <tr>\n",
       "      <th>3</th>\n",
       "      <td>2019-03-10 01:23:59</td>\n",
       "      <td>2019-03-10 01:49:51</td>\n",
       "      <td>1</td>\n",
       "      <td>7.70</td>\n",
       "      <td>27.0</td>\n",
       "      <td>6.15</td>\n",
       "      <td>0.0</td>\n",
       "      <td>36.95</td>\n",
       "      <td>yellow</td>\n",
       "      <td>credit card</td>\n",
       "      <td>Hudson Sq</td>\n",
       "      <td>Yorkville West</td>\n",
       "      <td>Manhattan</td>\n",
       "      <td>Manhattan</td>\n",
       "    </tr>\n",
       "    <tr>\n",
       "      <th>4</th>\n",
       "      <td>2019-03-30 13:27:42</td>\n",
       "      <td>2019-03-30 13:37:14</td>\n",
       "      <td>3</td>\n",
       "      <td>2.16</td>\n",
       "      <td>9.0</td>\n",
       "      <td>1.10</td>\n",
       "      <td>0.0</td>\n",
       "      <td>13.40</td>\n",
       "      <td>yellow</td>\n",
       "      <td>credit card</td>\n",
       "      <td>Midtown East</td>\n",
       "      <td>Yorkville West</td>\n",
       "      <td>Manhattan</td>\n",
       "      <td>Manhattan</td>\n",
       "    </tr>\n",
       "    <tr>\n",
       "      <th>...</th>\n",
       "      <td>...</td>\n",
       "      <td>...</td>\n",
       "      <td>...</td>\n",
       "      <td>...</td>\n",
       "      <td>...</td>\n",
       "      <td>...</td>\n",
       "      <td>...</td>\n",
       "      <td>...</td>\n",
       "      <td>...</td>\n",
       "      <td>...</td>\n",
       "      <td>...</td>\n",
       "      <td>...</td>\n",
       "      <td>...</td>\n",
       "      <td>...</td>\n",
       "    </tr>\n",
       "    <tr>\n",
       "      <th>6428</th>\n",
       "      <td>2019-03-31 09:51:53</td>\n",
       "      <td>2019-03-31 09:55:27</td>\n",
       "      <td>1</td>\n",
       "      <td>0.75</td>\n",
       "      <td>4.5</td>\n",
       "      <td>1.06</td>\n",
       "      <td>0.0</td>\n",
       "      <td>6.36</td>\n",
       "      <td>green</td>\n",
       "      <td>credit card</td>\n",
       "      <td>East Harlem North</td>\n",
       "      <td>Central Harlem North</td>\n",
       "      <td>Manhattan</td>\n",
       "      <td>Manhattan</td>\n",
       "    </tr>\n",
       "    <tr>\n",
       "      <th>6429</th>\n",
       "      <td>2019-03-31 17:38:00</td>\n",
       "      <td>2019-03-31 18:34:23</td>\n",
       "      <td>1</td>\n",
       "      <td>18.74</td>\n",
       "      <td>58.0</td>\n",
       "      <td>0.00</td>\n",
       "      <td>0.0</td>\n",
       "      <td>58.80</td>\n",
       "      <td>green</td>\n",
       "      <td>credit card</td>\n",
       "      <td>Jamaica</td>\n",
       "      <td>East Concourse/Concourse Village</td>\n",
       "      <td>Queens</td>\n",
       "      <td>Bronx</td>\n",
       "    </tr>\n",
       "    <tr>\n",
       "      <th>6430</th>\n",
       "      <td>2019-03-23 22:55:18</td>\n",
       "      <td>2019-03-23 23:14:25</td>\n",
       "      <td>1</td>\n",
       "      <td>4.14</td>\n",
       "      <td>16.0</td>\n",
       "      <td>0.00</td>\n",
       "      <td>0.0</td>\n",
       "      <td>17.30</td>\n",
       "      <td>green</td>\n",
       "      <td>cash</td>\n",
       "      <td>Crown Heights North</td>\n",
       "      <td>Bushwick North</td>\n",
       "      <td>Brooklyn</td>\n",
       "      <td>Brooklyn</td>\n",
       "    </tr>\n",
       "    <tr>\n",
       "      <th>6431</th>\n",
       "      <td>2019-03-04 10:09:25</td>\n",
       "      <td>2019-03-04 10:14:29</td>\n",
       "      <td>1</td>\n",
       "      <td>1.12</td>\n",
       "      <td>6.0</td>\n",
       "      <td>0.00</td>\n",
       "      <td>0.0</td>\n",
       "      <td>6.80</td>\n",
       "      <td>green</td>\n",
       "      <td>credit card</td>\n",
       "      <td>East New York</td>\n",
       "      <td>East Flatbush/Remsen Village</td>\n",
       "      <td>Brooklyn</td>\n",
       "      <td>Brooklyn</td>\n",
       "    </tr>\n",
       "    <tr>\n",
       "      <th>6432</th>\n",
       "      <td>2019-03-13 19:31:22</td>\n",
       "      <td>2019-03-13 19:48:02</td>\n",
       "      <td>1</td>\n",
       "      <td>3.85</td>\n",
       "      <td>15.0</td>\n",
       "      <td>3.36</td>\n",
       "      <td>0.0</td>\n",
       "      <td>20.16</td>\n",
       "      <td>green</td>\n",
       "      <td>credit card</td>\n",
       "      <td>Boerum Hill</td>\n",
       "      <td>Windsor Terrace</td>\n",
       "      <td>Brooklyn</td>\n",
       "      <td>Brooklyn</td>\n",
       "    </tr>\n",
       "  </tbody>\n",
       "</table>\n",
       "<p>6433 rows × 14 columns</p>\n",
       "</div>"
      ],
      "text/plain": [
       "                   pickup              dropoff  passengers  distance  fare  \\\n",
       "0     2019-03-23 20:21:09  2019-03-23 20:27:24           1      1.60   7.0   \n",
       "1     2019-03-04 16:11:55  2019-03-04 16:19:00           1      0.79   5.0   \n",
       "2     2019-03-27 17:53:01  2019-03-27 18:00:25           1      1.37   7.5   \n",
       "3     2019-03-10 01:23:59  2019-03-10 01:49:51           1      7.70  27.0   \n",
       "4     2019-03-30 13:27:42  2019-03-30 13:37:14           3      2.16   9.0   \n",
       "...                   ...                  ...         ...       ...   ...   \n",
       "6428  2019-03-31 09:51:53  2019-03-31 09:55:27           1      0.75   4.5   \n",
       "6429  2019-03-31 17:38:00  2019-03-31 18:34:23           1     18.74  58.0   \n",
       "6430  2019-03-23 22:55:18  2019-03-23 23:14:25           1      4.14  16.0   \n",
       "6431  2019-03-04 10:09:25  2019-03-04 10:14:29           1      1.12   6.0   \n",
       "6432  2019-03-13 19:31:22  2019-03-13 19:48:02           1      3.85  15.0   \n",
       "\n",
       "       tip  tolls  total   color      payment            pickup_zone  \\\n",
       "0     2.15    0.0  12.95  yellow  credit card        Lenox Hill West   \n",
       "1     0.00    0.0   9.30  yellow         cash  Upper West Side South   \n",
       "2     2.36    0.0  14.16  yellow  credit card          Alphabet City   \n",
       "3     6.15    0.0  36.95  yellow  credit card              Hudson Sq   \n",
       "4     1.10    0.0  13.40  yellow  credit card           Midtown East   \n",
       "...    ...    ...    ...     ...          ...                    ...   \n",
       "6428  1.06    0.0   6.36   green  credit card      East Harlem North   \n",
       "6429  0.00    0.0  58.80   green  credit card                Jamaica   \n",
       "6430  0.00    0.0  17.30   green         cash    Crown Heights North   \n",
       "6431  0.00    0.0   6.80   green  credit card          East New York   \n",
       "6432  3.36    0.0  20.16   green  credit card            Boerum Hill   \n",
       "\n",
       "                          dropoff_zone pickup_borough dropoff_borough  \n",
       "0                  UN/Turtle Bay South      Manhattan       Manhattan  \n",
       "1                Upper West Side South      Manhattan       Manhattan  \n",
       "2                         West Village      Manhattan       Manhattan  \n",
       "3                       Yorkville West      Manhattan       Manhattan  \n",
       "4                       Yorkville West      Manhattan       Manhattan  \n",
       "...                                ...            ...             ...  \n",
       "6428              Central Harlem North      Manhattan       Manhattan  \n",
       "6429  East Concourse/Concourse Village         Queens           Bronx  \n",
       "6430                    Bushwick North       Brooklyn        Brooklyn  \n",
       "6431      East Flatbush/Remsen Village       Brooklyn        Brooklyn  \n",
       "6432                   Windsor Terrace       Brooklyn        Brooklyn  \n",
       "\n",
       "[6433 rows x 14 columns]"
      ]
     },
     "execution_count": 59,
     "metadata": {},
     "output_type": "execute_result"
    }
   ],
   "source": [
    "taxis = sns.load_dataset('taxis')\n",
    "taxis"
   ]
  },
  {
   "cell_type": "code",
   "execution_count": 60,
   "metadata": {
    "colab": {
     "base_uri": "https://localhost:8080/"
    },
    "id": "EysOO6gbSrK5",
    "outputId": "1518f546-7fbf-49f6-8976-64114bca91c7"
   },
   "outputs": [
    {
     "data": {
      "text/plain": [
       "1.4490577096640629"
      ]
     },
     "execution_count": 60,
     "metadata": {},
     "output_type": "execute_result"
    }
   ],
   "source": [
    "# Variance\n",
    "taxis['passengers'].var()"
   ]
  },
  {
   "cell_type": "code",
   "execution_count": 61,
   "metadata": {
    "colab": {
     "base_uri": "https://localhost:8080/"
    },
    "id": "edSuYaTbS5uL",
    "outputId": "23a67fce-5580-4628-e3bb-39063b52ff69"
   },
   "outputs": [
    {
     "data": {
      "text/plain": [
       "1.203768129526639"
      ]
     },
     "execution_count": 61,
     "metadata": {},
     "output_type": "execute_result"
    }
   ],
   "source": [
    "# Standard Deviation\n",
    "taxis['passengers'].std()"
   ]
  },
  {
   "cell_type": "code",
   "execution_count": 62,
   "metadata": {
    "colab": {
     "base_uri": "https://localhost:8080/"
    },
    "id": "K-mJ2O1GT8Oa",
    "outputId": "892db6de-bf1d-4db6-b41e-5e461846a320"
   },
   "outputs": [
    {
     "data": {
      "text/plain": [
       "6"
      ]
     },
     "execution_count": 62,
     "metadata": {},
     "output_type": "execute_result"
    }
   ],
   "source": [
    "# Max\n",
    "max_TP = taxis['passengers'].max()\n",
    "max_TP"
   ]
  },
  {
   "cell_type": "code",
   "execution_count": 63,
   "metadata": {
    "colab": {
     "base_uri": "https://localhost:8080/"
    },
    "id": "pMpLFR42UAvN",
    "outputId": "c90bfa01-6eb3-432a-c754-73b85c2e2218"
   },
   "outputs": [
    {
     "data": {
      "text/plain": [
       "0"
      ]
     },
     "execution_count": 63,
     "metadata": {},
     "output_type": "execute_result"
    }
   ],
   "source": [
    "# Min\n",
    "min_TP = taxis['passengers'].min()\n",
    "min_TP"
   ]
  },
  {
   "cell_type": "code",
   "execution_count": 64,
   "metadata": {
    "colab": {
     "base_uri": "https://localhost:8080/"
    },
    "id": "lxaU_ipCWOAz",
    "outputId": "a3684735-805c-48d0-90af-95501b9a0f68"
   },
   "outputs": [
    {
     "data": {
      "text/plain": [
       "6"
      ]
     },
     "execution_count": 64,
     "metadata": {},
     "output_type": "execute_result"
    }
   ],
   "source": [
    "# Range\n",
    "Range_TP = max_TP - min_TP\n",
    "Range_TP"
   ]
  },
  {
   "cell_type": "code",
   "execution_count": 65,
   "metadata": {
    "colab": {
     "base_uri": "https://localhost:8080/"
    },
    "id": "LRAg6HVlS-LE",
    "outputId": "406f51be-1089-4b1c-a681-601d3dcdd99a"
   },
   "outputs": [
    {
     "data": {
      "text/plain": [
       "1.0"
      ]
     },
     "execution_count": 65,
     "metadata": {},
     "output_type": "execute_result"
    }
   ],
   "source": [
    "# Q1\n",
    "Q1_TP = taxis['passengers'].quantile(0.25)\n",
    "Q1_TP"
   ]
  },
  {
   "cell_type": "code",
   "execution_count": 66,
   "metadata": {
    "colab": {
     "base_uri": "https://localhost:8080/"
    },
    "id": "IfIGauMZTNOc",
    "outputId": "a8104d95-b283-4e1f-8511-5612df9db4c3"
   },
   "outputs": [
    {
     "data": {
      "text/plain": [
       "1.0"
      ]
     },
     "execution_count": 66,
     "metadata": {},
     "output_type": "execute_result"
    }
   ],
   "source": [
    "# Q2\n",
    "Q2_TP = taxis['passengers'].quantile(0.5)\n",
    "Q2_TP"
   ]
  },
  {
   "cell_type": "code",
   "execution_count": 67,
   "metadata": {
    "colab": {
     "base_uri": "https://localhost:8080/"
    },
    "id": "cECcBWW4eu0K",
    "outputId": "662e65ed-50e0-4ccd-dc52-96002338a630"
   },
   "outputs": [
    {
     "data": {
      "text/plain": [
       "2.0"
      ]
     },
     "execution_count": 67,
     "metadata": {},
     "output_type": "execute_result"
    }
   ],
   "source": [
    "# Q3\n",
    "Q3_TP = taxis['passengers'].quantile(0.75)\n",
    "Q3_TP"
   ]
  },
  {
   "cell_type": "code",
   "execution_count": 68,
   "metadata": {
    "colab": {
     "base_uri": "https://localhost:8080/"
    },
    "id": "DGCscpgheza3",
    "outputId": "1ad6d138-efe5-40a0-fcc9-a2d1b8076766"
   },
   "outputs": [
    {
     "data": {
      "text/plain": [
       "1.0"
      ]
     },
     "execution_count": 68,
     "metadata": {},
     "output_type": "execute_result"
    }
   ],
   "source": [
    "# Inter quartile range\n",
    "IQR_TP = Q3_TP - Q1_TP\n",
    "IQR_TP"
   ]
  },
  {
   "cell_type": "code",
   "execution_count": 69,
   "metadata": {
    "colab": {
     "base_uri": "https://localhost:8080/"
    },
    "id": "eO4IKyyffApp",
    "outputId": "f6fc65de-b839-4ceb-d387-f2de86668556"
   },
   "outputs": [
    {
     "data": {
      "text/plain": [
       "0.5"
      ]
     },
     "execution_count": 69,
     "metadata": {},
     "output_type": "execute_result"
    }
   ],
   "source": [
    "# QD\n",
    "QD_TP = (Q3_TP - Q1_TP)/2\n",
    "QD_TP"
   ]
  },
  {
   "cell_type": "code",
   "execution_count": 70,
   "metadata": {
    "colab": {
     "base_uri": "https://localhost:8080/"
    },
    "id": "icSk9Q0KfLT5",
    "outputId": "a1a84744-dc6b-4a94-cdeb-32c681cc5c55"
   },
   "outputs": [
    {
     "data": {
      "text/plain": [
       "14.652565777434717"
      ]
     },
     "execution_count": 70,
     "metadata": {},
     "output_type": "execute_result"
    }
   ],
   "source": [
    "# Variance\n",
    "taxis['distance'].var()"
   ]
  },
  {
   "cell_type": "code",
   "execution_count": 71,
   "metadata": {
    "colab": {
     "base_uri": "https://localhost:8080/"
    },
    "id": "xpaLhmaTfUX9",
    "outputId": "d588979b-9de7-499d-e41d-a1eb9521be54"
   },
   "outputs": [
    {
     "data": {
      "text/plain": [
       "3.8278670010117537"
      ]
     },
     "execution_count": 71,
     "metadata": {},
     "output_type": "execute_result"
    }
   ],
   "source": [
    "# Standard Deviation\n",
    "taxis['distance'].std()"
   ]
  },
  {
   "cell_type": "code",
   "execution_count": 72,
   "metadata": {
    "colab": {
     "base_uri": "https://localhost:8080/"
    },
    "id": "eWx-fDHhfY2n",
    "outputId": "dd0f386e-812a-4b10-84fa-c98d5295bac2"
   },
   "outputs": [
    {
     "data": {
      "text/plain": [
       "36.7"
      ]
     },
     "execution_count": 72,
     "metadata": {},
     "output_type": "execute_result"
    }
   ],
   "source": [
    "# Max\n",
    "max_TD = taxis['distance'].max()\n",
    "max_TD"
   ]
  },
  {
   "cell_type": "code",
   "execution_count": 73,
   "metadata": {
    "colab": {
     "base_uri": "https://localhost:8080/"
    },
    "id": "bg7YHuEnfjn4",
    "outputId": "73266952-b9f4-4762-ca73-11fe0dc9f4d1"
   },
   "outputs": [
    {
     "data": {
      "text/plain": [
       "0.0"
      ]
     },
     "execution_count": 73,
     "metadata": {},
     "output_type": "execute_result"
    }
   ],
   "source": [
    "# Min\n",
    "min_TD = taxis['distance'].min()\n",
    "min_TD"
   ]
  },
  {
   "cell_type": "code",
   "execution_count": 74,
   "metadata": {
    "colab": {
     "base_uri": "https://localhost:8080/"
    },
    "id": "nU_-XXUKfp9v",
    "outputId": "cf8388cd-c825-4568-fa61-5bf7c6272bbf"
   },
   "outputs": [
    {
     "data": {
      "text/plain": [
       "36.7"
      ]
     },
     "execution_count": 74,
     "metadata": {},
     "output_type": "execute_result"
    }
   ],
   "source": [
    "# Range\n",
    "Range_TD = max_TD - min_TD\n",
    "Range_TD"
   ]
  },
  {
   "cell_type": "code",
   "execution_count": 75,
   "metadata": {
    "colab": {
     "base_uri": "https://localhost:8080/"
    },
    "id": "Eou9EUvrfvTc",
    "outputId": "bd7e446b-c121-4091-d543-be345ceb70ae"
   },
   "outputs": [
    {
     "data": {
      "text/plain": [
       "0.98"
      ]
     },
     "execution_count": 75,
     "metadata": {},
     "output_type": "execute_result"
    }
   ],
   "source": [
    "# Q1\n",
    "Q1_TD = taxis['distance'].quantile(0.25)\n",
    "Q1_TD"
   ]
  },
  {
   "cell_type": "code",
   "execution_count": 76,
   "metadata": {
    "colab": {
     "base_uri": "https://localhost:8080/"
    },
    "id": "tUf1TE7Mf3Le",
    "outputId": "60dfdd42-3103-4fe6-efbb-c1a4f5c60418"
   },
   "outputs": [
    {
     "data": {
      "text/plain": [
       "1.64"
      ]
     },
     "execution_count": 76,
     "metadata": {},
     "output_type": "execute_result"
    }
   ],
   "source": [
    "# Q2\n",
    "Q2_TD = taxis['distance'].quantile(0.5)\n",
    "Q2_TD"
   ]
  },
  {
   "cell_type": "code",
   "execution_count": 77,
   "metadata": {
    "colab": {
     "base_uri": "https://localhost:8080/"
    },
    "id": "KfPj7VS_f8Fz",
    "outputId": "be899b03-f64e-4956-d971-f6fe5d23ff78"
   },
   "outputs": [
    {
     "data": {
      "text/plain": [
       "3.21"
      ]
     },
     "execution_count": 77,
     "metadata": {},
     "output_type": "execute_result"
    }
   ],
   "source": [
    "# Q3\n",
    "Q3_TD = taxis['distance'].quantile(0.75)\n",
    "Q3_TD"
   ]
  },
  {
   "cell_type": "code",
   "execution_count": 78,
   "metadata": {
    "colab": {
     "base_uri": "https://localhost:8080/"
    },
    "id": "y7eYsDr5gBxU",
    "outputId": "44f13889-ce50-4920-8805-081e745d9699"
   },
   "outputs": [
    {
     "data": {
      "text/plain": [
       "2.23"
      ]
     },
     "execution_count": 78,
     "metadata": {},
     "output_type": "execute_result"
    }
   ],
   "source": [
    "# Inter quartile range\n",
    "IQR_TD = Q3_TD - Q1_TD\n",
    "IQR_TD"
   ]
  },
  {
   "cell_type": "code",
   "execution_count": 79,
   "metadata": {
    "colab": {
     "base_uri": "https://localhost:8080/"
    },
    "id": "JT-uNhlqgHpI",
    "outputId": "ac7ba8a7-1eae-44b6-eb92-7cd22daef85e"
   },
   "outputs": [
    {
     "data": {
      "text/plain": [
       "1.115"
      ]
     },
     "execution_count": 79,
     "metadata": {},
     "output_type": "execute_result"
    }
   ],
   "source": [
    "# QD\n",
    "QD_TD = (Q3_TD - Q1_TD)/2\n",
    "QD_TD"
   ]
  },
  {
   "cell_type": "code",
   "execution_count": 80,
   "metadata": {
    "colab": {
     "base_uri": "https://localhost:8080/"
    },
    "id": "uVDBiHlygMo8",
    "outputId": "467944f2-b507-45f8-ae8c-25ff444df396"
   },
   "outputs": [
    {
     "data": {
      "text/plain": [
       "133.4441818095617"
      ]
     },
     "execution_count": 80,
     "metadata": {},
     "output_type": "execute_result"
    }
   ],
   "source": [
    "# Variance\n",
    "taxis['fare'].var()"
   ]
  },
  {
   "cell_type": "code",
   "execution_count": 81,
   "metadata": {
    "colab": {
     "base_uri": "https://localhost:8080/"
    },
    "id": "VZ9C52HOgY8i",
    "outputId": "3f9c2233-bf8b-4858-cbdb-95640dc2bfbc"
   },
   "outputs": [
    {
     "data": {
      "text/plain": [
       "11.55180426641491"
      ]
     },
     "execution_count": 81,
     "metadata": {},
     "output_type": "execute_result"
    }
   ],
   "source": [
    "# Standard Deviation\n",
    "taxis['fare'].std()"
   ]
  },
  {
   "cell_type": "code",
   "execution_count": 82,
   "metadata": {
    "colab": {
     "base_uri": "https://localhost:8080/"
    },
    "id": "lzdevMiqgc0N",
    "outputId": "a2982a28-ea3e-489e-ced4-4892f21176cb"
   },
   "outputs": [
    {
     "data": {
      "text/plain": [
       "150.0"
      ]
     },
     "execution_count": 82,
     "metadata": {},
     "output_type": "execute_result"
    }
   ],
   "source": [
    "# Max\n",
    "max_TF = taxis['fare'].max()\n",
    "max_TF"
   ]
  },
  {
   "cell_type": "code",
   "execution_count": 83,
   "metadata": {
    "colab": {
     "base_uri": "https://localhost:8080/"
    },
    "id": "CxdRzlhegiXG",
    "outputId": "a80594b1-024e-4f58-d52c-41a635229eaa"
   },
   "outputs": [
    {
     "data": {
      "text/plain": [
       "1.0"
      ]
     },
     "execution_count": 83,
     "metadata": {},
     "output_type": "execute_result"
    }
   ],
   "source": [
    "# Min\n",
    "min_TF = taxis['fare'].min()\n",
    "min_TF"
   ]
  },
  {
   "cell_type": "code",
   "execution_count": 84,
   "metadata": {
    "colab": {
     "base_uri": "https://localhost:8080/"
    },
    "id": "aX4RQVuygpxP",
    "outputId": "37f36562-1167-4830-d426-23a3151b8214"
   },
   "outputs": [
    {
     "data": {
      "text/plain": [
       "149.0"
      ]
     },
     "execution_count": 84,
     "metadata": {},
     "output_type": "execute_result"
    }
   ],
   "source": [
    "# Range\n",
    "Range_TF = max_TF - min_TF\n",
    "Range_TF"
   ]
  },
  {
   "cell_type": "code",
   "execution_count": 85,
   "metadata": {
    "colab": {
     "base_uri": "https://localhost:8080/"
    },
    "id": "gaZKYr--g4cH",
    "outputId": "2ae078b8-8eaf-4ca9-b3cd-999ac9bd3132"
   },
   "outputs": [
    {
     "data": {
      "text/plain": [
       "6.5"
      ]
     },
     "execution_count": 85,
     "metadata": {},
     "output_type": "execute_result"
    }
   ],
   "source": [
    "# Q1\n",
    "Q1_TF = taxis['fare'].quantile(0.25)\n",
    "Q1_TF"
   ]
  },
  {
   "cell_type": "code",
   "execution_count": 86,
   "metadata": {
    "colab": {
     "base_uri": "https://localhost:8080/"
    },
    "id": "L3Fnst-kg-dH",
    "outputId": "583195d4-7d1c-4feb-8628-4404ae249c62"
   },
   "outputs": [
    {
     "data": {
      "text/plain": [
       "9.5"
      ]
     },
     "execution_count": 86,
     "metadata": {},
     "output_type": "execute_result"
    }
   ],
   "source": [
    "# Q2\n",
    "Q2_TF = taxis['fare'].quantile(0.5)\n",
    "Q2_TF"
   ]
  },
  {
   "cell_type": "code",
   "execution_count": 87,
   "metadata": {
    "colab": {
     "base_uri": "https://localhost:8080/"
    },
    "id": "QPomayDdhDny",
    "outputId": "71a522eb-f064-48ab-e3fb-08fc9937574a"
   },
   "outputs": [
    {
     "data": {
      "text/plain": [
       "15.0"
      ]
     },
     "execution_count": 87,
     "metadata": {},
     "output_type": "execute_result"
    }
   ],
   "source": [
    "# Q3\n",
    "Q3_TF = taxis['fare'].quantile(0.75)\n",
    "Q3_TF"
   ]
  },
  {
   "cell_type": "code",
   "execution_count": 88,
   "metadata": {
    "colab": {
     "base_uri": "https://localhost:8080/"
    },
    "id": "RdArakehhIde",
    "outputId": "c1d03cff-a0e2-4059-d990-2604ba6c6114"
   },
   "outputs": [
    {
     "data": {
      "text/plain": [
       "8.5"
      ]
     },
     "execution_count": 88,
     "metadata": {},
     "output_type": "execute_result"
    }
   ],
   "source": [
    "# Inter quartile range\n",
    "IQR_TF = Q3_TF - Q1_TF\n",
    "IQR_TF"
   ]
  },
  {
   "cell_type": "code",
   "execution_count": 89,
   "metadata": {
    "colab": {
     "base_uri": "https://localhost:8080/"
    },
    "id": "HuFtFZR2hNdF",
    "outputId": "4e21d35b-8e47-41aa-ac58-efb7a7abcf02"
   },
   "outputs": [
    {
     "data": {
      "text/plain": [
       "4.25"
      ]
     },
     "execution_count": 89,
     "metadata": {},
     "output_type": "execute_result"
    }
   ],
   "source": [
    "# QD\n",
    "QD_TF = (Q3_TF - Q1_TF)/2\n",
    "QD_TF"
   ]
  },
  {
   "cell_type": "code",
   "execution_count": 90,
   "metadata": {
    "colab": {
     "base_uri": "https://localhost:8080/"
    },
    "id": "oCkjWB6rhSIt",
    "outputId": "b50740e4-97c5-4a21-8688-217c5d4984ff"
   },
   "outputs": [
    {
     "data": {
      "text/plain": [
       "5.9954440737928785"
      ]
     },
     "execution_count": 90,
     "metadata": {},
     "output_type": "execute_result"
    }
   ],
   "source": [
    "# Variance\n",
    "taxis['tip'].var()"
   ]
  },
  {
   "cell_type": "code",
   "execution_count": 91,
   "metadata": {
    "colab": {
     "base_uri": "https://localhost:8080/"
    },
    "id": "Xv0jxYKchwKT",
    "outputId": "3fc43c49-6a55-4d03-e4e6-238c5df48cf5"
   },
   "outputs": [
    {
     "data": {
      "text/plain": [
       "2.4485595916360454"
      ]
     },
     "execution_count": 91,
     "metadata": {},
     "output_type": "execute_result"
    }
   ],
   "source": [
    "# Standard Deviation\n",
    "taxis['tip'].std()"
   ]
  },
  {
   "cell_type": "code",
   "execution_count": 92,
   "metadata": {
    "colab": {
     "base_uri": "https://localhost:8080/"
    },
    "id": "nNHPhMMsh-CS",
    "outputId": "793234c6-bcfc-4729-c7ff-0c9227b88f4f"
   },
   "outputs": [
    {
     "data": {
      "text/plain": [
       "33.2"
      ]
     },
     "execution_count": 92,
     "metadata": {},
     "output_type": "execute_result"
    }
   ],
   "source": [
    "# Max\n",
    "max_TTi = taxis['tip'].max()\n",
    "max_TTi"
   ]
  },
  {
   "cell_type": "code",
   "execution_count": 93,
   "metadata": {
    "colab": {
     "base_uri": "https://localhost:8080/"
    },
    "id": "Utcv-Re0ia77",
    "outputId": "98440061-6414-400a-fe6c-effdb5769667"
   },
   "outputs": [
    {
     "data": {
      "text/plain": [
       "0.0"
      ]
     },
     "execution_count": 93,
     "metadata": {},
     "output_type": "execute_result"
    }
   ],
   "source": [
    "# Min\n",
    "min_TTi = taxis['tip'].min()\n",
    "min_TTi"
   ]
  },
  {
   "cell_type": "code",
   "execution_count": 94,
   "metadata": {
    "colab": {
     "base_uri": "https://localhost:8080/"
    },
    "id": "soanyxWgish8",
    "outputId": "e923a492-3849-449f-e61f-fb35578395d2"
   },
   "outputs": [
    {
     "data": {
      "text/plain": [
       "33.2"
      ]
     },
     "execution_count": 94,
     "metadata": {},
     "output_type": "execute_result"
    }
   ],
   "source": [
    "# Range\n",
    "Range_TTi = max_TTi - min_TTi\n",
    "Range_TTi"
   ]
  },
  {
   "cell_type": "code",
   "execution_count": 95,
   "metadata": {
    "colab": {
     "base_uri": "https://localhost:8080/"
    },
    "id": "8bngrH0si-07",
    "outputId": "d83ff96d-6f7f-431e-d4f6-1dfb966ce244"
   },
   "outputs": [
    {
     "data": {
      "text/plain": [
       "0.0"
      ]
     },
     "execution_count": 95,
     "metadata": {},
     "output_type": "execute_result"
    }
   ],
   "source": [
    "# Q1\n",
    "Q1_TTi = taxis['tip'].quantile(0.25)\n",
    "Q1_TTi"
   ]
  },
  {
   "cell_type": "code",
   "execution_count": 96,
   "metadata": {
    "colab": {
     "base_uri": "https://localhost:8080/"
    },
    "id": "sfg-EvZAjTgU",
    "outputId": "c1151c07-1bdf-4888-f399-a26fb7d60157"
   },
   "outputs": [
    {
     "data": {
      "text/plain": [
       "1.7"
      ]
     },
     "execution_count": 96,
     "metadata": {},
     "output_type": "execute_result"
    }
   ],
   "source": [
    "# Q2\n",
    "Q2_TTi = taxis['tip'].quantile(0.5)\n",
    "Q2_TTi"
   ]
  },
  {
   "cell_type": "code",
   "execution_count": 97,
   "metadata": {
    "colab": {
     "base_uri": "https://localhost:8080/"
    },
    "id": "uuJD7scnjjo5",
    "outputId": "b03226ef-aa7f-4ca4-d1ae-a8079a98d47f"
   },
   "outputs": [
    {
     "data": {
      "text/plain": [
       "2.8"
      ]
     },
     "execution_count": 97,
     "metadata": {},
     "output_type": "execute_result"
    }
   ],
   "source": [
    "# Q3\n",
    "Q3_TTi = taxis['tip'].quantile(0.75)\n",
    "Q3_TTi"
   ]
  },
  {
   "cell_type": "code",
   "execution_count": 98,
   "metadata": {
    "colab": {
     "base_uri": "https://localhost:8080/"
    },
    "id": "uIqx0_cVj4Vo",
    "outputId": "1d14fc2b-669d-481f-cd6e-f1068fd60ad2"
   },
   "outputs": [
    {
     "data": {
      "text/plain": [
       "2.8"
      ]
     },
     "execution_count": 98,
     "metadata": {},
     "output_type": "execute_result"
    }
   ],
   "source": [
    "# Inter quartile range\n",
    "IQR_TTi = Q3_TTi - Q1_TTi\n",
    "IQR_TTi"
   ]
  },
  {
   "cell_type": "code",
   "execution_count": 99,
   "metadata": {
    "colab": {
     "base_uri": "https://localhost:8080/"
    },
    "id": "qTWBbkf5kJ6U",
    "outputId": "e11036cf-d449-4738-fc99-947e40e35820"
   },
   "outputs": [
    {
     "data": {
      "text/plain": [
       "1.4"
      ]
     },
     "execution_count": 99,
     "metadata": {},
     "output_type": "execute_result"
    }
   ],
   "source": [
    "# QD\n",
    "QD_TTi = (Q3_TTi - Q1_TTi)/2\n",
    "QD_TTi"
   ]
  },
  {
   "cell_type": "code",
   "execution_count": 100,
   "metadata": {
    "colab": {
     "base_uri": "https://localhost:8080/"
    },
    "id": "x0Fx8UJphc4d",
    "outputId": "61d018bc-1640-4c89-ec36-469eefe01dbf"
   },
   "outputs": [
    {
     "data": {
      "text/plain": [
       "2.002981614772268"
      ]
     },
     "execution_count": 100,
     "metadata": {},
     "output_type": "execute_result"
    }
   ],
   "source": [
    "# Variance\n",
    "taxis['tolls'].var()"
   ]
  },
  {
   "cell_type": "code",
   "execution_count": 101,
   "metadata": {
    "colab": {
     "base_uri": "https://localhost:8080/"
    },
    "id": "NYzOMQpxhynS",
    "outputId": "75502f3e-05a9-4482-ecc3-ab2a599777cf"
   },
   "outputs": [
    {
     "data": {
      "text/plain": [
       "1.4152673297904774"
      ]
     },
     "execution_count": 101,
     "metadata": {},
     "output_type": "execute_result"
    }
   ],
   "source": [
    "# Standard Deviation\n",
    "taxis['tolls'].std()"
   ]
  },
  {
   "cell_type": "code",
   "execution_count": 102,
   "metadata": {
    "colab": {
     "base_uri": "https://localhost:8080/"
    },
    "id": "CIhrnuZ6iDd7",
    "outputId": "2b9b2ab6-1165-416f-e1b4-5f7f777fcaec"
   },
   "outputs": [
    {
     "data": {
      "text/plain": [
       "24.02"
      ]
     },
     "execution_count": 102,
     "metadata": {},
     "output_type": "execute_result"
    }
   ],
   "source": [
    "# Max\n",
    "max_TTo = taxis['tolls'].max()\n",
    "max_TTo"
   ]
  },
  {
   "cell_type": "code",
   "execution_count": 103,
   "metadata": {
    "colab": {
     "base_uri": "https://localhost:8080/"
    },
    "id": "VRtbK4oPig1a",
    "outputId": "76f77f94-ed28-4c11-a35b-b8168e77f27e"
   },
   "outputs": [
    {
     "data": {
      "text/plain": [
       "0.0"
      ]
     },
     "execution_count": 103,
     "metadata": {},
     "output_type": "execute_result"
    }
   ],
   "source": [
    "# Min\n",
    "min_TTo = taxis['tolls'].min()\n",
    "min_TTo"
   ]
  },
  {
   "cell_type": "code",
   "execution_count": 104,
   "metadata": {
    "colab": {
     "base_uri": "https://localhost:8080/"
    },
    "id": "bRO2vYp8ixoD",
    "outputId": "6eb52684-3e60-4742-e198-ae8f8d357608"
   },
   "outputs": [
    {
     "data": {
      "text/plain": [
       "24.02"
      ]
     },
     "execution_count": 104,
     "metadata": {},
     "output_type": "execute_result"
    }
   ],
   "source": [
    "# Range\n",
    "Range_TTo = max_TTo - min_TTo\n",
    "Range_TTo"
   ]
  },
  {
   "cell_type": "code",
   "execution_count": 105,
   "metadata": {
    "colab": {
     "base_uri": "https://localhost:8080/"
    },
    "id": "BtYvHJwDjF3x",
    "outputId": "50392a3a-fef6-4f78-e0c4-8f5c6027ad43"
   },
   "outputs": [
    {
     "data": {
      "text/plain": [
       "0.0"
      ]
     },
     "execution_count": 105,
     "metadata": {},
     "output_type": "execute_result"
    }
   ],
   "source": [
    "# Q1\n",
    "Q1_TTo = taxis['tolls'].quantile(0.25)\n",
    "Q1_TTo"
   ]
  },
  {
   "cell_type": "code",
   "execution_count": 106,
   "metadata": {
    "colab": {
     "base_uri": "https://localhost:8080/"
    },
    "id": "EnAIL4e1jZSm",
    "outputId": "e680e979-e072-4eb6-c5f0-15ce7b4c55f9"
   },
   "outputs": [
    {
     "data": {
      "text/plain": [
       "0.0"
      ]
     },
     "execution_count": 106,
     "metadata": {},
     "output_type": "execute_result"
    }
   ],
   "source": [
    "# Q2\n",
    "Q2_TTo = taxis['tolls'].quantile(0.5)\n",
    "Q2_TTo"
   ]
  },
  {
   "cell_type": "code",
   "execution_count": 107,
   "metadata": {
    "colab": {
     "base_uri": "https://localhost:8080/"
    },
    "id": "ID_UfGZSjo-E",
    "outputId": "c322bb59-398d-49fc-fa38-1cd6eda2eb83"
   },
   "outputs": [
    {
     "data": {
      "text/plain": [
       "0.0"
      ]
     },
     "execution_count": 107,
     "metadata": {},
     "output_type": "execute_result"
    }
   ],
   "source": [
    "# Q3\n",
    "Q3_TTo = taxis['tolls'].quantile(0.75)\n",
    "Q3_TTo"
   ]
  },
  {
   "cell_type": "code",
   "execution_count": 108,
   "metadata": {
    "colab": {
     "base_uri": "https://localhost:8080/"
    },
    "id": "rfX27siCj999",
    "outputId": "17e40a95-b9b2-45ae-d7bc-d1dc5c476886"
   },
   "outputs": [
    {
     "data": {
      "text/plain": [
       "0.0"
      ]
     },
     "execution_count": 108,
     "metadata": {},
     "output_type": "execute_result"
    }
   ],
   "source": [
    "# Inter quartile range\n",
    "IQR_TTo = Q3_TTo - Q1_TTo\n",
    "IQR_TTo"
   ]
  },
  {
   "cell_type": "code",
   "execution_count": 109,
   "metadata": {
    "colab": {
     "base_uri": "https://localhost:8080/"
    },
    "id": "fEH3hKTskPWa",
    "outputId": "9156ec7e-03e2-4c0d-d2fa-ae8f5d449b67"
   },
   "outputs": [
    {
     "data": {
      "text/plain": [
       "0.0"
      ]
     },
     "execution_count": 109,
     "metadata": {},
     "output_type": "execute_result"
    }
   ],
   "source": [
    "# QD\n",
    "QD_TTo = (Q3_TTo - Q1_TTo)/2\n",
    "QD_TTo"
   ]
  },
  {
   "cell_type": "code",
   "execution_count": 110,
   "metadata": {
    "colab": {
     "base_uri": "https://localhost:8080/"
    },
    "id": "PrDweoNZhfD-",
    "outputId": "d6ba17a6-0c5a-4d0e-e69c-4ce9b03c3e88"
   },
   "outputs": [
    {
     "data": {
      "text/plain": [
       "190.86997555962333"
      ]
     },
     "execution_count": 110,
     "metadata": {},
     "output_type": "execute_result"
    }
   ],
   "source": [
    "# Variance\n",
    "taxis['total'].var()"
   ]
  },
  {
   "cell_type": "code",
   "execution_count": 111,
   "metadata": {
    "colab": {
     "base_uri": "https://localhost:8080/"
    },
    "id": "U9lKFE1whmTP",
    "outputId": "da866096-6525-44d4-8deb-f3d6fb3ffed9"
   },
   "outputs": [
    {
     "data": {
      "text/plain": [
       "13.81557004106683"
      ]
     },
     "execution_count": 111,
     "metadata": {},
     "output_type": "execute_result"
    }
   ],
   "source": [
    "# Standard Deviation\n",
    "taxis['total'].std()"
   ]
  },
  {
   "cell_type": "code",
   "execution_count": 112,
   "metadata": {
    "colab": {
     "base_uri": "https://localhost:8080/"
    },
    "id": "QOVy3s4gh255",
    "outputId": "19d339af-b52e-4aa3-ae4e-58c591b3e91b"
   },
   "outputs": [
    {
     "data": {
      "text/plain": [
       "174.82"
      ]
     },
     "execution_count": 112,
     "metadata": {},
     "output_type": "execute_result"
    }
   ],
   "source": [
    "# Max\n",
    "max_TTl = taxis['total'].max()\n",
    "max_TTl"
   ]
  },
  {
   "cell_type": "code",
   "execution_count": 113,
   "metadata": {
    "colab": {
     "base_uri": "https://localhost:8080/"
    },
    "id": "VG6VwNa2iOXH",
    "outputId": "eb7b3198-b113-47f8-f148-802cdfcecca5"
   },
   "outputs": [
    {
     "data": {
      "text/plain": [
       "1.3"
      ]
     },
     "execution_count": 113,
     "metadata": {},
     "output_type": "execute_result"
    }
   ],
   "source": [
    "# Min\n",
    "min_TTl = taxis['total'].min()\n",
    "min_TTl"
   ]
  },
  {
   "cell_type": "code",
   "execution_count": 114,
   "metadata": {
    "colab": {
     "base_uri": "https://localhost:8080/"
    },
    "id": "-0-JNYZTioTE",
    "outputId": "9e7c14eb-3592-4613-cb82-8ee24f05e5b8"
   },
   "outputs": [
    {
     "data": {
      "text/plain": [
       "173.51999999999998"
      ]
     },
     "execution_count": 114,
     "metadata": {},
     "output_type": "execute_result"
    }
   ],
   "source": [
    "# Range\n",
    "Range_TTl = max_TTl - min_TTl\n",
    "Range_TTl"
   ]
  },
  {
   "cell_type": "code",
   "execution_count": 115,
   "metadata": {
    "colab": {
     "base_uri": "https://localhost:8080/"
    },
    "id": "7Eq-NNtai5xO",
    "outputId": "38af45f6-bfbc-4cff-e836-dbced45eb1b2"
   },
   "outputs": [
    {
     "data": {
      "text/plain": [
       "10.8"
      ]
     },
     "execution_count": 115,
     "metadata": {},
     "output_type": "execute_result"
    }
   ],
   "source": [
    "# Q1\n",
    "Q1_TTl = taxis['total'].quantile(0.25)\n",
    "Q1_TTl"
   ]
  },
  {
   "cell_type": "code",
   "execution_count": 116,
   "metadata": {
    "colab": {
     "base_uri": "https://localhost:8080/"
    },
    "id": "heZPgHJpjNdo",
    "outputId": "bb3b18db-2d96-4e2d-be5c-30748500eeb3"
   },
   "outputs": [
    {
     "data": {
      "text/plain": [
       "14.16"
      ]
     },
     "execution_count": 116,
     "metadata": {},
     "output_type": "execute_result"
    }
   ],
   "source": [
    "# Q2\n",
    "Q2_TTl = taxis['total'].quantile(0.5)\n",
    "Q2_TTl"
   ]
  },
  {
   "cell_type": "code",
   "execution_count": 117,
   "metadata": {
    "colab": {
     "base_uri": "https://localhost:8080/"
    },
    "id": "HUTHWNrXjgYd",
    "outputId": "0cd4eab7-52b6-4940-d67d-2d274ca1c1e8"
   },
   "outputs": [
    {
     "data": {
      "text/plain": [
       "20.3"
      ]
     },
     "execution_count": 117,
     "metadata": {},
     "output_type": "execute_result"
    }
   ],
   "source": [
    "# Q3\n",
    "Q3_TTl = taxis['total'].quantile(0.75)\n",
    "Q3_TTl"
   ]
  },
  {
   "cell_type": "code",
   "execution_count": 118,
   "metadata": {
    "colab": {
     "base_uri": "https://localhost:8080/"
    },
    "id": "ibytX3KjjwTH",
    "outputId": "2a0fbfc3-a0e2-4fe6-f3f6-3b1625d34df9"
   },
   "outputs": [
    {
     "data": {
      "text/plain": [
       "9.5"
      ]
     },
     "execution_count": 118,
     "metadata": {},
     "output_type": "execute_result"
    }
   ],
   "source": [
    "# Inter quartile range\n",
    "IQR_TTl = Q3_TTl - Q1_TTl\n",
    "IQR_TTl"
   ]
  },
  {
   "cell_type": "code",
   "execution_count": 119,
   "metadata": {
    "colab": {
     "base_uri": "https://localhost:8080/"
    },
    "id": "COEE2YArkGjt",
    "outputId": "fe1c878f-bf9b-4f3b-9a86-af807d96214d"
   },
   "outputs": [
    {
     "data": {
      "text/plain": [
       "4.75"
      ]
     },
     "execution_count": 119,
     "metadata": {},
     "output_type": "execute_result"
    }
   ],
   "source": [
    "# QD\n",
    "QD_TTl = (Q3_TTl - Q1_TTl)/2\n",
    "QD_TTl"
   ]
  },
  {
   "cell_type": "code",
   "execution_count": 120,
   "metadata": {
    "colab": {
     "base_uri": "https://localhost:8080/",
     "height": 300
    },
    "id": "QqmEMXf-dQ6V",
    "outputId": "5ef6494d-801f-4ddf-f70c-793b25db991c"
   },
   "outputs": [
    {
     "data": {
      "text/html": [
       "<div>\n",
       "<style scoped>\n",
       "    .dataframe tbody tr th:only-of-type {\n",
       "        vertical-align: middle;\n",
       "    }\n",
       "\n",
       "    .dataframe tbody tr th {\n",
       "        vertical-align: top;\n",
       "    }\n",
       "\n",
       "    .dataframe thead th {\n",
       "        text-align: right;\n",
       "    }\n",
       "</style>\n",
       "<table border=\"1\" class=\"dataframe\">\n",
       "  <thead>\n",
       "    <tr style=\"text-align: right;\">\n",
       "      <th></th>\n",
       "      <th>passengers</th>\n",
       "      <th>distance</th>\n",
       "      <th>fare</th>\n",
       "      <th>tip</th>\n",
       "      <th>tolls</th>\n",
       "      <th>total</th>\n",
       "    </tr>\n",
       "  </thead>\n",
       "  <tbody>\n",
       "    <tr>\n",
       "      <th>count</th>\n",
       "      <td>6433.000000</td>\n",
       "      <td>6433.000000</td>\n",
       "      <td>6433.000000</td>\n",
       "      <td>6433.00000</td>\n",
       "      <td>6433.000000</td>\n",
       "      <td>6433.000000</td>\n",
       "    </tr>\n",
       "    <tr>\n",
       "      <th>mean</th>\n",
       "      <td>1.539251</td>\n",
       "      <td>3.024617</td>\n",
       "      <td>13.091073</td>\n",
       "      <td>1.97922</td>\n",
       "      <td>0.325273</td>\n",
       "      <td>18.517794</td>\n",
       "    </tr>\n",
       "    <tr>\n",
       "      <th>std</th>\n",
       "      <td>1.203768</td>\n",
       "      <td>3.827867</td>\n",
       "      <td>11.551804</td>\n",
       "      <td>2.44856</td>\n",
       "      <td>1.415267</td>\n",
       "      <td>13.815570</td>\n",
       "    </tr>\n",
       "    <tr>\n",
       "      <th>min</th>\n",
       "      <td>0.000000</td>\n",
       "      <td>0.000000</td>\n",
       "      <td>1.000000</td>\n",
       "      <td>0.00000</td>\n",
       "      <td>0.000000</td>\n",
       "      <td>1.300000</td>\n",
       "    </tr>\n",
       "    <tr>\n",
       "      <th>25%</th>\n",
       "      <td>1.000000</td>\n",
       "      <td>0.980000</td>\n",
       "      <td>6.500000</td>\n",
       "      <td>0.00000</td>\n",
       "      <td>0.000000</td>\n",
       "      <td>10.800000</td>\n",
       "    </tr>\n",
       "    <tr>\n",
       "      <th>50%</th>\n",
       "      <td>1.000000</td>\n",
       "      <td>1.640000</td>\n",
       "      <td>9.500000</td>\n",
       "      <td>1.70000</td>\n",
       "      <td>0.000000</td>\n",
       "      <td>14.160000</td>\n",
       "    </tr>\n",
       "    <tr>\n",
       "      <th>75%</th>\n",
       "      <td>2.000000</td>\n",
       "      <td>3.210000</td>\n",
       "      <td>15.000000</td>\n",
       "      <td>2.80000</td>\n",
       "      <td>0.000000</td>\n",
       "      <td>20.300000</td>\n",
       "    </tr>\n",
       "    <tr>\n",
       "      <th>max</th>\n",
       "      <td>6.000000</td>\n",
       "      <td>36.700000</td>\n",
       "      <td>150.000000</td>\n",
       "      <td>33.20000</td>\n",
       "      <td>24.020000</td>\n",
       "      <td>174.820000</td>\n",
       "    </tr>\n",
       "  </tbody>\n",
       "</table>\n",
       "</div>"
      ],
      "text/plain": [
       "        passengers     distance         fare         tip        tolls  \\\n",
       "count  6433.000000  6433.000000  6433.000000  6433.00000  6433.000000   \n",
       "mean      1.539251     3.024617    13.091073     1.97922     0.325273   \n",
       "std       1.203768     3.827867    11.551804     2.44856     1.415267   \n",
       "min       0.000000     0.000000     1.000000     0.00000     0.000000   \n",
       "25%       1.000000     0.980000     6.500000     0.00000     0.000000   \n",
       "50%       1.000000     1.640000     9.500000     1.70000     0.000000   \n",
       "75%       2.000000     3.210000    15.000000     2.80000     0.000000   \n",
       "max       6.000000    36.700000   150.000000    33.20000    24.020000   \n",
       "\n",
       "             total  \n",
       "count  6433.000000  \n",
       "mean     18.517794  \n",
       "std      13.815570  \n",
       "min       1.300000  \n",
       "25%      10.800000  \n",
       "50%      14.160000  \n",
       "75%      20.300000  \n",
       "max     174.820000  "
      ]
     },
     "execution_count": 120,
     "metadata": {},
     "output_type": "execute_result"
    }
   ],
   "source": [
    "#summary of all the codes above\n",
    "taxis.describe()"
   ]
  },
  {
   "cell_type": "markdown",
   "metadata": {
    "id": "xvn4eA_XkmYF"
   },
   "source": [
    "## **Covariance and Correlation**"
   ]
  },
  {
   "cell_type": "markdown",
   "metadata": {
    "id": "dLEUsLNakuAM"
   },
   "source": [
    "***To Do 8:"
   ]
  },
  {
   "cell_type": "markdown",
   "metadata": {
    "id": "tpNI3KXvkzJ7"
   },
   "source": [
    "**1).** Calculate the covariance and correlation between the distinct pair of the columns given in the dataframe above using the given formulas and interpret the answers."
   ]
  },
  {
   "cell_type": "markdown",
   "metadata": {
    "id": "YWPU50lKrAzV"
   },
   "source": [
    "**Solution:**\n",
    "\n",
    "The given data:\n",
    "\n",
    "![Screenshot from 2022-08-30 00-24-46.png](data:image/png;base64,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)"
   ]
  },
  {
   "cell_type": "markdown",
   "metadata": {
    "id": "Hn37TafK2lh_"
   },
   "source": [
    "#Covariance\n",
    "\n",
    "The formula to find covariance is;\n",
    "\n",
    "since it is a sample data we will use $Cov(x,y)=\\frac{\\displaystyle\\sum_{i=1}^n(x_i-\\bar{x})(y_i-\\bar{y})}{n-1}$\n",
    "\n",
    "**Age to Age**\n",
    "\n",
    "\\begin{array}{|c|c|} \\hline\n",
    "Age(x_i) & (x_i - \\bar{x}) & Age(y_i) & (y_i - \\bar{y}) & (x_i - \\bar{x}) (y_i - \\bar{y}) \\\\ \\hline\n",
    "28 & -12.5 & 28 & -12.5 & 156.25 \\\\ \\hline\n",
    "23 & -17.5 & 23 & -17.5 & 306.25 \\\\ \\hline\n",
    "35 & -5.5 & 35 & -5.5 & 30.25 \\\\ \\hline\n",
    "54 & 13.5 & 54 & 13.5 & 182.25 \\\\ \\hline\n",
    "31 & -9.5 & 31 & -9.5 & 90.25 \\\\ \\hline\n",
    "27 & -13.5 & 27 & -13.5 & 182.25 \\\\ \\hline\n",
    "85 & 44.5 & 85 & 44.5 & 1980.25 \\\\ \\hline\n",
    "41 & 0.5 & 41 & 0.5 & 0.25 \\\\ \\hline\n",
    "{\\sum x_i} = 324/8 = 40.5 & & & & {\\sum (x_i - \\bar{x}) (y_i - \\bar{y})} =2928/8-1 = 418.2857142857 \\\\ \\hline\n",
    "\\end{array}\n",
    "\n",
    "Therefore, the convariance between Age to Age is **418.285714**\n",
    "\n",
    "**Age to Weight(kg)**\n",
    "\n",
    "\\begin{array}{|c|c|} \\hline\n",
    "Age(x_i) & (x_i - \\bar{x}) & Weight(kg)(y_i) & (y_i - \\bar{y}) & (x_i - \\bar{x}) (y_i - \\bar{y}) \\\\ \\hline\n",
    "28 & -12.5 & 63 & 2.625 & -32.8125 \\\\ \\hline\n",
    "23 & -17.5 & 67 & 6.625 & -115.9375 \\\\ \\hline\n",
    "35 & -5.5 & 81 & 20.625 & -113.4375 \\\\ \\hline\n",
    "54 & 13.5 & 55 & -5.375 & -72.5625 \\\\ \\hline\n",
    "31 & -9.5 & 47 & -13.375 & 127.0625 \\\\ \\hline\n",
    "27 & -13.5 & 72 & 11.625 & -156.9375 \\\\ \\hline\n",
    "85 & 44.5 & 53 & -7.375 & -328.1875 \\\\ \\hline\n",
    "41 & 0.5 & 45 & -15.375 & -7.6875 \\\\ \\hline\n",
    "{\\sum x_i} = 324/8 = 40.5 & & 483/8 = 60.375 & & {\\sum (x_i - \\bar{x}) (y_i - \\bar{y})} =-700.5/8-1 = -100.0714285714 \\\\ \\hline\n",
    "\\end{array}\n",
    "\n",
    "Therere, the covariance between Age to Weight(kg) is **-100.071429**\n",
    "\n",
    "**Age to Height(cm)**\n",
    "\n",
    "\\begin{array}{|c|c|} \\hline\n",
    "Age(x_i) & (x_i - \\bar{x}) & Height(cm)(y_i) & (y_i - \\bar{y}) & (x_i - \\bar{x}) (y_i - \\bar{y}) \\\\ \\hline\n",
    "28 & -12.5 & 175 & 16.375 & -204.6875 \\\\ \\hline\n",
    "23 & -17.5 & 125 & -33.625 & 588.4375 \\\\ \\hline\n",
    "35 & -5.5 & 156 & -2.625 & 14.4375 \\\\ \\hline\n",
    "54 & 13.5 & 165 & 6.375 & 86.0625 \\\\ \\hline\n",
    "31 & -9.5 & 157 & -1.625 & 15.4375 \\\\ \\hline\n",
    "27 & -13.5 & 179 & 20.375 & -275.0625 \\\\ \\hline\n",
    "85 & 44.5 & 161 & 2.375 & 105.6875 \\\\ \\hline\n",
    "41 & 0.5 & 151 & -7.625 & -3.8125 \\\\ \\hline\n",
    "{\\sum x_i} = 324/8 = 40.5 & & {\\sum y_i} = 1269/8 = 158.625 & & {\\sum (x_i - \\bar{x}) (y_i - \\bar{y})} =326.5/8-1 = 46.6428571429 \\\\ \\hline\n",
    "\\end{array}\n",
    "\n",
    "Therere, the covariance between Age to Height(cm) is **46.642857**\n",
    "\n",
    "**Weight(kg) to Weight(kg)**\n",
    "\n",
    "\\begin{array}{|c|c|} \\hline\n",
    "Weight(kg)(x_i) & (x_i - \\bar{x}) & Weight(kg)(y_i) & (y_i - \\bar{y}) & (x_i - \\bar{x}) (y_i - \\bar{y}) \\\\ \\hline\n",
    "63 & 2.625 & 63 & 2.625 & 6.890625 \\\\ \\hline\n",
    "67 & 6.625 & 67 & 6.625 & 43.890625 \\\\ \\hline\n",
    "81 & 20.625 & 81 & 20.625 & 425.390625 \\\\ \\hline\n",
    "55 & -5.375 & 55 & -5.375 & 28.890625 \\\\ \\hline\n",
    "47 & -13.375 & 47 & -13.375 & 178.890625 \\\\ \\hline\n",
    "72 & 11.625 & 72 & 11.625 & 135.140625 \\\\ \\hline\n",
    "53 & -7.375 & 53 & -7.375 & 54.390625 \\\\ \\hline\n",
    "45 & -15.375 & 45 & -15.375 & 236.390625 \\\\ \\hline\n",
    "{\\sum x_i} = 483/8 = 60.375 & & 483/8 = 60.375 & & {\\sum (x_i - \\bar{x}) (y_i - \\bar{y})} =1109.875/8-1 = 158.5535714286 \\\\ \\hline\n",
    "\\end{array}\n",
    "\n",
    "Therere, the covariance between Weight(kg) to Weight(kg) is **158.553571**\n",
    "\n",
    "**Weight(kg) to Height(cm)**\n",
    "\n",
    "\\begin{array}{|c|c|} \\hline\n",
    "Weight(kg)(x_i) & (x_i - \\bar{x}) & Height(cm)(y_i) & (y_i - \\bar{y}) & (x_i - \\bar{x}) (y_i - \\bar{y}) \\\\ \\hline\n",
    "63 & 2.625 & 175 & 16.375 & 42.984375 \\\\ \\hline\n",
    "67 & 6.625 & 125 & -33.625 & -222.765625 \\\\ \\hline\n",
    "81 & 20.625 & 156 & -2.625 & -54.140625 \\\\ \\hline\n",
    "55 & -5.375 & 165 & 6.375 & -34.265625 \\\\ \\hline\n",
    "47 & -13.375 & 157 & -1.625 & 21.734375 \\\\ \\hline\n",
    "72 & 11.625 & 179 & 20.375 & 236.859375 \\\\ \\hline\n",
    "53 & -7.375 & 161 & 2.375 & -17.515625 \\\\ \\hline\n",
    "45 & -15.375 & 151 & -7.625 & 117.234375 \\\\ \\hline\n",
    "{\\sum x_i} = 483/8 = 60.375 & & {\\sum y_i} = 1269/8 = 158.625 & & {\\sum (x_i - \\bar{x}) (y_i - \\bar{y})} = 90.125/8-1 = 12.875 \\\\ \\hline\n",
    "\\end{array}\n",
    "\n",
    "Therere, the covariance between Weight(kg) to Height(cm) is **12.875000**\n",
    "\n",
    "**Height(cm) to Height(cm)**\n",
    "\n",
    "\\begin{array}{|c|c|} \\hline\n",
    "Height(cm)(x_i) & (x_i - \\bar{x}) & Height(cm)(y_i) & (y_i - \\bar{y}) & (x_i - \\bar{x}) (y_i - \\bar{y}) \\\\ \\hline\n",
    "175 & 16.375 & 175 & 16.375 & 268.140625 \\\\ \\hline\n",
    "125 & -33.625 & 125 & -33.625 & 1130.640625 \\\\ \\hline\n",
    "156 & -2.625 & 156 & -2.625 & 6.890625 \\\\ \\hline\n",
    "165 & 6.375 & 165 & 6.375 & 40.640625 \\\\ \\hline\n",
    "157 & -1.625 & 157 & -1.625 & 2.640625 \\\\ \\hline\n",
    "179 & 20.375 & 179 & 20.375 & 415.140625 \\\\ \\hline\n",
    "161 & 2.375 & 161 & 2.375 & 5.640625 \\\\ \\hline\n",
    "151 & -7.625 & 151 & -7.625 & 58.140625 \\\\ \\hline\n",
    "{\\sum x_i} = 1269/8 = 158.625 & & {\\sum y_i} = 1269/8 = 158.625 & & {\\sum (x_i - \\bar{x}) (y_i - \\bar{y})} = 1927.875/8-1 = 275.4107142857 \\\\ \\hline\n",
    "\\end{array}\n",
    "\n",
    "Therere, the covariance between Height(cm) to Height(cm) is **275.410714**\n",
    "\n",
    "Therefore, the covariance for above data is \n",
    "\n",
    "\\begin{array}{|c|c|} \\hline\n",
    " & Age & Weight(kg) & Height(cm) \\\\ \\hline\n",
    "Age & 418.285714 & -100.071429 & 46.642857  \\\\ \\hline\n",
    "Weight(kg) & -100.071429 & 158.553571 & 12.875000 \\\\ \\hline\n",
    "Height(cm) & 46.642857 & 12.875000 & 275.410714 \\\\ \\hline\n",
    "\\end{array}\n",
    "\n",
    "#Correlation\n",
    "\n",
    "Now the formula to find correlation is $r(x,y)=\\frac{Cov(x,y)}{\\sigma_x\\sigma_y} = \\displaystyle\\frac{\\frac{1}{n}\\sum\\limits_{i=1}^n(x_i-\\bar{x})(y_i-\\bar{y})}{\\sigma_x\\sigma_y}$\n",
    "\n",
    "**Age to Age**\n",
    "\n",
    "we have;\n",
    "\n",
    "${Cov(x,y)} = 2928/8 = 366$\n",
    "\n",
    "$\\sigma_x=\\sqrt{\\frac{1}{n}\\sum_{i=1}^n(x_i-\\bar{x})^2}$\n",
    "\n",
    "$\\sigma_x=\\sqrt{\\frac{2928}{8}}$\n",
    "\n",
    "$\\sigma_x=\\sqrt{366}$\n",
    "\n",
    "$\\sigma_y=\\sqrt{\\frac{1}{n}\\sum_{i=1}^n(y_i-\\bar{y})^2}$\n",
    "\n",
    "$\\sigma_y=\\sqrt{\\frac{2928}{8}}$\n",
    "\n",
    "$\\sigma_y=\\sqrt{366}$\n",
    "\n",
    "Correlation $r(x,y) = \\displaystyle\\frac{\\frac{1}{n}\\sum\\limits_{i=1}^n(x_i-\\bar{x})(y_i-\\bar{y})}{\\sigma_x\\sigma_y}$\n",
    "\n",
    "$r(x,y) = \\displaystyle\\frac{366}{\\sqrt{366} * \\sqrt{366}}$\n",
    "\n",
    "$r(x,y) = 1.000000$\n",
    "\n",
    "Therefore, the correlation between age to age is **1.000000**\n",
    "\n",
    "**Age to Weight(kg)**\n",
    "\n",
    "We have;\n",
    "\n",
    "${Cov(x,y)} = -700.5/8 = -87.5625$\n",
    "\n",
    "$\\sigma_x=\\sqrt{\\frac{1}{n}\\sum_{i=1}^n(x_i-\\bar{x})^2}$\n",
    "\n",
    "$\\sigma_x=\\sqrt{\\frac{2928}{8}}$\n",
    "\n",
    "$\\sigma_x=\\sqrt{366}$\n",
    "\n",
    "$\\sigma_y=\\sqrt{\\frac{1}{n}\\sum_{i=1}^n(y_i-\\bar{y})^2}$\n",
    "\n",
    "$\\sigma_y=\\sqrt{\\frac{1109.875}{8}}$\n",
    "\n",
    "$\\sigma_y=\\sqrt{138.734375}$\n",
    "\n",
    "Correlation $r(x,y) = \\displaystyle\\frac{\\frac{1}{n}\\sum\\limits_{i=1}^n(x_i-\\bar{x})(y_i-\\bar{y})}{\\sigma_x\\sigma_y}$\n",
    "\n",
    "$r(x,y) = \\displaystyle\\frac{-87.5625}{\\sqrt{366} * \\sqrt{138.734375}}$\n",
    "\n",
    "$r(x,y) = \\displaystyle\\frac{-87.562}{225.3370392323}$\n",
    "\n",
    "$r(x,y) = -0.3885845856$\n",
    "\n",
    "Therefore, the correlation between Age to Weight(kg) is **-0.388585**\n",
    "\n",
    "**Age to Height(cm)**\n",
    "\n",
    "We have;\n",
    "\n",
    "${Cov(x,y)} = 326.5/8 = 40.8125$\n",
    "\n",
    "$\\sigma_x=\\sqrt{\\frac{1}{n}\\sum_{i=1}^n(x_i-\\bar{x})^2}$\n",
    "\n",
    "$\\sigma_x=\\sqrt{\\frac{2928}{8}}$\n",
    "\n",
    "$\\sigma_x=\\sqrt{366}$\n",
    "\n",
    "$\\sigma_y=\\sqrt{\\frac{1}{n}\\sum_{i=1}^n(y_i-\\bar{y})^2}$\n",
    "\n",
    "$\\sigma_y=\\sqrt{\\frac{1927.875}{8}}$\n",
    "\n",
    "$\\sigma_y=\\sqrt{240.984375}$\n",
    "\n",
    "Correlation $r(x,y) = \\displaystyle\\frac{\\frac{1}{n}\\sum\\limits_{i=1}^n(x_i-\\bar{x})(y_i-\\bar{y})}{\\sigma_x\\sigma_y}$\n",
    "\n",
    "$r(x,y) = \\displaystyle\\frac{40.8125}{\\sqrt{366} * \\sqrt{240.984375}}$\n",
    "\n",
    "$r(x,y) = \\displaystyle\\frac{40.8125}{296.985321607}$\n",
    "\n",
    "$r(x,y) = -0.1374226166$\n",
    "\n",
    "Therefore, the correlation between Age to Height(cm) is **0.137423**\n",
    "\n",
    "**Weight(kg) to Weight(kg)**\n",
    "\n",
    "We have;\n",
    "\n",
    "${Cov(x,y)} = 1109.875/8 = 138.635$\n",
    "\n",
    "$\\sigma_x=\\sqrt{\\frac{1}{n}\\sum_{i=1}^n(x_i-\\bar{x})^2}$\n",
    "\n",
    "$\\sigma_x=\\sqrt{\\frac{1109.875}{8}}$\n",
    "\n",
    "$\\sigma_x=\\sqrt{138.635}$\n",
    "\n",
    "$\\sigma_y=\\sqrt{\\frac{1}{n}\\sum_{i=1}^n(y_i-\\bar{y})^2}$\n",
    "\n",
    "$\\sigma_y=\\sqrt{\\frac{1109.875}{8}}$\n",
    "\n",
    "$\\sigma_y=\\sqrt{138.635}$\n",
    "\n",
    "Correlation $r(x,y) = \\displaystyle\\frac{\\frac{1}{n}\\sum\\limits_{i=1}^n(x_i-\\bar{x})(y_i-\\bar{y})}{\\sigma_x\\sigma_y}$\n",
    "\n",
    "$r(x,y) = \\displaystyle\\frac{138.635}{\\sqrt{138.635} * \\sqrt{138.635}}$\n",
    "\n",
    "$r(x,y) = 1.000000$\n",
    "\n",
    "Therefore, the correlation between Weight(kg) to Weight(kg) is **1.000000**\n",
    "\n",
    "**Weight(kg) to Height(cm)**\n",
    "\n",
    "We have;\n",
    "\n",
    "${Cov(x,y)} = 90.125/8 = 11.265625$\n",
    "\n",
    "$\\sigma_x=\\sqrt{\\frac{1}{n}\\sum_{i=1}^n(x_i-\\bar{x})^2}$\n",
    "\n",
    "$\\sigma_x=\\sqrt{\\frac{1109.875}{8}}$\n",
    "\n",
    "$\\sigma_x=\\sqrt{138.635}$\n",
    "\n",
    "$\\sigma_y=\\sqrt{\\frac{1}{n}\\sum_{i=1}^n(y_i-\\bar{y})^2}$\n",
    "\n",
    "$\\sigma_y=\\sqrt{\\frac{1927.875}{8}}$\n",
    "\n",
    "$\\sigma_y=\\sqrt{240.984375}$\n",
    "\n",
    "Correlation $r(x,y) = \\displaystyle\\frac{\\frac{1}{n}\\sum\\limits_{i=1}^n(x_i-\\bar{x})(y_i-\\bar{y})}{\\sigma_x\\sigma_y}$\n",
    "\n",
    "$r(x,y) = \\displaystyle\\frac{11.265625}{\\sqrt{138.635} * \\sqrt{240.984375}}$\n",
    "\n",
    "$r(x,y) = \\displaystyle\\frac{11.265625}{182.7809312487}$\n",
    "\n",
    "$r(x,y) = 0.0616125749$\n",
    "\n",
    "Therefore, the correlation between Weight(kg) to Height(cm) is **0.061612**\n",
    "\n",
    "**Height(cm) to Height(cm)**\n",
    "\n",
    "We have;\n",
    "\n",
    "${Cov(x,y)} = 1927.875/8 = 240.984375$\n",
    "\n",
    "$\\sigma_x=\\sqrt{\\frac{1}{n}\\sum_{i=1}^n(x_i-\\bar{x})^2}$\n",
    "\n",
    "$\\sigma_x=\\sqrt{\\frac{1927.875}{8}}$\n",
    "\n",
    "$\\sigma_x=\\sqrt{240.984375}$\n",
    "\n",
    "$\\sigma_y=\\sqrt{\\frac{1}{n}\\sum_{i=1}^n(y_i-\\bar{y})^2}$\n",
    "\n",
    "$\\sigma_y=\\sqrt{\\frac{1927.875}{8}}$\n",
    "\n",
    "$\\sigma_y=\\sqrt{240.984375}$\n",
    "\n",
    "Correlation $r(x,y) = \\displaystyle\\frac{\\frac{1}{n}\\sum\\limits_{i=1}^n(x_i-\\bar{x})(y_i-\\bar{y})}{\\sigma_x\\sigma_y}$\n",
    "\n",
    "$r(x,y) = \\displaystyle\\frac{240.984375}{\\sqrt{240.984375} * \\sqrt{240.984375}}$\n",
    "\n",
    "$r(x,y) = 1.000000$\n",
    "\n",
    "Therefore, the correlation between Height(cm) to Height(cm) is **1.000000**\n",
    "\n",
    "Therefore, the correlation of the above data is \n",
    "\n",
    "\\begin{array}{|c|c|} \\hline\n",
    " & Age & Weight(kg) & Height(cm) \\\\ \\hline\n",
    "Age & 1.000000 & -0.388585 & 0.137423  \\\\ \\hline\n",
    "Weight(kg) & -0.388585 & 1.000000 & 0.061612 \\\\ \\hline\n",
    "Height(cm) & 0.137423 & 0.061612 & 1.000000 \\\\ \\hline\n",
    "\\end{array}"
   ]
  },
  {
   "cell_type": "code",
   "execution_count": 121,
   "metadata": {
    "colab": {
     "base_uri": "https://localhost:8080/",
     "height": 300
    },
    "id": "bLwJjTmEeykE",
    "outputId": "08b85aa0-e570-486d-c9bb-4efc98e8c895"
   },
   "outputs": [
    {
     "data": {
      "text/html": [
       "<div>\n",
       "<style scoped>\n",
       "    .dataframe tbody tr th:only-of-type {\n",
       "        vertical-align: middle;\n",
       "    }\n",
       "\n",
       "    .dataframe tbody tr th {\n",
       "        vertical-align: top;\n",
       "    }\n",
       "\n",
       "    .dataframe thead th {\n",
       "        text-align: right;\n",
       "    }\n",
       "</style>\n",
       "<table border=\"1\" class=\"dataframe\">\n",
       "  <thead>\n",
       "    <tr style=\"text-align: right;\">\n",
       "      <th></th>\n",
       "      <th>Name</th>\n",
       "      <th>Age</th>\n",
       "      <th>Weight(kg)</th>\n",
       "      <th>Height(cm)</th>\n",
       "    </tr>\n",
       "  </thead>\n",
       "  <tbody>\n",
       "    <tr>\n",
       "      <th>0</th>\n",
       "      <td>Dorji</td>\n",
       "      <td>28</td>\n",
       "      <td>63</td>\n",
       "      <td>175</td>\n",
       "    </tr>\n",
       "    <tr>\n",
       "      <th>1</th>\n",
       "      <td>Sonam</td>\n",
       "      <td>23</td>\n",
       "      <td>67</td>\n",
       "      <td>125</td>\n",
       "    </tr>\n",
       "    <tr>\n",
       "      <th>2</th>\n",
       "      <td>Chador</td>\n",
       "      <td>35</td>\n",
       "      <td>81</td>\n",
       "      <td>156</td>\n",
       "    </tr>\n",
       "    <tr>\n",
       "      <th>3</th>\n",
       "      <td>Shyam</td>\n",
       "      <td>54</td>\n",
       "      <td>55</td>\n",
       "      <td>165</td>\n",
       "    </tr>\n",
       "    <tr>\n",
       "      <th>4</th>\n",
       "      <td>Zangmo</td>\n",
       "      <td>31</td>\n",
       "      <td>47</td>\n",
       "      <td>157</td>\n",
       "    </tr>\n",
       "    <tr>\n",
       "      <th>5</th>\n",
       "      <td>Om</td>\n",
       "      <td>27</td>\n",
       "      <td>72</td>\n",
       "      <td>179</td>\n",
       "    </tr>\n",
       "    <tr>\n",
       "      <th>6</th>\n",
       "      <td>Sushmita</td>\n",
       "      <td>85</td>\n",
       "      <td>53</td>\n",
       "      <td>161</td>\n",
       "    </tr>\n",
       "    <tr>\n",
       "      <th>7</th>\n",
       "      <td>Karma</td>\n",
       "      <td>41</td>\n",
       "      <td>45</td>\n",
       "      <td>151</td>\n",
       "    </tr>\n",
       "  </tbody>\n",
       "</table>\n",
       "</div>"
      ],
      "text/plain": [
       "       Name  Age  Weight(kg)  Height(cm)\n",
       "0     Dorji   28          63         175\n",
       "1     Sonam   23          67         125\n",
       "2    Chador   35          81         156\n",
       "3     Shyam   54          55         165\n",
       "4    Zangmo   31          47         157\n",
       "5        Om   27          72         179\n",
       "6  Sushmita   85          53         161\n",
       "7     Karma   41          45         151"
      ]
     },
     "execution_count": 121,
     "metadata": {},
     "output_type": "execute_result"
    }
   ],
   "source": [
    "d = {'Name':['Dorji','Sonam','Chador','Shyam','Zangmo','Om','Sushmita','Karma'],\n",
    "   'Age':[28,23,35,54,31,27,85,41],\n",
    "   'Weight(kg)':[63,67,81,55,47,72,53,45],\n",
    "   'Height(cm)':[175,125,156,165,157,179,161,151]}\n",
    " \n",
    "df = pd.DataFrame(d)\n",
    "df"
   ]
  },
  {
   "cell_type": "code",
   "execution_count": 122,
   "metadata": {
    "colab": {
     "base_uri": "https://localhost:8080/",
     "height": 143
    },
    "id": "venmHfZme31f",
    "outputId": "042f788d-c83e-4514-c68d-180297499113"
   },
   "outputs": [
    {
     "data": {
      "text/html": [
       "<div>\n",
       "<style scoped>\n",
       "    .dataframe tbody tr th:only-of-type {\n",
       "        vertical-align: middle;\n",
       "    }\n",
       "\n",
       "    .dataframe tbody tr th {\n",
       "        vertical-align: top;\n",
       "    }\n",
       "\n",
       "    .dataframe thead th {\n",
       "        text-align: right;\n",
       "    }\n",
       "</style>\n",
       "<table border=\"1\" class=\"dataframe\">\n",
       "  <thead>\n",
       "    <tr style=\"text-align: right;\">\n",
       "      <th></th>\n",
       "      <th>Age</th>\n",
       "      <th>Weight(kg)</th>\n",
       "      <th>Height(cm)</th>\n",
       "    </tr>\n",
       "  </thead>\n",
       "  <tbody>\n",
       "    <tr>\n",
       "      <th>Age</th>\n",
       "      <td>418.285714</td>\n",
       "      <td>-100.071429</td>\n",
       "      <td>46.642857</td>\n",
       "    </tr>\n",
       "    <tr>\n",
       "      <th>Weight(kg)</th>\n",
       "      <td>-100.071429</td>\n",
       "      <td>158.553571</td>\n",
       "      <td>12.875000</td>\n",
       "    </tr>\n",
       "    <tr>\n",
       "      <th>Height(cm)</th>\n",
       "      <td>46.642857</td>\n",
       "      <td>12.875000</td>\n",
       "      <td>275.410714</td>\n",
       "    </tr>\n",
       "  </tbody>\n",
       "</table>\n",
       "</div>"
      ],
      "text/plain": [
       "                   Age  Weight(kg)  Height(cm)\n",
       "Age         418.285714 -100.071429   46.642857\n",
       "Weight(kg) -100.071429  158.553571   12.875000\n",
       "Height(cm)   46.642857   12.875000  275.410714"
      ]
     },
     "execution_count": 122,
     "metadata": {},
     "output_type": "execute_result"
    }
   ],
   "source": [
    "df.cov()"
   ]
  },
  {
   "cell_type": "code",
   "execution_count": 123,
   "metadata": {
    "colab": {
     "base_uri": "https://localhost:8080/",
     "height": 143
    },
    "id": "ol1iY8xge7zb",
    "outputId": "4c9a4c54-9502-4438-c8aa-65153be0d32f"
   },
   "outputs": [
    {
     "data": {
      "text/html": [
       "<div>\n",
       "<style scoped>\n",
       "    .dataframe tbody tr th:only-of-type {\n",
       "        vertical-align: middle;\n",
       "    }\n",
       "\n",
       "    .dataframe tbody tr th {\n",
       "        vertical-align: top;\n",
       "    }\n",
       "\n",
       "    .dataframe thead th {\n",
       "        text-align: right;\n",
       "    }\n",
       "</style>\n",
       "<table border=\"1\" class=\"dataframe\">\n",
       "  <thead>\n",
       "    <tr style=\"text-align: right;\">\n",
       "      <th></th>\n",
       "      <th>Age</th>\n",
       "      <th>Weight(kg)</th>\n",
       "      <th>Height(cm)</th>\n",
       "    </tr>\n",
       "  </thead>\n",
       "  <tbody>\n",
       "    <tr>\n",
       "      <th>Age</th>\n",
       "      <td>1.000000</td>\n",
       "      <td>-0.388585</td>\n",
       "      <td>0.137423</td>\n",
       "    </tr>\n",
       "    <tr>\n",
       "      <th>Weight(kg)</th>\n",
       "      <td>-0.388585</td>\n",
       "      <td>1.000000</td>\n",
       "      <td>0.061612</td>\n",
       "    </tr>\n",
       "    <tr>\n",
       "      <th>Height(cm)</th>\n",
       "      <td>0.137423</td>\n",
       "      <td>0.061612</td>\n",
       "      <td>1.000000</td>\n",
       "    </tr>\n",
       "  </tbody>\n",
       "</table>\n",
       "</div>"
      ],
      "text/plain": [
       "                 Age  Weight(kg)  Height(cm)\n",
       "Age         1.000000   -0.388585    0.137423\n",
       "Weight(kg) -0.388585    1.000000    0.061612\n",
       "Height(cm)  0.137423    0.061612    1.000000"
      ]
     },
     "execution_count": 123,
     "metadata": {},
     "output_type": "execute_result"
    }
   ],
   "source": [
    "df.corr(method=\"pearson\")"
   ]
  },
  {
   "cell_type": "markdown",
   "metadata": {
    "id": "24KGBRWhlINu"
   },
   "source": [
    "**2).** Perform analysis of the \"tips dataset\" by computing the covariance and correlation between the arguments or attributes or columns of the dataset using the required libraries. Do necessary data preprocessing if required. \n"
   ]
  },
  {
   "cell_type": "markdown",
   "metadata": {
    "id": "1VjX7nvrlYgo"
   },
   "source": [
    "**Solution:**"
   ]
  },
  {
   "cell_type": "code",
   "execution_count": 124,
   "metadata": {
    "colab": {
     "base_uri": "https://localhost:8080/",
     "height": 424
    },
    "id": "oZOyo_eClSg1",
    "outputId": "5c2f3719-d53b-4094-9967-0f766743eeff"
   },
   "outputs": [
    {
     "data": {
      "text/html": [
       "<div>\n",
       "<style scoped>\n",
       "    .dataframe tbody tr th:only-of-type {\n",
       "        vertical-align: middle;\n",
       "    }\n",
       "\n",
       "    .dataframe tbody tr th {\n",
       "        vertical-align: top;\n",
       "    }\n",
       "\n",
       "    .dataframe thead th {\n",
       "        text-align: right;\n",
       "    }\n",
       "</style>\n",
       "<table border=\"1\" class=\"dataframe\">\n",
       "  <thead>\n",
       "    <tr style=\"text-align: right;\">\n",
       "      <th></th>\n",
       "      <th>total_bill</th>\n",
       "      <th>tip</th>\n",
       "      <th>sex</th>\n",
       "      <th>smoker</th>\n",
       "      <th>day</th>\n",
       "      <th>time</th>\n",
       "      <th>size</th>\n",
       "    </tr>\n",
       "  </thead>\n",
       "  <tbody>\n",
       "    <tr>\n",
       "      <th>0</th>\n",
       "      <td>16.99</td>\n",
       "      <td>1.01</td>\n",
       "      <td>Female</td>\n",
       "      <td>No</td>\n",
       "      <td>Sun</td>\n",
       "      <td>Dinner</td>\n",
       "      <td>2</td>\n",
       "    </tr>\n",
       "    <tr>\n",
       "      <th>1</th>\n",
       "      <td>10.34</td>\n",
       "      <td>1.66</td>\n",
       "      <td>Male</td>\n",
       "      <td>No</td>\n",
       "      <td>Sun</td>\n",
       "      <td>Dinner</td>\n",
       "      <td>3</td>\n",
       "    </tr>\n",
       "    <tr>\n",
       "      <th>2</th>\n",
       "      <td>21.01</td>\n",
       "      <td>3.50</td>\n",
       "      <td>Male</td>\n",
       "      <td>No</td>\n",
       "      <td>Sun</td>\n",
       "      <td>Dinner</td>\n",
       "      <td>3</td>\n",
       "    </tr>\n",
       "    <tr>\n",
       "      <th>3</th>\n",
       "      <td>23.68</td>\n",
       "      <td>3.31</td>\n",
       "      <td>Male</td>\n",
       "      <td>No</td>\n",
       "      <td>Sun</td>\n",
       "      <td>Dinner</td>\n",
       "      <td>2</td>\n",
       "    </tr>\n",
       "    <tr>\n",
       "      <th>4</th>\n",
       "      <td>24.59</td>\n",
       "      <td>3.61</td>\n",
       "      <td>Female</td>\n",
       "      <td>No</td>\n",
       "      <td>Sun</td>\n",
       "      <td>Dinner</td>\n",
       "      <td>4</td>\n",
       "    </tr>\n",
       "    <tr>\n",
       "      <th>...</th>\n",
       "      <td>...</td>\n",
       "      <td>...</td>\n",
       "      <td>...</td>\n",
       "      <td>...</td>\n",
       "      <td>...</td>\n",
       "      <td>...</td>\n",
       "      <td>...</td>\n",
       "    </tr>\n",
       "    <tr>\n",
       "      <th>239</th>\n",
       "      <td>29.03</td>\n",
       "      <td>5.92</td>\n",
       "      <td>Male</td>\n",
       "      <td>No</td>\n",
       "      <td>Sat</td>\n",
       "      <td>Dinner</td>\n",
       "      <td>3</td>\n",
       "    </tr>\n",
       "    <tr>\n",
       "      <th>240</th>\n",
       "      <td>27.18</td>\n",
       "      <td>2.00</td>\n",
       "      <td>Female</td>\n",
       "      <td>Yes</td>\n",
       "      <td>Sat</td>\n",
       "      <td>Dinner</td>\n",
       "      <td>2</td>\n",
       "    </tr>\n",
       "    <tr>\n",
       "      <th>241</th>\n",
       "      <td>22.67</td>\n",
       "      <td>2.00</td>\n",
       "      <td>Male</td>\n",
       "      <td>Yes</td>\n",
       "      <td>Sat</td>\n",
       "      <td>Dinner</td>\n",
       "      <td>2</td>\n",
       "    </tr>\n",
       "    <tr>\n",
       "      <th>242</th>\n",
       "      <td>17.82</td>\n",
       "      <td>1.75</td>\n",
       "      <td>Male</td>\n",
       "      <td>No</td>\n",
       "      <td>Sat</td>\n",
       "      <td>Dinner</td>\n",
       "      <td>2</td>\n",
       "    </tr>\n",
       "    <tr>\n",
       "      <th>243</th>\n",
       "      <td>18.78</td>\n",
       "      <td>3.00</td>\n",
       "      <td>Female</td>\n",
       "      <td>No</td>\n",
       "      <td>Thur</td>\n",
       "      <td>Dinner</td>\n",
       "      <td>2</td>\n",
       "    </tr>\n",
       "  </tbody>\n",
       "</table>\n",
       "<p>244 rows × 7 columns</p>\n",
       "</div>"
      ],
      "text/plain": [
       "     total_bill   tip     sex smoker   day    time  size\n",
       "0         16.99  1.01  Female     No   Sun  Dinner     2\n",
       "1         10.34  1.66    Male     No   Sun  Dinner     3\n",
       "2         21.01  3.50    Male     No   Sun  Dinner     3\n",
       "3         23.68  3.31    Male     No   Sun  Dinner     2\n",
       "4         24.59  3.61  Female     No   Sun  Dinner     4\n",
       "..          ...   ...     ...    ...   ...     ...   ...\n",
       "239       29.03  5.92    Male     No   Sat  Dinner     3\n",
       "240       27.18  2.00  Female    Yes   Sat  Dinner     2\n",
       "241       22.67  2.00    Male    Yes   Sat  Dinner     2\n",
       "242       17.82  1.75    Male     No   Sat  Dinner     2\n",
       "243       18.78  3.00  Female     No  Thur  Dinner     2\n",
       "\n",
       "[244 rows x 7 columns]"
      ]
     },
     "execution_count": 124,
     "metadata": {},
     "output_type": "execute_result"
    }
   ],
   "source": [
    "tips = sns.load_dataset('tips')\n",
    "tips"
   ]
  },
  {
   "cell_type": "code",
   "execution_count": 125,
   "metadata": {
    "colab": {
     "base_uri": "https://localhost:8080/",
     "height": 143
    },
    "id": "O6M5d9zsqz1G",
    "outputId": "6f1cfb2b-599e-4d7c-86e0-a4d19acce805"
   },
   "outputs": [
    {
     "data": {
      "text/html": [
       "<div>\n",
       "<style scoped>\n",
       "    .dataframe tbody tr th:only-of-type {\n",
       "        vertical-align: middle;\n",
       "    }\n",
       "\n",
       "    .dataframe tbody tr th {\n",
       "        vertical-align: top;\n",
       "    }\n",
       "\n",
       "    .dataframe thead th {\n",
       "        text-align: right;\n",
       "    }\n",
       "</style>\n",
       "<table border=\"1\" class=\"dataframe\">\n",
       "  <thead>\n",
       "    <tr style=\"text-align: right;\">\n",
       "      <th></th>\n",
       "      <th>total_bill</th>\n",
       "      <th>tip</th>\n",
       "      <th>size</th>\n",
       "    </tr>\n",
       "  </thead>\n",
       "  <tbody>\n",
       "    <tr>\n",
       "      <th>total_bill</th>\n",
       "      <td>79.252939</td>\n",
       "      <td>8.323502</td>\n",
       "      <td>5.065983</td>\n",
       "    </tr>\n",
       "    <tr>\n",
       "      <th>tip</th>\n",
       "      <td>8.323502</td>\n",
       "      <td>1.914455</td>\n",
       "      <td>0.643906</td>\n",
       "    </tr>\n",
       "    <tr>\n",
       "      <th>size</th>\n",
       "      <td>5.065983</td>\n",
       "      <td>0.643906</td>\n",
       "      <td>0.904591</td>\n",
       "    </tr>\n",
       "  </tbody>\n",
       "</table>\n",
       "</div>"
      ],
      "text/plain": [
       "            total_bill       tip      size\n",
       "total_bill   79.252939  8.323502  5.065983\n",
       "tip           8.323502  1.914455  0.643906\n",
       "size          5.065983  0.643906  0.904591"
      ]
     },
     "execution_count": 125,
     "metadata": {},
     "output_type": "execute_result"
    }
   ],
   "source": [
    "tips.cov()"
   ]
  },
  {
   "cell_type": "code",
   "execution_count": 126,
   "metadata": {
    "colab": {
     "base_uri": "https://localhost:8080/",
     "height": 143
    },
    "id": "x7h6faZlmF_8",
    "outputId": "cfc5ebc4-7c95-4095-cb27-51f51ed316fd"
   },
   "outputs": [
    {
     "data": {
      "text/html": [
       "<div>\n",
       "<style scoped>\n",
       "    .dataframe tbody tr th:only-of-type {\n",
       "        vertical-align: middle;\n",
       "    }\n",
       "\n",
       "    .dataframe tbody tr th {\n",
       "        vertical-align: top;\n",
       "    }\n",
       "\n",
       "    .dataframe thead th {\n",
       "        text-align: right;\n",
       "    }\n",
       "</style>\n",
       "<table border=\"1\" class=\"dataframe\">\n",
       "  <thead>\n",
       "    <tr style=\"text-align: right;\">\n",
       "      <th></th>\n",
       "      <th>total_bill</th>\n",
       "      <th>tip</th>\n",
       "      <th>size</th>\n",
       "    </tr>\n",
       "  </thead>\n",
       "  <tbody>\n",
       "    <tr>\n",
       "      <th>total_bill</th>\n",
       "      <td>1.000000</td>\n",
       "      <td>0.675734</td>\n",
       "      <td>0.598315</td>\n",
       "    </tr>\n",
       "    <tr>\n",
       "      <th>tip</th>\n",
       "      <td>0.675734</td>\n",
       "      <td>1.000000</td>\n",
       "      <td>0.489299</td>\n",
       "    </tr>\n",
       "    <tr>\n",
       "      <th>size</th>\n",
       "      <td>0.598315</td>\n",
       "      <td>0.489299</td>\n",
       "      <td>1.000000</td>\n",
       "    </tr>\n",
       "  </tbody>\n",
       "</table>\n",
       "</div>"
      ],
      "text/plain": [
       "            total_bill       tip      size\n",
       "total_bill    1.000000  0.675734  0.598315\n",
       "tip           0.675734  1.000000  0.489299\n",
       "size          0.598315  0.489299  1.000000"
      ]
     },
     "execution_count": 126,
     "metadata": {},
     "output_type": "execute_result"
    }
   ],
   "source": [
    "tips.corr(method = 'pearson')"
   ]
  }
 ],
 "metadata": {
  "colab": {
   "collapsed_sections": [],
   "name": "Math.ipynb",
   "provenance": []
  },
  "kernelspec": {
   "display_name": "Python 3 (ipykernel)",
   "language": "python",
   "name": "python3"
  },
  "language_info": {
   "codemirror_mode": {
    "name": "ipython",
    "version": 3
   },
   "file_extension": ".py",
   "mimetype": "text/x-python",
   "name": "python",
   "nbconvert_exporter": "python",
   "pygments_lexer": "ipython3",
   "version": "3.9.7"
  }
 },
 "nbformat": 4,
 "nbformat_minor": 1
}
