{
 "cells": [
  {
   "cell_type": "markdown",
   "id": "7954e3dc",
   "metadata": {},
   "source": [
    "Example 1:  Fit a straight line to the following set of data points:\n"
   ]
  },
  {
   "cell_type": "code",
   "execution_count": 5,
   "id": "28c53abf",
   "metadata": {},
   "outputs": [],
   "source": [
    "import numpy as np"
   ]
  },
  {
   "cell_type": "code",
   "execution_count": 6,
   "id": "a4e6eea1",
   "metadata": {},
   "outputs": [],
   "source": [
    "x = [1, 2, 3, 4, 5]\n",
    "y = [3, 4, 5, 6, 8]"
   ]
  },
  {
   "cell_type": "code",
   "execution_count": 8,
   "id": "e36fb19d",
   "metadata": {},
   "outputs": [
    {
     "name": "stdout",
     "output_type": "stream",
     "text": [
      "The fitted straight line has equation y = 1.2x +  1.6\n"
     ]
    }
   ],
   "source": [
    "# Degree of the fitting polynomial\n",
    "deg = 1\n",
    "# Parameters from the fit of the polynomial \n",
    "p = np.polyfit(x, y, deg)\n",
    "b = p[0] # Gradient\n",
    "a = p[1] # y-intercept\n",
    "\n",
    "print(f'The fitted straight line has equation y = {b:.1f}x {a:=+6.1f}')"
   ]
  },
  {
   "cell_type": "code",
   "execution_count": 9,
   "id": "439af89a",
   "metadata": {},
   "outputs": [],
   "source": [
    "import seaborn as sns\n",
    "import matplotlib.pyplot as plt"
   ]
  },
  {
   "cell_type": "code",
   "execution_count": 13,
   "id": "6dd719fc",
   "metadata": {},
   "outputs": [
    {
     "data": {
      "image/png": "[encoded data removed]",
      "text/plain": [
       "<Figure size 432x288 with 1 Axes>"
      ]
     },
     "metadata": {
      "needs_background": "light"
     },
     "output_type": "display_data"
    }
   ],
   "source": [
    "#sns.scatterplot(x,y)\n",
    "plt.scatter(x,y, color='green')\n",
    "plt.xlabel('X')\n",
    "plt.ylabel('Y')\n",
    "plt.title(\"Linear Relaationship\")\n",
    "plt.show()"
   ]
  },
  {
   "cell_type": "code",
   "execution_count": 14,
   "id": "051e6df2",
   "metadata": {},
   "outputs": [],
   "source": [
    "x = [1, 2, 3, 4]\n",
    "y = [6, 11, 18, 29]"
   ]
  },
  {
   "cell_type": "code",
   "execution_count": 17,
   "id": "73354f89",
   "metadata": {},
   "outputs": [
    {
     "name": "stdout",
     "output_type": "stream",
     "text": [
      "The fitted straight line has equation y = 1.5x +  0.1\n"
     ]
    }
   ],
   "source": [
    "# degree of the fitting polynomial\n",
    "deg = 2\n",
    "# parameters from the fit polynomial\n",
    "b = np.polyfit(x,y, deg)\n",
    "c = b[0]\n",
    "d= b[1]\n",
    "\n",
    "print(f'The fitted straight line has equation y = {c:.1f}x {d:=+6.1f}')"
   ]
  },
  {
   "cell_type": "markdown",
   "id": "573451f2",
   "metadata": {},
   "source": [
    "# Mean Square Error(MSE)"
   ]
  },
  {
   "cell_type": "markdown",
   "id": "6c5fb18e",
   "metadata": {},
   "source": [
    "Example"
   ]
  },
  {
   "cell_type": "code",
   "execution_count": 18,
   "id": "11a1d23a",
   "metadata": {},
   "outputs": [],
   "source": [
    "y = [11, 21, 19, 17.5, 10]\n",
    "y_bar = [12, 18, 19.5, 18, 14]"
   ]
  },
  {
   "cell_type": "code",
   "execution_count": 19,
   "id": "0555c711",
   "metadata": {},
   "outputs": [],
   "source": [
    "# variable to store the summation of differences\n",
    "summation = 0"
   ]
  },
  {
   "cell_type": "code",
   "execution_count": 20,
   "id": "f2c0eeb4",
   "metadata": {},
   "outputs": [],
   "source": [
    "# finding the total number of list\n",
    "n = len(y)"
   ]
  },
  {
   "cell_type": "code",
   "execution_count": 22,
   "id": "3895f938",
   "metadata": {},
   "outputs": [],
   "source": [
    "for i in range (0,n):\n",
    "    difference = y[i] - y_bar[i]\n",
    "    squared_difference = difference**2\n",
    "    summation = summation + squared_difference"
   ]
  },
  {
   "cell_type": "code",
   "execution_count": 23,
   "id": "042bf21d",
   "metadata": {},
   "outputs": [
    {
     "name": "stdout",
     "output_type": "stream",
     "text": [
      "5.3\n"
     ]
    }
   ],
   "source": [
    "MSE = summation/n\n",
    "print(MSE)"
   ]
  },
  {
   "cell_type": "code",
   "execution_count": 27,
   "id": "5b3909a1",
   "metadata": {},
   "outputs": [
    {
     "data": {
      "text/plain": [
       "5.3"
      ]
     },
     "execution_count": 27,
     "metadata": {},
     "output_type": "execute_result"
    }
   ],
   "source": [
    "from sklearn.metrics import mean_squared_error\n",
    "\n",
    "# given value\n",
    "y_true = [11,21,19,17.5,10]\n",
    "# calculated values\n",
    "y_pred = [12,18,19.5,18,14]\n",
    "\n",
    "#calculation of mean squared error(MSE)\n",
    "mean_squared_error(y_true,y_pred)"
   ]
  },
  {
   "cell_type": "code",
   "execution_count": 28,
   "id": "195c32c1",
   "metadata": {},
   "outputs": [
    {
     "ename": "ModuleNotFoundError",
     "evalue": "No module named 'sklearn.matrics'",
     "output_type": "error",
     "traceback": [
      "\u001b[1;31m---------------------------------------------------------------------------\u001b[0m",
      "\u001b[1;31mModuleNotFoundError\u001b[0m                       Traceback (most recent call last)",
      "\u001b[1;32m~\\AppData\\Local\\Temp/ipykernel_70308/2299052453.py\u001b[0m in \u001b[0;36m<module>\u001b[1;34m\u001b[0m\n\u001b[1;32m----> 1\u001b[1;33m \u001b[1;32mfrom\u001b[0m \u001b[0msklearn\u001b[0m\u001b[1;33m.\u001b[0m\u001b[0mmatrics\u001b[0m \u001b[1;32mimport\u001b[0m \u001b[0mroot_mean_squared_error\u001b[0m\u001b[1;33m\u001b[0m\u001b[1;33m\u001b[0m\u001b[0m\n\u001b[0m",
      "\u001b[1;31mModuleNotFoundError\u001b[0m: No module named 'sklearn.matrics'"
     ]
    }
   ],
   "source": [
    "from sklearn.matrics import root_mean_squared_error"
   ]
  },
  {
   "cell_type": "code",
   "execution_count": null,
   "id": "10bfb4c1",
   "metadata": {},
   "outputs": [],
   "source": []
  }
 ],
 "metadata": {
  "kernelspec": {
   "display_name": "Python 3 (ipykernel)",
   "language": "python",
   "name": "python3"
  },
  "language_info": {
   "codemirror_mode": {
    "name": "ipython",
    "version": 3
   },
   "file_extension": ".py",
   "mimetype": "text/x-python",
   "name": "python",
   "nbconvert_exporter": "python",
   "pygments_lexer": "ipython3",
   "version": "3.9.7"
  }
 },
 "nbformat": 4,
 "nbformat_minor": 5
}
