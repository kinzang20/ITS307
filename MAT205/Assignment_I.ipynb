{
 "cells": [
  {
   "cell_type": "markdown",
   "metadata": {
    "id": "MRpRjtUB4tHj"
   },
   "source": [
    "<h2 align = 'center'><b>Gyalpozhing College of Information Technology</b></h2>\n",
    "<h2 align = 'center'><b>B.Sc. Information Technology</b></h2>\n",
    "<h3 align = 'center'><b>MAT205</b> : Statistics and Probability Theory</h3>\n",
    "<h3 align = 'center'>Assignment - <b>I</b></h3>\n",
    "\n",
    "\n",
    "---\n",
    "\n"
   ]
  },
  {
   "cell_type": "markdown",
   "metadata": {
    "id": "rPP4PgfF7bzA"
   },
   "source": [
    "**Name:**Kinzang Wangchhuk\n",
    "\n",
    "**Enrollment Number:**12190062"
   ]
  },
  {
   "cell_type": "markdown",
   "metadata": {
    "id": "a65QVrai7fEn"
   },
   "source": [
    "**Direction:** Answer the following questions using Python programming in the cells provided below and submit the colab file(.ipynb) using the submission link provided in VLE(moodle) on or before **October 13th, 2022**. Include your name and enrollment number as well in the cell above. \n",
    "\n",
    "\n",
    "---\n",
    "\n"
   ]
  },
  {
   "cell_type": "markdown",
   "metadata": {
    "id": "_gAhnJ1o9fRx"
   },
   "source": [
    "**Q1.** To visualize the data below, create a pie chart with proper levels.                      \n",
    "\n",
    "\\begin{array}{|c|c|} \\hline\n",
    "\\textbf{Cost of construction} & \\textbf{Amount spent in USD}& \\textbf{Percentages} \\\\ \\hline\n",
    "\\text{Labor} & 60000 & 20 \\\\ \\hline\n",
    "\\text{Timber} & 18000 & 6 \\\\ \\hline\n",
    "\\text{Electrical works} & 18000 & 6 \\\\ \\hline\n",
    "\\text{Supervison} & 90000 & 30\\\\ \\hline\n",
    "\\text{Steel} & 30000 & 10\\\\ \\hline\n",
    "\\text{Bricks} & 30000 & 10\\\\ \\hline\n",
    "\\text{Cement} & 27000 & 9\\\\ \\hline\n",
    "\\text{Design} & 15000 & 5\\\\ \\hline\n",
    "\\text{Other} & 12000 & 4\\\\ \\hline\n",
    "\\end{array}"
   ]
  },
  {
   "cell_type": "code",
   "execution_count": 5,
   "metadata": {
    "id": "gXpAYiM_6j14"
   },
   "outputs": [],
   "source": [
    "\n",
    "# import the pyplot library\n",
    "\n",
    "import matplotlib.pyplot as plt\n"
   ]
  },
  {
   "cell_type": "code",
   "execution_count": null,
   "metadata": {},
   "outputs": [],
   "source": [
    "# The slice names of a Cost of construction pie chart\n",
    "\n",
    "pieLabels = 'Labor', 'Timber', 'Electrical', 'Supervsion', 'Steel', 'Bricks', 'Cement', 'Design', 'Other'\n",
    "\n",
    " \n",
    "\n",
    "# PERCENTAGES\n",
    "\n",
    "percentage = [20,6,6,30,10,10,9,5,4]\n",
    "\n",
    " \n",
    "\n",
    "f= plt.subplots()\n",
    "\n",
    " \n",
    "\n",
    "# Draw the pie chart\n",
    "\n",
    "axesObject.pie(percentage,\n",
    "\n",
    "        labels=pieLabels,\n",
    "\n",
    "        autopct='%1.2f',"
   ]
  },
  {
   "cell_type": "markdown",
   "metadata": {
    "id": "IgEDGutfE4yj"
   },
   "source": [
    "**Q2.** Determine the mean, geometric mean, harmonic mean, median, and mode for the following data: $1,2,2,3,4,5,6,7,8,9,10,11$."
   ]
  },
  {
   "cell_type": "code",
   "execution_count": null,
   "metadata": {
    "id": "rgxF6_QlGhAX"
   },
   "outputs": [],
   "source": []
  },
  {
   "cell_type": "markdown",
   "metadata": {
    "id": "_-fYlonsGxNF"
   },
   "source": [
    "**Q3.** Load the **'taxis'** dataset from Seaborn library and answer the following questions.\n",
    "\n",
    "**a)** Find the variance and standard deviation of the \n",
    "**'distance'** column and explain the output.\n",
    "\n",
    "**b)** Find the range, quartiles and quartile deviation of the **'passengers'** and **'fare'** columns, and then plot a boxplot to validate your results.\n",
    "\n",
    "**c)** Find the value of the correlation coefficient and covariance of the **'distance'** and **'fare'** columns and interpret the results."
   ]
  },
  {
   "cell_type": "code",
   "execution_count": null,
   "metadata": {
    "id": "uaDgMaHuHun3"
   },
   "outputs": [],
   "source": []
  },
  {
   "cell_type": "markdown",
   "metadata": {
    "id": "dZJTnZKXmYFG"
   },
   "source": [
    "**Q4.** The annual salaries of employees in a large company are approximately normally distributed with a mean of $\\$50,000$ and a standard deviation of $\\$20,000$.\n",
    "\n",
    "**a)** What percent of people earn less than $\\$40,000?$\n",
    "\n",
    "**b)** What percent of people earn between $\\$45,000$ and $\\$65,000?$\n",
    "\n",
    "**c)** What percent of people earn more than $\\$70,000?$"
   ]
  },
  {
   "cell_type": "code",
   "execution_count": null,
   "metadata": {
    "id": "TEbDsIq5iNaM"
   },
   "outputs": [],
   "source": []
  },
  {
   "cell_type": "markdown",
   "metadata": {
    "id": "mSdfbero1D7I"
   },
   "source": [
    "**Q5.** Using the moment generating function, calculate the variance of a binomial random variable."
   ]
  },
  {
   "cell_type": "code",
   "execution_count": null,
   "metadata": {
    "id": "CjlZ4vh8iQ6v"
   },
   "outputs": [],
   "source": []
  },
  {
   "cell_type": "markdown",
   "metadata": {
    "id": "f4mDPVtkDc5n"
   },
   "source": [
    "**Q6.** Fit a straight line to the data points in the table below. Create a dataframe with the `pandas` library. Calculate the mean squared error, root mean squared error, and the r-squared score.\n",
    "\n",
    "\\begin{array}{|c|c|} \\hline\n",
    "\\text{Weight of father(X)} & 69 & 63 & 66 & 64 & 67 & 64 & 70 & 66 & 68 & 67 & 65 & 71\\\\ \\hline\n",
    "\\text{Weight of son(Y)} & 70 & 65 & 68 & 65 & 69 & 66 & 68 & 65 & 71 & 67 & 64 & 72\\\\\\hline\n",
    "\\end{array}"
   ]
  },
  {
   "cell_type": "code",
   "execution_count": null,
   "metadata": {
    "id": "O-4nosurJPHO"
   },
   "outputs": [],
   "source": []
  }
 ],
 "metadata": {
  "colab": {
   "collapsed_sections": [],
   "provenance": []
  },
  "kernelspec": {
   "display_name": "Python 3 (ipykernel)",
   "language": "python",
   "name": "python3"
  },
  "language_info": {
   "codemirror_mode": {
    "name": "ipython",
    "version": 3
   },
   "file_extension": ".py",
   "mimetype": "text/x-python",
   "name": "python",
   "nbconvert_exporter": "python",
   "pygments_lexer": "ipython3",
   "version": "3.9.7"
  }
 },
 "nbformat": 4,
 "nbformat_minor": 1
}
