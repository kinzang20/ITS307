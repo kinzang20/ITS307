{
 "cells": [
  {
   "cell_type": "markdown",
   "id": "2ff3c6a9",
   "metadata": {
    "id": "2ff3c6a9"
   },
   "source": [
    "# <center>ITS307 Data Analytics : Autumn Semester 2022</center>\n",
    "\n",
    "# <center>Practical 12</center>\n",
    "\n",
    "# <center>KMean Clustering</center>\n",
    "\n",
    "![image-14.png](attachment:image-14.png)"
   ]
  },
  {
   "cell_type": "markdown",
   "id": "88f1de3d",
   "metadata": {
    "id": "88f1de3d"
   },
   "source": [
    "# <font color=\"blue\">Table of Contents \n",
    "<ol start=\"0\">\n",
    "<li> Learning Objectives </li>\n",
    "<li> Train test Split </li>\n",
    "<li> Train Linear Model</li>\n",
    "<li> Train Non Linear Model</li>\n",
    "<li> Train Complex Model </li>\n",
    "<li> Train Regularized Model</li>\n",
    "</ol>"
   ]
  },
  {
   "cell_type": "markdown",
   "id": "a63863b2",
   "metadata": {
    "id": "a63863b2"
   },
   "source": [
    "## <font color = blue>0. Learning Objectives\n",
    "\n",
    "Use Kmean algorithm to implement unsupervised clustering for iris dataset.\n",
    "\n",
    "By the end of the lab, you should be able to :\n",
    "- Differentiate supervised and unsupervised learning.\n",
    "\n",
    "\n",
    "- Implement Kmean clustering any given dataset.\n",
    "\n",
    "\n",
    "\n"
   ]
  },
  {
   "cell_type": "markdown",
   "id": "3c122557",
   "metadata": {
    "id": "3c122557"
   },
   "source": [
    "## <font color = blue>1. Loading Data\n",
    "\n",
    "    - Lets load iris dataset for clustering. Note that you don't have to include target for unsupervised learning.\n",
    "    "
   ]
  },
  {
   "cell_type": "code",
   "execution_count": 1,
   "id": "900bc169",
   "metadata": {
    "id": "900bc169"
   },
   "outputs": [],
   "source": [
    "#import libraries first\n",
    "import pandas as pd\n",
    "import numpy as np\n",
    "import matplotlib.pyplot as plt"
   ]
  },
  {
   "cell_type": "code",
   "execution_count": 2,
   "id": "c96d66e7",
   "metadata": {
    "id": "c96d66e7"
   },
   "outputs": [
    {
     "data": {
      "text/html": [
       "<div>\n",
       "<style scoped>\n",
       "    .dataframe tbody tr th:only-of-type {\n",
       "        vertical-align: middle;\n",
       "    }\n",
       "\n",
       "    .dataframe tbody tr th {\n",
       "        vertical-align: top;\n",
       "    }\n",
       "\n",
       "    .dataframe thead th {\n",
       "        text-align: right;\n",
       "    }\n",
       "</style>\n",
       "<table border=\"1\" class=\"dataframe\">\n",
       "  <thead>\n",
       "    <tr style=\"text-align: right;\">\n",
       "      <th></th>\n",
       "      <th>sepal length (cm)</th>\n",
       "      <th>sepal width (cm)</th>\n",
       "      <th>petal length (cm)</th>\n",
       "      <th>petal width (cm)</th>\n",
       "    </tr>\n",
       "  </thead>\n",
       "  <tbody>\n",
       "    <tr>\n",
       "      <th>0</th>\n",
       "      <td>5.1</td>\n",
       "      <td>3.5</td>\n",
       "      <td>1.4</td>\n",
       "      <td>0.2</td>\n",
       "    </tr>\n",
       "    <tr>\n",
       "      <th>1</th>\n",
       "      <td>4.9</td>\n",
       "      <td>3.0</td>\n",
       "      <td>1.4</td>\n",
       "      <td>0.2</td>\n",
       "    </tr>\n",
       "    <tr>\n",
       "      <th>2</th>\n",
       "      <td>4.7</td>\n",
       "      <td>3.2</td>\n",
       "      <td>1.3</td>\n",
       "      <td>0.2</td>\n",
       "    </tr>\n",
       "    <tr>\n",
       "      <th>3</th>\n",
       "      <td>4.6</td>\n",
       "      <td>3.1</td>\n",
       "      <td>1.5</td>\n",
       "      <td>0.2</td>\n",
       "    </tr>\n",
       "    <tr>\n",
       "      <th>4</th>\n",
       "      <td>5.0</td>\n",
       "      <td>3.6</td>\n",
       "      <td>1.4</td>\n",
       "      <td>0.2</td>\n",
       "    </tr>\n",
       "    <tr>\n",
       "      <th>...</th>\n",
       "      <td>...</td>\n",
       "      <td>...</td>\n",
       "      <td>...</td>\n",
       "      <td>...</td>\n",
       "    </tr>\n",
       "    <tr>\n",
       "      <th>145</th>\n",
       "      <td>6.7</td>\n",
       "      <td>3.0</td>\n",
       "      <td>5.2</td>\n",
       "      <td>2.3</td>\n",
       "    </tr>\n",
       "    <tr>\n",
       "      <th>146</th>\n",
       "      <td>6.3</td>\n",
       "      <td>2.5</td>\n",
       "      <td>5.0</td>\n",
       "      <td>1.9</td>\n",
       "    </tr>\n",
       "    <tr>\n",
       "      <th>147</th>\n",
       "      <td>6.5</td>\n",
       "      <td>3.0</td>\n",
       "      <td>5.2</td>\n",
       "      <td>2.0</td>\n",
       "    </tr>\n",
       "    <tr>\n",
       "      <th>148</th>\n",
       "      <td>6.2</td>\n",
       "      <td>3.4</td>\n",
       "      <td>5.4</td>\n",
       "      <td>2.3</td>\n",
       "    </tr>\n",
       "    <tr>\n",
       "      <th>149</th>\n",
       "      <td>5.9</td>\n",
       "      <td>3.0</td>\n",
       "      <td>5.1</td>\n",
       "      <td>1.8</td>\n",
       "    </tr>\n",
       "  </tbody>\n",
       "</table>\n",
       "<p>150 rows × 4 columns</p>\n",
       "</div>"
      ],
      "text/plain": [
       "     sepal length (cm)  sepal width (cm)  petal length (cm)  petal width (cm)\n",
       "0                  5.1               3.5                1.4               0.2\n",
       "1                  4.9               3.0                1.4               0.2\n",
       "2                  4.7               3.2                1.3               0.2\n",
       "3                  4.6               3.1                1.5               0.2\n",
       "4                  5.0               3.6                1.4               0.2\n",
       "..                 ...               ...                ...               ...\n",
       "145                6.7               3.0                5.2               2.3\n",
       "146                6.3               2.5                5.0               1.9\n",
       "147                6.5               3.0                5.2               2.0\n",
       "148                6.2               3.4                5.4               2.3\n",
       "149                5.9               3.0                5.1               1.8\n",
       "\n",
       "[150 rows x 4 columns]"
      ]
     },
     "execution_count": 2,
     "metadata": {},
     "output_type": "execute_result"
    }
   ],
   "source": [
    "#Load datasets\n",
    "from sklearn.datasets import load_iris\n",
    "iris = load_iris()\n",
    "idf = pd.DataFrame(iris.data, columns=iris.feature_names)\n",
    "idf"
   ]
  },
  {
   "cell_type": "markdown",
   "id": "dcb32e68",
   "metadata": {
    "id": "dcb32e68"
   },
   "source": [
    "## <font color = blue> 2. Data Manipulationa and visualization"
   ]
  },
  {
   "cell_type": "code",
   "execution_count": 3,
   "id": "94b0ad1a",
   "metadata": {
    "id": "94b0ad1a"
   },
   "outputs": [
    {
     "data": {
      "image/png": "[encoded data removed]",
      "text/plain": [
       "<Figure size 432x288 with 1 Axes>"
      ]
     },
     "metadata": {
      "needs_background": "light"
     },
     "output_type": "display_data"
    }
   ],
   "source": [
    "#visualize your data here\n",
    "x= idf['petal length (cm)']\n",
    "y = idf['petal width (cm)']\n",
    "plt.scatter(x,y)\n",
    "plt.title(\"Iris Dataset\")\n",
    "plt.xlabel(\"Petal Length\")\n",
    "plt.ylabel('Petal Width')\n",
    "plt.show()"
   ]
  },
  {
   "cell_type": "markdown",
   "id": "8e98be15",
   "metadata": {
    "id": "8e98be15"
   },
   "source": [
    "## <font color = blue> 3. Train model"
   ]
  },
  {
   "cell_type": "code",
   "execution_count": 47,
   "id": "db137e92",
   "metadata": {
    "id": "db137e92"
   },
   "outputs": [
    {
     "data": {
      "text/plain": [
       "KMeans(n_clusters=3, random_state=0)"
      ]
     },
     "execution_count": 47,
     "metadata": {},
     "output_type": "execute_result"
    }
   ],
   "source": [
    "#train your model here\n",
    "from sklearn.cluster import KMeans\n",
    "X = idf[['petal length (cm)', 'petal width (cm)']]\n",
    "kmeans = KMeans(n_clusters=3, random_state=0).fit(X)\n",
    "kmeans"
   ]
  },
  {
   "cell_type": "markdown",
   "id": "ba88525c",
   "metadata": {
    "id": "ba88525c"
   },
   "source": [
    "## <font color = blue> 4. Explore KMeans attributes"
   ]
  },
  {
   "cell_type": "code",
   "execution_count": 72,
   "id": "faef5c87",
   "metadata": {
    "id": "faef5c87"
   },
   "outputs": [
    {
     "data": {
      "text/plain": [
       "array([[1.462     , 0.246     ],\n",
       "       [5.59583333, 2.0375    ],\n",
       "       [4.26923077, 1.34230769]])"
      ]
     },
     "execution_count": 72,
     "metadata": {},
     "output_type": "execute_result"
    }
   ],
   "source": [
    "#check Kmean algorithm's attribute\n",
    "kmeans.cluster_centers_"
   ]
  },
  {
   "cell_type": "code",
   "execution_count": 73,
   "id": "eadd8c0d",
   "metadata": {
    "id": "eadd8c0d"
   },
   "outputs": [
    {
     "data": {
      "text/plain": [
       "31.371358974358973"
      ]
     },
     "execution_count": 73,
     "metadata": {},
     "output_type": "execute_result"
    }
   ],
   "source": [
    "kmeans.inertia_"
   ]
  },
  {
   "cell_type": "code",
   "execution_count": 74,
   "id": "5295e444",
   "metadata": {},
   "outputs": [
    {
     "data": {
      "text/plain": [
       "array([0, 0, 0, 0, 0, 0, 0, 0, 0, 0, 0, 0, 0, 0, 0, 0, 0, 0, 0, 0, 0, 0,\n",
       "       0, 0, 0, 0, 0, 0, 0, 0, 0, 0, 0, 0, 0, 0, 0, 0, 0, 0, 0, 0, 0, 0,\n",
       "       0, 0, 0, 0, 0, 0, 2, 2, 2, 2, 2, 2, 2, 2, 2, 2, 2, 2, 2, 2, 2, 2,\n",
       "       2, 2, 2, 2, 2, 2, 2, 2, 2, 2, 2, 1, 2, 2, 2, 2, 2, 1, 2, 2, 2, 2,\n",
       "       2, 2, 2, 2, 2, 2, 2, 2, 2, 2, 2, 2, 1, 1, 1, 1, 1, 1, 2, 1, 1, 1,\n",
       "       1, 1, 1, 1, 1, 1, 1, 1, 1, 2, 1, 1, 1, 1, 1, 1, 2, 1, 1, 1, 1, 1,\n",
       "       1, 1, 1, 1, 1, 1, 2, 1, 1, 1, 1, 1, 1, 1, 1, 1, 1, 1])"
      ]
     },
     "execution_count": 74,
     "metadata": {},
     "output_type": "execute_result"
    }
   ],
   "source": [
    "kmeans.labels_"
   ]
  },
  {
   "cell_type": "code",
   "execution_count": 75,
   "id": "e2efba43",
   "metadata": {},
   "outputs": [
    {
     "data": {
      "text/plain": [
       "6"
      ]
     },
     "execution_count": 75,
     "metadata": {},
     "output_type": "execute_result"
    }
   ],
   "source": [
    "kmeans.n_iter_"
   ]
  },
  {
   "cell_type": "code",
   "execution_count": 76,
   "id": "815b48da",
   "metadata": {},
   "outputs": [
    {
     "data": {
      "text/plain": [
       "2"
      ]
     },
     "execution_count": 76,
     "metadata": {},
     "output_type": "execute_result"
    }
   ],
   "source": [
    "kmeans.n_features_in_"
   ]
  },
  {
   "cell_type": "code",
   "execution_count": 77,
   "id": "95b272fc",
   "metadata": {},
   "outputs": [
    {
     "data": {
      "text/plain": [
       "array(['petal length (cm)', 'petal width (cm)'], dtype=object)"
      ]
     },
     "execution_count": 77,
     "metadata": {},
     "output_type": "execute_result"
    }
   ],
   "source": [
    "kmeans.feature_names_in_"
   ]
  },
  {
   "cell_type": "markdown",
   "id": "808bbe15",
   "metadata": {
    "id": "808bbe15"
   },
   "source": [
    "## <font color = blue> 5. Prediction"
   ]
  },
  {
   "cell_type": "code",
   "execution_count": 17,
   "id": "24d34e73",
   "metadata": {
    "id": "24d34e73"
   },
   "outputs": [],
   "source": [
    "#create sample data to make prediction. Interpret your output for unsupervised clustering\n",
    "x_sample = [[1.4,0.2],[2.3,0.6],[2.3,0.2]]\n"
   ]
  },
  {
   "cell_type": "code",
   "execution_count": 71,
   "id": "9bbd822d",
   "metadata": {
    "id": "9bbd822d"
   },
   "outputs": [
    {
     "name": "stderr",
     "output_type": "stream",
     "text": [
      "C:\\ProgramData\\Anaconda3\\lib\\site-packages\\sklearn\\base.py:450: UserWarning: X does not have valid feature names, but KMeans was fitted with feature names\n",
      "  warnings.warn(\n"
     ]
    },
    {
     "data": {
      "text/plain": [
       "array([0, 0, 0])"
      ]
     },
     "execution_count": 71,
     "metadata": {},
     "output_type": "execute_result"
    }
   ],
   "source": [
    "y_pred = kmeans.predict(x_sample)\n",
    "y_pred"
   ]
  },
  {
   "cell_type": "markdown",
   "id": "34782520",
   "metadata": {
    "id": "34782520"
   },
   "source": [
    "## <font color = blue> 6. Plotting clusters with thier centroids"
   ]
  },
  {
   "cell_type": "code",
   "execution_count": 65,
   "id": "8d2dc57c",
   "metadata": {
    "id": "8d2dc57c"
   },
   "outputs": [
    {
     "data": {
      "image/png": "[encoded data removed]",
      "text/plain": [
       "<Figure size 432x288 with 1 Axes>"
      ]
     },
     "metadata": {
      "needs_background": "light"
     },
     "output_type": "display_data"
    }
   ],
   "source": [
    "# Plot your datapoints and show the clusters in different colors along with thier cluster centroids.\n",
    "import seaborn as sns\n",
    "colormap = np.array(['r', 'g', 'b'])\n",
    "categories = kmeans.predict(X)\n",
    "X = idf[['petal length (cm)', 'petal width (cm)']]\n",
    "plt.scatter(X['petal length (cm)'], X['petal width (cm)'], c=colormap[categories])\n",
    "\n",
    "centers = kmeans.cluster_centers_\n",
    "plt.scatter(centers[:, 0], centers[:, 1], c='black', s=200);\n"
   ]
  },
  {
   "cell_type": "code",
   "execution_count": null,
   "id": "fdde0e45",
   "metadata": {
    "id": "fdde0e45"
   },
   "outputs": [],
   "source": []
  },
  {
   "cell_type": "markdown",
   "id": "e073c367",
   "metadata": {
    "id": "e073c367"
   },
   "source": [
    "## <font color = blue> 7. Use elbow method to choose K for Kmean"
   ]
  },
  {
   "cell_type": "code",
   "execution_count": 66,
   "id": "c2c7d9fd",
   "metadata": {
    "id": "c2c7d9fd"
   },
   "outputs": [
    {
     "name": "stderr",
     "output_type": "stream",
     "text": [
      "C:\\ProgramData\\Anaconda3\\lib\\site-packages\\sklearn\\cluster\\_kmeans.py:1036: UserWarning: KMeans is known to have a memory leak on Windows with MKL, when there are less chunks than available threads. You can avoid it by setting the environment variable OMP_NUM_THREADS=1.\n",
      "  warnings.warn(\n"
     ]
    }
   ],
   "source": [
    "# plot grah to decide K value for given dataset.\n",
    "distortions = []\n",
    "K = range(1,4)\n",
    "for k in K:\n",
    "    kmeanModel = KMeans(n_clusters=k)\n",
    "    kmeanModel.fit(X)\n",
    "    distortions.append(kmeanModel.inertia_)"
   ]
  },
  {
   "cell_type": "code",
   "execution_count": 67,
   "id": "5018fc8c",
   "metadata": {},
   "outputs": [
    {
     "data": {
      "image/png": "[encoded data removed]",
      "text/plain": [
       "<Figure size 1152x576 with 1 Axes>"
      ]
     },
     "metadata": {
      "needs_background": "light"
     },
     "output_type": "display_data"
    }
   ],
   "source": [
    "plt.figure(figsize=(16,8))\n",
    "plt.plot(K, distortions, 'bx-')\n",
    "plt.xlabel('k')\n",
    "plt.ylabel('Distortion')\n",
    "plt.title('The Elbow Method showing the optimal k')\n",
    "plt.show()"
   ]
  }
 ],
 "metadata": {
  "colab": {
   "collapsed_sections": [],
   "provenance": []
  },
  "kernelspec": {
   "display_name": "Python 3 (ipykernel)",
   "language": "python",
   "name": "python3"
  },
  "language_info": {
   "codemirror_mode": {
    "name": "ipython",
    "version": 3
   },
   "file_extension": ".py",
   "mimetype": "text/x-python",
   "name": "python",
   "nbconvert_exporter": "python",
   "pygments_lexer": "ipython3",
   "version": "3.9.12"
  }
 },
 "nbformat": 4,
 "nbformat_minor": 5
}
