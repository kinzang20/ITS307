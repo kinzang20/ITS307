{
 "cells": [
  {
   "cell_type": "code",
   "execution_count": 1,
   "id": "ff883eba",
   "metadata": {},
   "outputs": [],
   "source": [
    "import pandas as pd\n",
    "import numpy as np\n",
    "import matplotlib.pyplot as plt"
   ]
  },
  {
   "cell_type": "code",
   "execution_count": 2,
   "id": "50ba78d4",
   "metadata": {},
   "outputs": [
    {
     "data": {
      "text/html": [
       "<div>\n",
       "<style scoped>\n",
       "    .dataframe tbody tr th:only-of-type {\n",
       "        vertical-align: middle;\n",
       "    }\n",
       "\n",
       "    .dataframe tbody tr th {\n",
       "        vertical-align: top;\n",
       "    }\n",
       "\n",
       "    .dataframe thead th {\n",
       "        text-align: right;\n",
       "    }\n",
       "</style>\n",
       "<table border=\"1\" class=\"dataframe\">\n",
       "  <thead>\n",
       "    <tr style=\"text-align: right;\">\n",
       "      <th></th>\n",
       "      <th>A1</th>\n",
       "      <th>A2</th>\n",
       "      <th>A3</th>\n",
       "      <th>A4</th>\n",
       "      <th>A5</th>\n",
       "      <th>A6</th>\n",
       "      <th>A7</th>\n",
       "      <th>A8</th>\n",
       "      <th>A9</th>\n",
       "      <th>A10</th>\n",
       "      <th>A11</th>\n",
       "      <th>A12</th>\n",
       "      <th>A13</th>\n",
       "      <th>A14</th>\n",
       "      <th>A15</th>\n",
       "      <th>target</th>\n",
       "    </tr>\n",
       "  </thead>\n",
       "  <tbody>\n",
       "    <tr>\n",
       "      <th>0</th>\n",
       "      <td>b</td>\n",
       "      <td>30.83</td>\n",
       "      <td>0.000</td>\n",
       "      <td>u</td>\n",
       "      <td>g</td>\n",
       "      <td>w</td>\n",
       "      <td>v</td>\n",
       "      <td>1.25</td>\n",
       "      <td>t</td>\n",
       "      <td>t</td>\n",
       "      <td>1</td>\n",
       "      <td>f</td>\n",
       "      <td>g</td>\n",
       "      <td>00202</td>\n",
       "      <td>0</td>\n",
       "      <td>+</td>\n",
       "    </tr>\n",
       "    <tr>\n",
       "      <th>1</th>\n",
       "      <td>a</td>\n",
       "      <td>58.67</td>\n",
       "      <td>4.460</td>\n",
       "      <td>u</td>\n",
       "      <td>g</td>\n",
       "      <td>q</td>\n",
       "      <td>h</td>\n",
       "      <td>3.04</td>\n",
       "      <td>t</td>\n",
       "      <td>t</td>\n",
       "      <td>6</td>\n",
       "      <td>f</td>\n",
       "      <td>g</td>\n",
       "      <td>00043</td>\n",
       "      <td>560</td>\n",
       "      <td>+</td>\n",
       "    </tr>\n",
       "    <tr>\n",
       "      <th>2</th>\n",
       "      <td>a</td>\n",
       "      <td>24.50</td>\n",
       "      <td>0.500</td>\n",
       "      <td>u</td>\n",
       "      <td>g</td>\n",
       "      <td>q</td>\n",
       "      <td>h</td>\n",
       "      <td>1.50</td>\n",
       "      <td>t</td>\n",
       "      <td>f</td>\n",
       "      <td>0</td>\n",
       "      <td>f</td>\n",
       "      <td>g</td>\n",
       "      <td>00280</td>\n",
       "      <td>824</td>\n",
       "      <td>+</td>\n",
       "    </tr>\n",
       "    <tr>\n",
       "      <th>3</th>\n",
       "      <td>b</td>\n",
       "      <td>27.83</td>\n",
       "      <td>1.540</td>\n",
       "      <td>u</td>\n",
       "      <td>g</td>\n",
       "      <td>w</td>\n",
       "      <td>v</td>\n",
       "      <td>3.75</td>\n",
       "      <td>t</td>\n",
       "      <td>t</td>\n",
       "      <td>5</td>\n",
       "      <td>t</td>\n",
       "      <td>g</td>\n",
       "      <td>00100</td>\n",
       "      <td>3</td>\n",
       "      <td>+</td>\n",
       "    </tr>\n",
       "    <tr>\n",
       "      <th>4</th>\n",
       "      <td>b</td>\n",
       "      <td>20.17</td>\n",
       "      <td>5.625</td>\n",
       "      <td>u</td>\n",
       "      <td>g</td>\n",
       "      <td>w</td>\n",
       "      <td>v</td>\n",
       "      <td>1.71</td>\n",
       "      <td>t</td>\n",
       "      <td>f</td>\n",
       "      <td>0</td>\n",
       "      <td>f</td>\n",
       "      <td>s</td>\n",
       "      <td>00120</td>\n",
       "      <td>0</td>\n",
       "      <td>+</td>\n",
       "    </tr>\n",
       "  </tbody>\n",
       "</table>\n",
       "</div>"
      ],
      "text/plain": [
       "  A1     A2     A3 A4 A5 A6 A7    A8 A9 A10  A11 A12 A13    A14  A15 target\n",
       "0  b  30.83  0.000  u  g  w  v  1.25  t   t    1   f   g  00202    0      +\n",
       "1  a  58.67  4.460  u  g  q  h  3.04  t   t    6   f   g  00043  560      +\n",
       "2  a  24.50  0.500  u  g  q  h  1.50  t   f    0   f   g  00280  824      +\n",
       "3  b  27.83  1.540  u  g  w  v  3.75  t   t    5   t   g  00100    3      +\n",
       "4  b  20.17  5.625  u  g  w  v  1.71  t   f    0   f   s  00120    0      +"
      ]
     },
     "execution_count": 2,
     "metadata": {},
     "output_type": "execute_result"
    }
   ],
   "source": [
    "#load datasets\n",
    "columns=[\"A1\",\"A2\",\"A3\",\"A4\",\"A5\",\"A6\",\"A7\",\"A8\",\"A9\",\"A10\",\"A11\",\"A12\",\"A13\",\"A14\",\"A15\",\"target\"]\n",
    "df = pd.read_csv(\"creditcard.txt\",names=columns)\n",
    "df.head()"
   ]
  },
  {
   "cell_type": "markdown",
   "id": "da50e125",
   "metadata": {},
   "source": [
    "# Data manipulation with pandas"
   ]
  },
  {
   "cell_type": "code",
   "execution_count": 3,
   "id": "a84abf59",
   "metadata": {},
   "outputs": [
    {
     "data": {
      "text/plain": [
       "A1        12\n",
       "A2        12\n",
       "A3         0\n",
       "A4         6\n",
       "A5         6\n",
       "A6         9\n",
       "A7         9\n",
       "A8         0\n",
       "A9         0\n",
       "A10        0\n",
       "A11        0\n",
       "A12        0\n",
       "A13        0\n",
       "A14       13\n",
       "A15        0\n",
       "target     0\n",
       "dtype: int64"
      ]
     },
     "execution_count": 3,
     "metadata": {},
     "output_type": "execute_result"
    }
   ],
   "source": [
    "df.replace(\"?\",np.nan,inplace=True)\n",
    "df.isna().sum()"
   ]
  },
  {
   "cell_type": "code",
   "execution_count": 4,
   "id": "d14a1565",
   "metadata": {},
   "outputs": [
    {
     "data": {
      "text/plain": [
       "A1         object\n",
       "A2         object\n",
       "A3        float64\n",
       "A4         object\n",
       "A5         object\n",
       "A6         object\n",
       "A7         object\n",
       "A8        float64\n",
       "A9         object\n",
       "A10        object\n",
       "A11         int64\n",
       "A12        object\n",
       "A13        object\n",
       "A14        object\n",
       "A15         int64\n",
       "target     object\n",
       "dtype: object"
      ]
     },
     "execution_count": 4,
     "metadata": {},
     "output_type": "execute_result"
    }
   ],
   "source": [
    "df.dtypes"
   ]
  },
  {
   "cell_type": "code",
   "execution_count": 5,
   "id": "0e1d269b",
   "metadata": {},
   "outputs": [
    {
     "data": {
      "text/plain": [
       "A1         object\n",
       "A2        float64\n",
       "A3        float64\n",
       "A4         object\n",
       "A5         object\n",
       "A6         object\n",
       "A7         object\n",
       "A8        float64\n",
       "A9         object\n",
       "A10        object\n",
       "A11         int64\n",
       "A12        object\n",
       "A13        object\n",
       "A14       float64\n",
       "A15         int64\n",
       "target     object\n",
       "dtype: object"
      ]
     },
     "execution_count": 5,
     "metadata": {},
     "output_type": "execute_result"
    }
   ],
   "source": [
    "df['A2'] = df['A2'].astype('float64')\n",
    "df['A14'] = df['A3'].astype('float64')\n",
    "df.dtypes"
   ]
  },
  {
   "cell_type": "markdown",
   "id": "3b266714",
   "metadata": {},
   "source": [
    "# splitting dataset"
   ]
  },
  {
   "cell_type": "code",
   "execution_count": 6,
   "id": "f8b3665e",
   "metadata": {},
   "outputs": [
    {
     "data": {
      "text/html": [
       "<div>\n",
       "<style scoped>\n",
       "    .dataframe tbody tr th:only-of-type {\n",
       "        vertical-align: middle;\n",
       "    }\n",
       "\n",
       "    .dataframe tbody tr th {\n",
       "        vertical-align: top;\n",
       "    }\n",
       "\n",
       "    .dataframe thead th {\n",
       "        text-align: right;\n",
       "    }\n",
       "</style>\n",
       "<table border=\"1\" class=\"dataframe\">\n",
       "  <thead>\n",
       "    <tr style=\"text-align: right;\">\n",
       "      <th></th>\n",
       "      <th>A1</th>\n",
       "      <th>A2</th>\n",
       "      <th>A3</th>\n",
       "      <th>A4</th>\n",
       "      <th>A5</th>\n",
       "      <th>A6</th>\n",
       "      <th>A7</th>\n",
       "      <th>A8</th>\n",
       "      <th>A9</th>\n",
       "      <th>A10</th>\n",
       "      <th>A11</th>\n",
       "      <th>A12</th>\n",
       "      <th>A13</th>\n",
       "      <th>A14</th>\n",
       "      <th>A15</th>\n",
       "    </tr>\n",
       "  </thead>\n",
       "  <tbody>\n",
       "    <tr>\n",
       "      <th>49</th>\n",
       "      <td>b</td>\n",
       "      <td>23.92</td>\n",
       "      <td>0.665</td>\n",
       "      <td>u</td>\n",
       "      <td>g</td>\n",
       "      <td>c</td>\n",
       "      <td>v</td>\n",
       "      <td>0.165</td>\n",
       "      <td>f</td>\n",
       "      <td>f</td>\n",
       "      <td>0</td>\n",
       "      <td>f</td>\n",
       "      <td>g</td>\n",
       "      <td>0.665</td>\n",
       "      <td>0</td>\n",
       "    </tr>\n",
       "    <tr>\n",
       "      <th>74</th>\n",
       "      <td>b</td>\n",
       "      <td>44.83</td>\n",
       "      <td>7.000</td>\n",
       "      <td>y</td>\n",
       "      <td>p</td>\n",
       "      <td>c</td>\n",
       "      <td>v</td>\n",
       "      <td>1.625</td>\n",
       "      <td>f</td>\n",
       "      <td>f</td>\n",
       "      <td>0</td>\n",
       "      <td>f</td>\n",
       "      <td>g</td>\n",
       "      <td>7.000</td>\n",
       "      <td>2</td>\n",
       "    </tr>\n",
       "    <tr>\n",
       "      <th>245</th>\n",
       "      <td>b</td>\n",
       "      <td>33.17</td>\n",
       "      <td>3.040</td>\n",
       "      <td>y</td>\n",
       "      <td>p</td>\n",
       "      <td>c</td>\n",
       "      <td>h</td>\n",
       "      <td>2.040</td>\n",
       "      <td>t</td>\n",
       "      <td>t</td>\n",
       "      <td>1</td>\n",
       "      <td>t</td>\n",
       "      <td>g</td>\n",
       "      <td>3.040</td>\n",
       "      <td>18027</td>\n",
       "    </tr>\n",
       "    <tr>\n",
       "      <th>600</th>\n",
       "      <td>a</td>\n",
       "      <td>29.50</td>\n",
       "      <td>0.460</td>\n",
       "      <td>u</td>\n",
       "      <td>g</td>\n",
       "      <td>k</td>\n",
       "      <td>v</td>\n",
       "      <td>0.540</td>\n",
       "      <td>t</td>\n",
       "      <td>t</td>\n",
       "      <td>4</td>\n",
       "      <td>f</td>\n",
       "      <td>g</td>\n",
       "      <td>0.460</td>\n",
       "      <td>500</td>\n",
       "    </tr>\n",
       "    <tr>\n",
       "      <th>313</th>\n",
       "      <td>a</td>\n",
       "      <td>18.58</td>\n",
       "      <td>10.000</td>\n",
       "      <td>u</td>\n",
       "      <td>g</td>\n",
       "      <td>d</td>\n",
       "      <td>v</td>\n",
       "      <td>0.415</td>\n",
       "      <td>f</td>\n",
       "      <td>f</td>\n",
       "      <td>0</td>\n",
       "      <td>f</td>\n",
       "      <td>g</td>\n",
       "      <td>10.000</td>\n",
       "      <td>42</td>\n",
       "    </tr>\n",
       "  </tbody>\n",
       "</table>\n",
       "</div>"
      ],
      "text/plain": [
       "    A1     A2      A3 A4 A5 A6 A7     A8 A9 A10  A11 A12 A13     A14    A15\n",
       "49   b  23.92   0.665  u  g  c  v  0.165  f   f    0   f   g   0.665      0\n",
       "74   b  44.83   7.000  y  p  c  v  1.625  f   f    0   f   g   7.000      2\n",
       "245  b  33.17   3.040  y  p  c  h  2.040  t   t    1   t   g   3.040  18027\n",
       "600  a  29.50   0.460  u  g  k  v  0.540  t   t    4   f   g   0.460    500\n",
       "313  a  18.58  10.000  u  g  d  v  0.415  f   f    0   f   g  10.000     42"
      ]
     },
     "execution_count": 6,
     "metadata": {},
     "output_type": "execute_result"
    }
   ],
   "source": [
    "from sklearn.model_selection import train_test_split\n",
    "# before splitting the data, lets choose any one feature as X\n",
    "X = df.iloc[:,:-1]\n",
    "y = df.target\n",
    "\n",
    "# Split the data into training and testing sets\n",
    "X_train,X_test,y_train,y_test=train_test_split(X,y,test_size=0.2,random_state=5,stratify=y)\n",
    "X_train.head()"
   ]
  },
  {
   "cell_type": "markdown",
   "id": "c3cee1de",
   "metadata": {},
   "source": [
    "# Feature enginerring with pipeline"
   ]
  },
  {
   "cell_type": "code",
   "execution_count": 16,
   "id": "2a6379c9",
   "metadata": {},
   "outputs": [],
   "source": [
    "# pipeline is to create a sequence of preprocessing action\n",
    "from sklearn.pipeline import Pipeline\n",
    "\n",
    "#Simple Imputer handanles missing values\n",
    "from sklearn.impute import SimpleImputer\n",
    "\n",
    "from sklearn.preprocessing import StandardScaler, OneHotEncoder, OrdinalEncoder"
   ]
  },
  {
   "cell_type": "code",
   "execution_count": 17,
   "id": "87d1840d",
   "metadata": {},
   "outputs": [
    {
     "name": "stdout",
     "output_type": "stream",
     "text": [
      "Index(['A2', 'A3', 'A8', 'A11', 'A14', 'A15'], dtype='object')\n",
      "Index(['A1', 'A4', 'A5', 'A6', 'A7', 'A9', 'A10', 'A12', 'A13'], dtype='object')\n"
     ]
    }
   ],
   "source": [
    "#separate the categorical and numerical columns\n",
    "#Numeric coluns\n",
    "numeric_cols=X.select_dtypes(include=['int64','float64']).columns\n",
    "print(numeric_cols)\n",
    "\n",
    "categoriacal_cols=X.select_dtypes(include=['object']).columns\n",
    "print(categoriacal_cols)"
   ]
  },
  {
   "cell_type": "code",
   "execution_count": 18,
   "id": "1222de91",
   "metadata": {},
   "outputs": [],
   "source": [
    "#Building the Numeric Transformation Pipeline\n",
    "n_transformer = Pipeline(steps=\n",
    "                         [\n",
    "                             ('imputeN',SimpleImputer(strategy='mean')),\n",
    "                             ('scale',StandardScaler())\n",
    "                         ])"
   ]
  },
  {
   "cell_type": "code",
   "execution_count": 19,
   "id": "8afaf488",
   "metadata": {},
   "outputs": [],
   "source": [
    "#Building the numeric Transformation Pipeline\n",
    "c_transformer = Pipeline(steps=\n",
    "                         [\n",
    "                             ('imputeC',SimpleImputer(strategy='constant',fill_value='missing')),\n",
    "                             ('onehot',OneHotEncoder(handle_unknown='ignore'))\n",
    "                         ])"
   ]
  },
  {
   "cell_type": "code",
   "execution_count": 22,
   "id": "696bda34",
   "metadata": {},
   "outputs": [],
   "source": [
    "from sklearn.compose import ColumnTransformer\n",
    "preprocessing = ColumnTransformer(transformers=\n",
    "                                  [\n",
    "                                      ('numeric',n_transformer,numeric_cols),\n",
    "                                      ('categoric',c_transformer,categoriacal_cols)\n",
    "                                  ])"
   ]
  },
  {
   "cell_type": "code",
   "execution_count": 25,
   "id": "5e772da5",
   "metadata": {},
   "outputs": [],
   "source": [
    "#create estimator\n",
    "from sklearn.neighbors import KNeighborsClassifier\n",
    "estimator = KNeighborsClassifier(n_neighbors=3,weights='distance',algorithm='kd_tree')"
   ]
  },
  {
   "cell_type": "code",
   "execution_count": 26,
   "id": "ed4aa662",
   "metadata": {},
   "outputs": [],
   "source": [
    "# add estimator to pipeline\n",
    "mymodel = Pipeline(steps=\n",
    "                   [\n",
    "                       ('pre',preprocessing),\n",
    "                       ('est',estimator)\n",
    "                   ])"
   ]
  },
  {
   "cell_type": "code",
   "execution_count": 27,
   "id": "0edb3033",
   "metadata": {},
   "outputs": [
    {
     "data": {
      "text/html": [
       "<style>#sk-33b42440-8ccb-4df3-a72f-980638fb9161 {color: black;background-color: white;}#sk-33b42440-8ccb-4df3-a72f-980638fb9161 pre{padding: 0;}#sk-33b42440-8ccb-4df3-a72f-980638fb9161 div.sk-toggleable {background-color: white;}#sk-33b42440-8ccb-4df3-a72f-980638fb9161 label.sk-toggleable__label {cursor: pointer;display: block;width: 100%;margin-bottom: 0;padding: 0.2em 0.3em;box-sizing: border-box;text-align: center;}#sk-33b42440-8ccb-4df3-a72f-980638fb9161 div.sk-toggleable__content {max-height: 0;max-width: 0;overflow: hidden;text-align: left;background-color: #f0f8ff;}#sk-33b42440-8ccb-4df3-a72f-980638fb9161 div.sk-toggleable__content pre {margin: 0.2em;color: black;border-radius: 0.25em;background-color: #f0f8ff;}#sk-33b42440-8ccb-4df3-a72f-980638fb9161 input.sk-toggleable__control:checked~div.sk-toggleable__content {max-height: 200px;max-width: 100%;overflow: auto;}#sk-33b42440-8ccb-4df3-a72f-980638fb9161 div.sk-estimator input.sk-toggleable__control:checked~label.sk-toggleable__label {background-color: #d4ebff;}#sk-33b42440-8ccb-4df3-a72f-980638fb9161 div.sk-label input.sk-toggleable__control:checked~label.sk-toggleable__label {background-color: #d4ebff;}#sk-33b42440-8ccb-4df3-a72f-980638fb9161 input.sk-hidden--visually {border: 0;clip: rect(1px 1px 1px 1px);clip: rect(1px, 1px, 1px, 1px);height: 1px;margin: -1px;overflow: hidden;padding: 0;position: absolute;width: 1px;}#sk-33b42440-8ccb-4df3-a72f-980638fb9161 div.sk-estimator {font-family: monospace;background-color: #f0f8ff;margin: 0.25em 0.25em;border: 1px dotted black;border-radius: 0.25em;box-sizing: border-box;}#sk-33b42440-8ccb-4df3-a72f-980638fb9161 div.sk-estimator:hover {background-color: #d4ebff;}#sk-33b42440-8ccb-4df3-a72f-980638fb9161 div.sk-parallel-item::after {content: \"\";width: 100%;border-bottom: 1px solid gray;flex-grow: 1;}#sk-33b42440-8ccb-4df3-a72f-980638fb9161 div.sk-label:hover label.sk-toggleable__label {background-color: #d4ebff;}#sk-33b42440-8ccb-4df3-a72f-980638fb9161 div.sk-serial::before {content: \"\";position: absolute;border-left: 1px solid gray;box-sizing: border-box;top: 2em;bottom: 0;left: 50%;}#sk-33b42440-8ccb-4df3-a72f-980638fb9161 div.sk-serial {display: flex;flex-direction: column;align-items: center;background-color: white;}#sk-33b42440-8ccb-4df3-a72f-980638fb9161 div.sk-item {z-index: 1;}#sk-33b42440-8ccb-4df3-a72f-980638fb9161 div.sk-parallel {display: flex;align-items: stretch;justify-content: center;background-color: white;}#sk-33b42440-8ccb-4df3-a72f-980638fb9161 div.sk-parallel-item {display: flex;flex-direction: column;position: relative;background-color: white;}#sk-33b42440-8ccb-4df3-a72f-980638fb9161 div.sk-parallel-item:first-child::after {align-self: flex-end;width: 50%;}#sk-33b42440-8ccb-4df3-a72f-980638fb9161 div.sk-parallel-item:last-child::after {align-self: flex-start;width: 50%;}#sk-33b42440-8ccb-4df3-a72f-980638fb9161 div.sk-parallel-item:only-child::after {width: 0;}#sk-33b42440-8ccb-4df3-a72f-980638fb9161 div.sk-dashed-wrapped {border: 1px dashed gray;margin: 0.2em;box-sizing: border-box;padding-bottom: 0.1em;background-color: white;position: relative;}#sk-33b42440-8ccb-4df3-a72f-980638fb9161 div.sk-label label {font-family: monospace;font-weight: bold;background-color: white;display: inline-block;line-height: 1.2em;}#sk-33b42440-8ccb-4df3-a72f-980638fb9161 div.sk-label-container {position: relative;z-index: 2;text-align: center;}#sk-33b42440-8ccb-4df3-a72f-980638fb9161 div.sk-container {display: inline-block;position: relative;}</style><div id=\"sk-33b42440-8ccb-4df3-a72f-980638fb9161\" class\"sk-top-container\"><div class=\"sk-container\"><div class=\"sk-item sk-dashed-wrapped\"><div class=\"sk-label-container\"><div class=\"sk-label sk-toggleable\"><input class=\"sk-toggleable__control sk-hidden--visually\" id=\"504e4e38-45b6-4116-9f1e-7ec4ae129882\" type=\"checkbox\" ><label class=\"sk-toggleable__label\" for=\"504e4e38-45b6-4116-9f1e-7ec4ae129882\">Pipeline</label><div class=\"sk-toggleable__content\"><pre>Pipeline(steps=[('pre',\n",
       "                 ColumnTransformer(transformers=[('numeric',\n",
       "                                                  Pipeline(steps=[('imputeN',\n",
       "                                                                   SimpleImputer()),\n",
       "                                                                  ('scale',\n",
       "                                                                   StandardScaler())]),\n",
       "                                                  Index(['A2', 'A3', 'A8', 'A11', 'A14', 'A15'], dtype='object')),\n",
       "                                                 ('categoric',\n",
       "                                                  Pipeline(steps=[('imputeC',\n",
       "                                                                   SimpleImputer(fill_value='missing',\n",
       "                                                                                 strategy='constant')),\n",
       "                                                                  ('onehot',\n",
       "                                                                   OneHotEncoder(handle_unknown='ignore'))]),\n",
       "                                                  Index(['A1', 'A4', 'A5', 'A6', 'A7', 'A9', 'A10', 'A12', 'A13'], dtype='object'))])),\n",
       "                ('est',\n",
       "                 KNeighborsClassifier(algorithm='kd_tree', n_neighbors=3,\n",
       "                                      weights='distance'))])</pre></div></div></div><div class=\"sk-serial\"><div class=\"sk-item sk-dashed-wrapped\"><div class=\"sk-label-container\"><div class=\"sk-label sk-toggleable\"><input class=\"sk-toggleable__control sk-hidden--visually\" id=\"138e1f73-93e8-49cf-82da-8dd9f8571871\" type=\"checkbox\" ><label class=\"sk-toggleable__label\" for=\"138e1f73-93e8-49cf-82da-8dd9f8571871\">pre: ColumnTransformer</label><div class=\"sk-toggleable__content\"><pre>ColumnTransformer(transformers=[('numeric',\n",
       "                                 Pipeline(steps=[('imputeN', SimpleImputer()),\n",
       "                                                 ('scale', StandardScaler())]),\n",
       "                                 Index(['A2', 'A3', 'A8', 'A11', 'A14', 'A15'], dtype='object')),\n",
       "                                ('categoric',\n",
       "                                 Pipeline(steps=[('imputeC',\n",
       "                                                  SimpleImputer(fill_value='missing',\n",
       "                                                                strategy='constant')),\n",
       "                                                 ('onehot',\n",
       "                                                  OneHotEncoder(handle_unknown='ignore'))]),\n",
       "                                 Index(['A1', 'A4', 'A5', 'A6', 'A7', 'A9', 'A10', 'A12', 'A13'], dtype='object'))])</pre></div></div></div><div class=\"sk-parallel\"><div class=\"sk-parallel-item\"><div class=\"sk-item\"><div class=\"sk-label-container\"><div class=\"sk-label sk-toggleable\"><input class=\"sk-toggleable__control sk-hidden--visually\" id=\"330572b3-5fb7-4c47-bd9c-5879223b21b4\" type=\"checkbox\" ><label class=\"sk-toggleable__label\" for=\"330572b3-5fb7-4c47-bd9c-5879223b21b4\">numeric</label><div class=\"sk-toggleable__content\"><pre>Index(['A2', 'A3', 'A8', 'A11', 'A14', 'A15'], dtype='object')</pre></div></div></div><div class=\"sk-serial\"><div class=\"sk-item\"><div class=\"sk-serial\"><div class=\"sk-item\"><div class=\"sk-estimator sk-toggleable\"><input class=\"sk-toggleable__control sk-hidden--visually\" id=\"b3514d0c-653a-418e-8c51-53b25e562129\" type=\"checkbox\" ><label class=\"sk-toggleable__label\" for=\"b3514d0c-653a-418e-8c51-53b25e562129\">SimpleImputer</label><div class=\"sk-toggleable__content\"><pre>SimpleImputer()</pre></div></div></div><div class=\"sk-item\"><div class=\"sk-estimator sk-toggleable\"><input class=\"sk-toggleable__control sk-hidden--visually\" id=\"41b3dda6-6022-41a8-b09c-6a1c1495fe80\" type=\"checkbox\" ><label class=\"sk-toggleable__label\" for=\"41b3dda6-6022-41a8-b09c-6a1c1495fe80\">StandardScaler</label><div class=\"sk-toggleable__content\"><pre>StandardScaler()</pre></div></div></div></div></div></div></div></div><div class=\"sk-parallel-item\"><div class=\"sk-item\"><div class=\"sk-label-container\"><div class=\"sk-label sk-toggleable\"><input class=\"sk-toggleable__control sk-hidden--visually\" id=\"f2659f20-a84f-4b57-b79d-503b0338bb98\" type=\"checkbox\" ><label class=\"sk-toggleable__label\" for=\"f2659f20-a84f-4b57-b79d-503b0338bb98\">categoric</label><div class=\"sk-toggleable__content\"><pre>Index(['A1', 'A4', 'A5', 'A6', 'A7', 'A9', 'A10', 'A12', 'A13'], dtype='object')</pre></div></div></div><div class=\"sk-serial\"><div class=\"sk-item\"><div class=\"sk-serial\"><div class=\"sk-item\"><div class=\"sk-estimator sk-toggleable\"><input class=\"sk-toggleable__control sk-hidden--visually\" id=\"fd2f6753-f549-437a-9904-0c2b34aa75bf\" type=\"checkbox\" ><label class=\"sk-toggleable__label\" for=\"fd2f6753-f549-437a-9904-0c2b34aa75bf\">SimpleImputer</label><div class=\"sk-toggleable__content\"><pre>SimpleImputer(fill_value='missing', strategy='constant')</pre></div></div></div><div class=\"sk-item\"><div class=\"sk-estimator sk-toggleable\"><input class=\"sk-toggleable__control sk-hidden--visually\" id=\"77eed26d-ca09-498c-8c88-257edffcda47\" type=\"checkbox\" ><label class=\"sk-toggleable__label\" for=\"77eed26d-ca09-498c-8c88-257edffcda47\">OneHotEncoder</label><div class=\"sk-toggleable__content\"><pre>OneHotEncoder(handle_unknown='ignore')</pre></div></div></div></div></div></div></div></div></div></div><div class=\"sk-item\"><div class=\"sk-estimator sk-toggleable\"><input class=\"sk-toggleable__control sk-hidden--visually\" id=\"4eca18e3-8c90-4052-9cde-bdb86f0d4c91\" type=\"checkbox\" ><label class=\"sk-toggleable__label\" for=\"4eca18e3-8c90-4052-9cde-bdb86f0d4c91\">KNeighborsClassifier</label><div class=\"sk-toggleable__content\"><pre>KNeighborsClassifier(algorithm='kd_tree', n_neighbors=3, weights='distance')</pre></div></div></div></div></div></div></div>"
      ],
      "text/plain": [
       "Pipeline(steps=[('pre',\n",
       "                 ColumnTransformer(transformers=[('numeric',\n",
       "                                                  Pipeline(steps=[('imputeN',\n",
       "                                                                   SimpleImputer()),\n",
       "                                                                  ('scale',\n",
       "                                                                   StandardScaler())]),\n",
       "                                                  Index(['A2', 'A3', 'A8', 'A11', 'A14', 'A15'], dtype='object')),\n",
       "                                                 ('categoric',\n",
       "                                                  Pipeline(steps=[('imputeC',\n",
       "                                                                   SimpleImputer(fill_value='missing',\n",
       "                                                                                 strategy='constant')),\n",
       "                                                                  ('onehot',\n",
       "                                                                   OneHotEncoder(handle_unknown='ignore'))]),\n",
       "                                                  Index(['A1', 'A4', 'A5', 'A6', 'A7', 'A9', 'A10', 'A12', 'A13'], dtype='object'))])),\n",
       "                ('est',\n",
       "                 KNeighborsClassifier(algorithm='kd_tree', n_neighbors=3,\n",
       "                                      weights='distance'))])"
      ]
     },
     "execution_count": 27,
     "metadata": {},
     "output_type": "execute_result"
    }
   ],
   "source": [
    "from sklearn import set_config\n",
    "set_config(display='diagram')\n",
    "mymodel.fit(X_train,y_train)"
   ]
  },
  {
   "cell_type": "markdown",
   "id": "97297501",
   "metadata": {},
   "source": [
    "# Validation and Evalution "
   ]
  },
  {
   "cell_type": "code",
   "execution_count": 30,
   "id": "5ee859fc",
   "metadata": {},
   "outputs": [],
   "source": [
    "# Import all the metics for validation and evalution\n",
    "from sklearn.metrics import confusion_matrix\n",
    "from sklearn.metrics import accuracy_score\n",
    "from sklearn.metrics import recall_score\n",
    "from sklearn.metrics import precision_score\n",
    "from sklearn.metrics import classification_report\n",
    "import seaborn as sns"
   ]
  },
  {
   "cell_type": "code",
   "execution_count": 32,
   "id": "277d041c",
   "metadata": {},
   "outputs": [],
   "source": [
    "# find y_hat for your test data\n",
    "y_hat = mymodel.predict(X_test)"
   ]
  },
  {
   "cell_type": "code",
   "execution_count": 33,
   "id": "5369e059",
   "metadata": {},
   "outputs": [
    {
     "data": {
      "image/png": "[encoded data removed]",
      "text/plain": [
       "<Figure size 432x288 with 2 Axes>"
      ]
     },
     "metadata": {
      "needs_background": "light"
     },
     "output_type": "display_data"
    }
   ],
   "source": [
    "# confusion matrix\n",
    "sns.heatmap(confusion_matrix(y_hat,y_test),annot=True)\n",
    "plt.show()"
   ]
  },
  {
   "cell_type": "code",
   "execution_count": 34,
   "id": "c66e90e9",
   "metadata": {},
   "outputs": [
    {
     "name": "stdout",
     "output_type": "stream",
     "text": [
      "Report : \n",
      "              precision    recall  f1-score   support\n",
      "\n",
      "           +       0.84      0.87      0.85        61\n",
      "           -       0.89      0.87      0.88        77\n",
      "\n",
      "    accuracy                           0.87       138\n",
      "   macro avg       0.87      0.87      0.87       138\n",
      "weighted avg       0.87      0.87      0.87       138\n",
      "\n"
     ]
    }
   ],
   "source": [
    "#Summarise the fit of the nodel\n",
    "report = classification_report(y_test, y_hat)\n",
    "print(\"Report : \\n{}\".format(report))"
   ]
  },
  {
   "cell_type": "code",
   "execution_count": 35,
   "id": "2958982f",
   "metadata": {},
   "outputs": [
    {
     "data": {
      "text/html": [
       "<div>\n",
       "<style scoped>\n",
       "    .dataframe tbody tr th:only-of-type {\n",
       "        vertical-align: middle;\n",
       "    }\n",
       "\n",
       "    .dataframe tbody tr th {\n",
       "        vertical-align: top;\n",
       "    }\n",
       "\n",
       "    .dataframe thead th {\n",
       "        text-align: right;\n",
       "    }\n",
       "</style>\n",
       "<table border=\"1\" class=\"dataframe\">\n",
       "  <thead>\n",
       "    <tr style=\"text-align: right;\">\n",
       "      <th></th>\n",
       "      <th>A1</th>\n",
       "      <th>A2</th>\n",
       "      <th>A3</th>\n",
       "      <th>A4</th>\n",
       "      <th>A5</th>\n",
       "      <th>A6</th>\n",
       "      <th>A7</th>\n",
       "      <th>A8</th>\n",
       "      <th>A9</th>\n",
       "      <th>A10</th>\n",
       "      <th>A11</th>\n",
       "      <th>A12</th>\n",
       "      <th>A13</th>\n",
       "      <th>A14</th>\n",
       "      <th>A15</th>\n",
       "    </tr>\n",
       "  </thead>\n",
       "  <tbody>\n",
       "    <tr>\n",
       "      <th>317</th>\n",
       "      <td>b</td>\n",
       "      <td>17.5</td>\n",
       "      <td>22.0</td>\n",
       "      <td>l</td>\n",
       "      <td>gg</td>\n",
       "      <td>ff</td>\n",
       "      <td>o</td>\n",
       "      <td>0.0</td>\n",
       "      <td>f</td>\n",
       "      <td>f</td>\n",
       "      <td>0</td>\n",
       "      <td>t</td>\n",
       "      <td>p</td>\n",
       "      <td>22.0</td>\n",
       "      <td>100000</td>\n",
       "    </tr>\n",
       "  </tbody>\n",
       "</table>\n",
       "</div>"
      ],
      "text/plain": [
       "    A1    A2    A3 A4  A5  A6 A7   A8 A9 A10  A11 A12 A13   A14     A15\n",
       "317  b  17.5  22.0  l  gg  ff  o  0.0  f   f    0   t   p  22.0  100000"
      ]
     },
     "execution_count": 35,
     "metadata": {},
     "output_type": "execute_result"
    }
   ],
   "source": [
    "# make prediction for unknown sample\n",
    "sample = X_test.iloc[0:1,:]\n",
    "sample"
   ]
  },
  {
   "cell_type": "code",
   "execution_count": 36,
   "id": "95c4e631",
   "metadata": {},
   "outputs": [
    {
     "data": {
      "text/plain": [
       "'+'"
      ]
     },
     "execution_count": 36,
     "metadata": {},
     "output_type": "execute_result"
    }
   ],
   "source": [
    "mymodel.predict(sample)[0]"
   ]
  },
  {
   "cell_type": "markdown",
   "id": "8414ba28",
   "metadata": {},
   "source": [
    "# saving machine learning model"
   ]
  },
  {
   "cell_type": "code",
   "execution_count": 37,
   "id": "138212aa",
   "metadata": {},
   "outputs": [],
   "source": [
    "import pickle\n",
    "#save model\n",
    "pickle.dump(mymodel,open(\"mymodel.pkl\",\"wb\"))"
   ]
  },
  {
   "cell_type": "code",
   "execution_count": 39,
   "id": "66c5b051",
   "metadata": {},
   "outputs": [],
   "source": [
    "#load model\n",
    "model = pickle.load(open(\"mymodel.pkl\",\"rb\"))"
   ]
  },
  {
   "cell_type": "code",
   "execution_count": 40,
   "id": "26a9e7c2",
   "metadata": {},
   "outputs": [
    {
     "data": {
      "text/plain": [
       "0.8695652173913043"
      ]
     },
     "execution_count": 40,
     "metadata": {},
     "output_type": "execute_result"
    }
   ],
   "source": [
    "model.score(X_test,y_test)"
   ]
  },
  {
   "cell_type": "code",
   "execution_count": null,
   "id": "ff88be95",
   "metadata": {},
   "outputs": [],
   "source": []
  }
 ],
 "metadata": {
  "kernelspec": {
   "display_name": "Python 3 (ipykernel)",
   "language": "python",
   "name": "python3"
  },
  "language_info": {
   "codemirror_mode": {
    "name": "ipython",
    "version": 3
   },
   "file_extension": ".py",
   "mimetype": "text/x-python",
   "name": "python",
   "nbconvert_exporter": "python",
   "pygments_lexer": "ipython3",
   "version": "3.9.7"
  }
 },
 "nbformat": 4,
 "nbformat_minor": 5
}
