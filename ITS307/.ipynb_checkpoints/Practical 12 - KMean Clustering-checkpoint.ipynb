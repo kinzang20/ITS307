{
 "cells": [
  {
   "cell_type": "markdown",
   "id": "2ff3c6a9",
   "metadata": {
    "id": "2ff3c6a9"
   },
   "source": [
    "# <center>ITS307 Data Analytics : Autumn Semester 2022</center>\n",
    "\n",
    "# <center>Practical 12</center>\n",
    "\n",
    "# <center>KMean Clustering</center>\n",
    "\n",
    "![image-14.png](attachment:image-14.png)"
   ]
  },
  {
   "cell_type": "markdown",
   "id": "88f1de3d",
   "metadata": {
    "id": "88f1de3d"
   },
   "source": [
    "# <font color=\"blue\">Table of Contents \n",
    "<ol start=\"0\">\n",
    "<li> Learning Objectives </li>\n",
    "<li> Train test Split </li>\n",
    "<li> Train Linear Model</li>\n",
    "<li> Train Non Linear Model</li>\n",
    "<li> Train Complex Model </li>\n",
    "<li> Train Regularized Model</li>\n",
    "</ol>"
   ]
  },
  {
   "cell_type": "markdown",
   "id": "a63863b2",
   "metadata": {
    "id": "a63863b2"
   },
   "source": [
    "## <font color = blue>0. Learning Objectives\n",
    "\n",
    "Use Kmean algorithm to implement unsupervised clustering for iris dataset.\n",
    "\n",
    "By the end of the lab, you should be able to :\n",
    "- Differentiate supervised and unsupervised learning.\n",
    "\n",
    "\n",
    "- Implement Kmean clustering any given dataset.\n",
    "\n",
    "\n",
    "\n"
   ]
  },
  {
   "cell_type": "markdown",
   "id": "3c122557",
   "metadata": {
    "id": "3c122557"
   },
   "source": [
    "## <font color = blue>1. Loading Data\n",
    "\n",
    "    - Lets load iris dataset for clustering. Note that you don't have to include target for unsupervised learning.\n",
    "    "
   ]
  },
  {
   "cell_type": "code",
   "execution_count": 1,
   "id": "900bc169",
   "metadata": {
    "id": "900bc169"
   },
   "outputs": [
    {
     "data": {
      "text/plain": [
       "dict_keys(['data', 'target', 'frame', 'target_names', 'DESCR', 'feature_names', 'filename'])"
      ]
     },
     "execution_count": 1,
     "metadata": {},
     "output_type": "execute_result"
    }
   ],
   "source": [
    "#import libraries first\n",
    "from sklearn.datasets import load_iris\n",
    "iris =load_iris()\n",
    "iris.keys()\n"
   ]
  },
  {
   "cell_type": "code",
   "execution_count": null,
   "id": "c96d66e7",
   "metadata": {
    "id": "c96d66e7"
   },
   "outputs": [],
   "source": [
    "#Load datasets\n",
    "\n"
   ]
  },
  {
   "cell_type": "markdown",
   "id": "dcb32e68",
   "metadata": {
    "id": "dcb32e68"
   },
   "source": [
    "## <font color = blue> 2. Data Manipulationa and visualization"
   ]
  },
  {
   "cell_type": "code",
   "execution_count": null,
   "id": "94b0ad1a",
   "metadata": {
    "id": "94b0ad1a"
   },
   "outputs": [],
   "source": [
    "#visualize your data here\n",
    "\n"
   ]
  },
  {
   "cell_type": "markdown",
   "id": "8e98be15",
   "metadata": {
    "id": "8e98be15"
   },
   "source": [
    "## <font color = blue> 3. Train model"
   ]
  },
  {
   "cell_type": "code",
   "execution_count": null,
   "id": "db137e92",
   "metadata": {
    "id": "db137e92"
   },
   "outputs": [],
   "source": [
    "#train your model here\n",
    "\n",
    "\n"
   ]
  },
  {
   "cell_type": "code",
   "execution_count": null,
   "id": "28866567",
   "metadata": {
    "id": "28866567"
   },
   "outputs": [],
   "source": []
  },
  {
   "cell_type": "code",
   "execution_count": null,
   "id": "c73e4381",
   "metadata": {
    "id": "c73e4381"
   },
   "outputs": [],
   "source": []
  },
  {
   "cell_type": "markdown",
   "id": "ba88525c",
   "metadata": {
    "id": "ba88525c"
   },
   "source": [
    "## <font color = blue> 4. Explore KMeans attributes"
   ]
  },
  {
   "cell_type": "code",
   "execution_count": null,
   "id": "faef5c87",
   "metadata": {
    "id": "faef5c87"
   },
   "outputs": [],
   "source": [
    "#check Kmean algorithm's attribute\n",
    "\n",
    "\n"
   ]
  },
  {
   "cell_type": "code",
   "execution_count": null,
   "id": "eadd8c0d",
   "metadata": {
    "id": "eadd8c0d"
   },
   "outputs": [],
   "source": []
  },
  {
   "cell_type": "markdown",
   "id": "808bbe15",
   "metadata": {
    "id": "808bbe15"
   },
   "source": [
    "## <font color = blue> 5. Prediction"
   ]
  },
  {
   "cell_type": "code",
   "execution_count": null,
   "id": "24d34e73",
   "metadata": {
    "id": "24d34e73"
   },
   "outputs": [],
   "source": [
    "#create sample data to make prediction. Interpret your output for unsupervised clustering\n",
    "\n"
   ]
  },
  {
   "cell_type": "code",
   "execution_count": null,
   "id": "9bbd822d",
   "metadata": {
    "id": "9bbd822d"
   },
   "outputs": [],
   "source": []
  },
  {
   "cell_type": "markdown",
   "id": "34782520",
   "metadata": {
    "id": "34782520"
   },
   "source": [
    "## <font color = blue> 6. Plotting clusters with thier centroids"
   ]
  },
  {
   "cell_type": "code",
   "execution_count": null,
   "id": "8d2dc57c",
   "metadata": {
    "id": "8d2dc57c"
   },
   "outputs": [],
   "source": [
    "# Plot your datapoints and show the clusters in different colors along with thier cluster centroids.\n",
    "\n",
    "\n"
   ]
  },
  {
   "cell_type": "code",
   "execution_count": null,
   "id": "fdde0e45",
   "metadata": {
    "id": "fdde0e45"
   },
   "outputs": [],
   "source": []
  },
  {
   "cell_type": "markdown",
   "id": "e073c367",
   "metadata": {
    "id": "e073c367"
   },
   "source": [
    "## <font color = blue> 7. Use elbow method to choose K for Kmean"
   ]
  },
  {
   "cell_type": "code",
   "execution_count": null,
   "id": "c2c7d9fd",
   "metadata": {
    "id": "c2c7d9fd"
   },
   "outputs": [],
   "source": [
    "# plot grah to decide K value for given dataset.\n",
    "\n",
    "\n"
   ]
  },
  {
   "cell_type": "code",
   "execution_count": null,
   "id": "14648e56",
   "metadata": {
    "id": "14648e56"
   },
   "outputs": [],
   "source": []
  }
 ],
 "metadata": {
  "colab": {
   "collapsed_sections": [],
   "provenance": []
  },
  "kernelspec": {
   "display_name": "Python 3 (ipykernel)",
   "language": "python",
   "name": "python3"
  },
  "language_info": {
   "codemirror_mode": {
    "name": "ipython",
    "version": 3
   },
   "file_extension": ".py",
   "mimetype": "text/x-python",
   "name": "python",
   "nbconvert_exporter": "python",
   "pygments_lexer": "ipython3",
   "version": "3.9.7"
  }
 },
 "nbformat": 4,
 "nbformat_minor": 5
}
