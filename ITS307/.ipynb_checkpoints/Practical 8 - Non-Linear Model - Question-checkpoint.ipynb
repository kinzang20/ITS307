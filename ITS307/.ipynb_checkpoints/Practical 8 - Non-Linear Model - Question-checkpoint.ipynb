{
 "cells": [
  {
   "attachments": {
    "image-14.png": {
     "image/png": "[encoded data removed]"
    }
   },
   "cell_type": "markdown",
   "id": "2ff3c6a9",
   "metadata": {},
   "source": [
    "# <center>ITS307 Data Analytics : Autumn Semester 2022</center>\n",
    "\n",
    "# <center>Practical 8</center>\n",
    "\n",
    "# <center>Non-Linear Regression</center>\n",
    "\n",
    "![image-14.png](attachment:image-14.png)"
   ]
  },
  {
   "cell_type": "markdown",
   "id": "88f1de3d",
   "metadata": {},
   "source": [
    "# <font color=\"blue\">Table of Contents \n",
    "<ol start=\"0\">\n",
    "<li> Learning Objectives </li>\n",
    "<li> Train test Split </li>\n",
    "<li> Train Linear Model</li>\n",
    "<li> Train Non Linear Model</li>\n",
    "<li> Train Complex Model </li>\n",
    "<li> Train Regularized Model</li>\n",
    "</ol>"
   ]
  },
  {
   "cell_type": "markdown",
   "id": "a63863b2",
   "metadata": {},
   "source": [
    "## <font color = blue>0. Learning Objectives\n",
    "\n",
    "Use Polynomial regression to implement non-linear models. Use regularization concepts to overcome overfitting problem in machine learning.\n",
    "\n",
    "By the end of the lab, you should be able to :\n",
    "- Differentiate overfitting and underfitting issues in machine learning.\n",
    "\n",
    "\n",
    "- Implement polynomial features to apply non-linear models and overcome underfitted models.\n",
    "\n",
    "\n",
    "- Implment regularization to overcome overfitted models.\n",
    "\n",
    "\n"
   ]
  },
  {
   "cell_type": "markdown",
   "id": "3c122557",
   "metadata": {},
   "source": [
    "## <font color = blue>1. Loading Data\n",
    "\n",
    "    - Lets load boston housing data set for this problem.\n",
    "    "
   ]
  },
  {
   "cell_type": "code",
   "execution_count": 1,
   "id": "900bc169",
   "metadata": {},
   "outputs": [],
   "source": [
    "#import libraries first\n",
    "from sklearn.datasets import load_boston\n",
    "import pandas as pd\n",
    "import matplotlib.pyplot as plt\n",
    "from sklearn.linear_model import LinearRegression"
   ]
  },
  {
   "cell_type": "code",
   "execution_count": 2,
   "id": "c96d66e7",
   "metadata": {},
   "outputs": [
    {
     "data": {
      "text/html": [
       "<div>\n",
       "<style scoped>\n",
       "    .dataframe tbody tr th:only-of-type {\n",
       "        vertical-align: middle;\n",
       "    }\n",
       "\n",
       "    .dataframe tbody tr th {\n",
       "        vertical-align: top;\n",
       "    }\n",
       "\n",
       "    .dataframe thead th {\n",
       "        text-align: right;\n",
       "    }\n",
       "</style>\n",
       "<table border=\"1\" class=\"dataframe\">\n",
       "  <thead>\n",
       "    <tr style=\"text-align: right;\">\n",
       "      <th></th>\n",
       "      <th>CRIM</th>\n",
       "      <th>ZN</th>\n",
       "      <th>INDUS</th>\n",
       "      <th>CHAS</th>\n",
       "      <th>NOX</th>\n",
       "      <th>RM</th>\n",
       "      <th>AGE</th>\n",
       "      <th>DIS</th>\n",
       "      <th>RAD</th>\n",
       "      <th>TAX</th>\n",
       "      <th>PTRATIO</th>\n",
       "      <th>B</th>\n",
       "      <th>LSTAT</th>\n",
       "    </tr>\n",
       "  </thead>\n",
       "  <tbody>\n",
       "    <tr>\n",
       "      <th>0</th>\n",
       "      <td>0.00632</td>\n",
       "      <td>18.0</td>\n",
       "      <td>2.31</td>\n",
       "      <td>0.0</td>\n",
       "      <td>0.538</td>\n",
       "      <td>6.575</td>\n",
       "      <td>65.2</td>\n",
       "      <td>4.0900</td>\n",
       "      <td>1.0</td>\n",
       "      <td>296.0</td>\n",
       "      <td>15.3</td>\n",
       "      <td>396.90</td>\n",
       "      <td>4.98</td>\n",
       "    </tr>\n",
       "    <tr>\n",
       "      <th>1</th>\n",
       "      <td>0.02731</td>\n",
       "      <td>0.0</td>\n",
       "      <td>7.07</td>\n",
       "      <td>0.0</td>\n",
       "      <td>0.469</td>\n",
       "      <td>6.421</td>\n",
       "      <td>78.9</td>\n",
       "      <td>4.9671</td>\n",
       "      <td>2.0</td>\n",
       "      <td>242.0</td>\n",
       "      <td>17.8</td>\n",
       "      <td>396.90</td>\n",
       "      <td>9.14</td>\n",
       "    </tr>\n",
       "    <tr>\n",
       "      <th>2</th>\n",
       "      <td>0.02729</td>\n",
       "      <td>0.0</td>\n",
       "      <td>7.07</td>\n",
       "      <td>0.0</td>\n",
       "      <td>0.469</td>\n",
       "      <td>7.185</td>\n",
       "      <td>61.1</td>\n",
       "      <td>4.9671</td>\n",
       "      <td>2.0</td>\n",
       "      <td>242.0</td>\n",
       "      <td>17.8</td>\n",
       "      <td>392.83</td>\n",
       "      <td>4.03</td>\n",
       "    </tr>\n",
       "    <tr>\n",
       "      <th>3</th>\n",
       "      <td>0.03237</td>\n",
       "      <td>0.0</td>\n",
       "      <td>2.18</td>\n",
       "      <td>0.0</td>\n",
       "      <td>0.458</td>\n",
       "      <td>6.998</td>\n",
       "      <td>45.8</td>\n",
       "      <td>6.0622</td>\n",
       "      <td>3.0</td>\n",
       "      <td>222.0</td>\n",
       "      <td>18.7</td>\n",
       "      <td>394.63</td>\n",
       "      <td>2.94</td>\n",
       "    </tr>\n",
       "    <tr>\n",
       "      <th>4</th>\n",
       "      <td>0.06905</td>\n",
       "      <td>0.0</td>\n",
       "      <td>2.18</td>\n",
       "      <td>0.0</td>\n",
       "      <td>0.458</td>\n",
       "      <td>7.147</td>\n",
       "      <td>54.2</td>\n",
       "      <td>6.0622</td>\n",
       "      <td>3.0</td>\n",
       "      <td>222.0</td>\n",
       "      <td>18.7</td>\n",
       "      <td>396.90</td>\n",
       "      <td>5.33</td>\n",
       "    </tr>\n",
       "  </tbody>\n",
       "</table>\n",
       "</div>"
      ],
      "text/plain": [
       "      CRIM    ZN  INDUS  CHAS    NOX     RM   AGE     DIS  RAD    TAX  \\\n",
       "0  0.00632  18.0   2.31   0.0  0.538  6.575  65.2  4.0900  1.0  296.0   \n",
       "1  0.02731   0.0   7.07   0.0  0.469  6.421  78.9  4.9671  2.0  242.0   \n",
       "2  0.02729   0.0   7.07   0.0  0.469  7.185  61.1  4.9671  2.0  242.0   \n",
       "3  0.03237   0.0   2.18   0.0  0.458  6.998  45.8  6.0622  3.0  222.0   \n",
       "4  0.06905   0.0   2.18   0.0  0.458  7.147  54.2  6.0622  3.0  222.0   \n",
       "\n",
       "   PTRATIO       B  LSTAT  \n",
       "0     15.3  396.90   4.98  \n",
       "1     17.8  396.90   9.14  \n",
       "2     17.8  392.83   4.03  \n",
       "3     18.7  394.63   2.94  \n",
       "4     18.7  396.90   5.33  "
      ]
     },
     "execution_count": 2,
     "metadata": {},
     "output_type": "execute_result"
    }
   ],
   "source": [
    "#Load datasets\n",
    "boston = load_boston()\n",
    "boston.keys()\n",
    "\n",
    "df = pd.DataFrame(boston.data, columns=boston.feature_names)\n",
    "df.head()"
   ]
  },
  {
   "cell_type": "markdown",
   "id": "dcb32e68",
   "metadata": {},
   "source": [
    "## <font color = blue> 2. Train test split"
   ]
  },
  {
   "cell_type": "markdown",
   "id": "e1e5d07e",
   "metadata": {},
   "source": [
    "\n",
    "![image.png](data:image/png;base64,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)"
   ]
  },
  {
   "cell_type": "markdown",
   "id": "8ad0b952",
   "metadata": {},
   "source": [
    "1.   Split the data to 80% training and 20% testing\n",
    "2.   Get the Estimator (ML algorithm aka learner)\n",
    "\n",
    "`sklearn.model_selection.train_test_split(*arrays, test_size=None, train_size=None, random_state=None, shuffle=True, stratify=None)`\n",
    "\n",
    "\n",
    "### <font color = \"7DCE13\">To simplify the model and to visualize data distribution in two dimensional space, lets consider only one feature first."
   ]
  },
  {
   "cell_type": "code",
   "execution_count": 3,
   "id": "cbd4ea12",
   "metadata": {},
   "outputs": [
    {
     "data": {
      "text/html": [
       "<div>\n",
       "<style scoped>\n",
       "    .dataframe tbody tr th:only-of-type {\n",
       "        vertical-align: middle;\n",
       "    }\n",
       "\n",
       "    .dataframe tbody tr th {\n",
       "        vertical-align: top;\n",
       "    }\n",
       "\n",
       "    .dataframe thead th {\n",
       "        text-align: right;\n",
       "    }\n",
       "</style>\n",
       "<table border=\"1\" class=\"dataframe\">\n",
       "  <thead>\n",
       "    <tr style=\"text-align: right;\">\n",
       "      <th></th>\n",
       "      <th>LSTAT</th>\n",
       "    </tr>\n",
       "  </thead>\n",
       "  <tbody>\n",
       "    <tr>\n",
       "      <th>0</th>\n",
       "      <td>4.98</td>\n",
       "    </tr>\n",
       "    <tr>\n",
       "      <th>1</th>\n",
       "      <td>9.14</td>\n",
       "    </tr>\n",
       "    <tr>\n",
       "      <th>2</th>\n",
       "      <td>4.03</td>\n",
       "    </tr>\n",
       "    <tr>\n",
       "      <th>3</th>\n",
       "      <td>2.94</td>\n",
       "    </tr>\n",
       "    <tr>\n",
       "      <th>4</th>\n",
       "      <td>5.33</td>\n",
       "    </tr>\n",
       "  </tbody>\n",
       "</table>\n",
       "</div>"
      ],
      "text/plain": [
       "   LSTAT\n",
       "0   4.98\n",
       "1   9.14\n",
       "2   4.03\n",
       "3   2.94\n",
       "4   5.33"
      ]
     },
     "execution_count": 3,
     "metadata": {},
     "output_type": "execute_result"
    }
   ],
   "source": [
    "from sklearn.model_selection import train_test_split\n",
    "# Before splitting the data, lets choose any one feature as X\n",
    "x = df[['LSTAT']]\n",
    "y = boston.target\n",
    "x.head()"
   ]
  },
  {
   "cell_type": "code",
   "execution_count": 4,
   "id": "2e86a93b",
   "metadata": {},
   "outputs": [
    {
     "data": {
      "text/plain": [
       "(404, 1)"
      ]
     },
     "execution_count": 4,
     "metadata": {},
     "output_type": "execute_result"
    }
   ],
   "source": [
    "#Split the data into training and testing sets\n",
    "x_train, x_test, y_train, y_test = train_test_split(x,y,test_size=0.2,random_state=5)\n",
    "x_train.shape"
   ]
  },
  {
   "cell_type": "code",
   "execution_count": 5,
   "id": "c827d392",
   "metadata": {},
   "outputs": [
    {
     "data": {
      "text/plain": [
       "(404,)"
      ]
     },
     "execution_count": 5,
     "metadata": {},
     "output_type": "execute_result"
    }
   ],
   "source": [
    "y_train.shape"
   ]
  },
  {
   "cell_type": "code",
   "execution_count": 6,
   "id": "971a7ea0",
   "metadata": {},
   "outputs": [
    {
     "data": {
      "text/plain": [
       "(102, 1)"
      ]
     },
     "execution_count": 6,
     "metadata": {},
     "output_type": "execute_result"
    }
   ],
   "source": [
    "x_test.shape"
   ]
  },
  {
   "cell_type": "code",
   "execution_count": 7,
   "id": "ec1a8deb",
   "metadata": {},
   "outputs": [
    {
     "data": {
      "text/plain": [
       "(102,)"
      ]
     },
     "execution_count": 7,
     "metadata": {},
     "output_type": "execute_result"
    }
   ],
   "source": [
    "y_test.shape"
   ]
  },
  {
   "cell_type": "code",
   "execution_count": 8,
   "id": "8d2b9eda",
   "metadata": {},
   "outputs": [
    {
     "data": {
      "image/png": "[encoded data removed]",
      "text/plain": [
       "<Figure size 432x288 with 1 Axes>"
      ]
     },
     "metadata": {
      "needs_background": "light"
     },
     "output_type": "display_data"
    }
   ],
   "source": [
    "#Lets plot scatter plot to check relation in two dimensional space.\n",
    "plt.scatter(x_train,y_train)\n",
    "plt.show()\n"
   ]
  },
  {
   "cell_type": "markdown",
   "id": "a48a0d0c",
   "metadata": {},
   "source": [
    "## <font color=blue> 3. Train Simple Linear Model    "
   ]
  },
  {
   "cell_type": "markdown",
   "id": "ef98e16a",
   "metadata": {},
   "source": [
    "### <font color=\"green\"> 3.1. Create and Train model \n",
    "    \n",
    "- Lets create simple Linear Regression model"
   ]
  },
  {
   "cell_type": "code",
   "execution_count": 9,
   "id": "3bd00705",
   "metadata": {},
   "outputs": [
    {
     "data": {
      "text/plain": [
       "LinearRegression()"
      ]
     },
     "execution_count": 9,
     "metadata": {},
     "output_type": "execute_result"
    }
   ],
   "source": [
    "#create model\n",
    "lr = LinearRegression()\n",
    "#train the model by fitting data\n",
    "lr.fit(x_train,y_train)"
   ]
  },
  {
   "cell_type": "markdown",
   "id": "c9cf54b9",
   "metadata": {},
   "source": [
    "### <font color=\"green\"> 3.2. Test Model \n",
    "- Testing or evaluating a machine learning model is a crucial step in machine workflow. It allows machine learning engineer to discover underfitting and overfitting problem in the trained model.\n"
   ]
  },
  {
   "cell_type": "code",
   "execution_count": 10,
   "id": "a4813ca4",
   "metadata": {},
   "outputs": [],
   "source": [
    "#lets find predicted value for trained data\n",
    "y_hat = lr.predict(x_train)\n"
   ]
  },
  {
   "cell_type": "code",
   "execution_count": 11,
   "id": "79b13fb2",
   "metadata": {},
   "outputs": [
    {
     "data": {
      "image/png": "[encoded data removed]",
      "text/plain": [
       "<Figure size 432x288 with 1 Axes>"
      ]
     },
     "metadata": {
      "needs_background": "light"
     },
     "output_type": "display_data"
    }
   ],
   "source": [
    "#lets plot prediction line\n",
    "import numpy as np\n",
    "plt.scatter(x_train,y_train)\n",
    "plt.plot(np.array(x_train).reshape(-1,1),y_hat,color='red')\n",
    "plt.show()"
   ]
  },
  {
   "cell_type": "code",
   "execution_count": 12,
   "id": "12f4c926",
   "metadata": {},
   "outputs": [
    {
     "data": {
      "image/png": "[encoded data removed]",
      "text/plain": [
       "<Figure size 432x288 with 1 Axes>"
      ]
     },
     "metadata": {
      "needs_background": "light"
     },
     "output_type": "display_data"
    }
   ],
   "source": [
    "plt.scatter(x_train,y_train)\n",
    "x_train = np.array(x_train).reshape(-1,1)\n",
    "plt.plot(x_train,y_hat,color='red')\n",
    "plt.show()"
   ]
  },
  {
   "cell_type": "code",
   "execution_count": 13,
   "id": "2dcc4b68",
   "metadata": {},
   "outputs": [
    {
     "data": {
      "text/plain": [
       "0.552301990803739"
      ]
     },
     "execution_count": 13,
     "metadata": {},
     "output_type": "execute_result"
    }
   ],
   "source": [
    "#Lets check model's r2 score for train data\n",
    "lr.score(x_train,y_train)"
   ]
  },
  {
   "cell_type": "code",
   "execution_count": 14,
   "id": "9d79b9b6",
   "metadata": {},
   "outputs": [
    {
     "data": {
      "text/plain": [
       "0.5041523728903131"
      ]
     },
     "execution_count": 14,
     "metadata": {},
     "output_type": "execute_result"
    }
   ],
   "source": [
    "# lets ckeck model's r2 score for test data\n",
    "lr.score(x_test,y_test)"
   ]
  },
  {
   "cell_type": "markdown",
   "id": "242f9df1",
   "metadata": {},
   "source": [
    "### <font color = \"7DCE13\"> Problem: We noticed that both models' train accuracy, as well as test accuracy, is very low. Such a situation is also called High Bias or Underfitting. \n",
    "    \n",
    "### <font color = \"7DCE13\"> Underfitting occurs when the model fails to capture the relationship between input and output features due to a lack of enough features to capture the pattern.\n",
    "    \n",
    "### <font color = \"7DCE13\"> Solution?\n",
    "    - Increase Number of Features\n",
    "    \n",
    "    - Increase Model's Complexity(Apply polynomial Features)\n"
   ]
  },
  {
   "cell_type": "markdown",
   "id": "f4cb0d51",
   "metadata": {},
   "source": [
    "## <font color=blue> 4. Train Non-Linear Model (Polynomial regression)   "
   ]
  },
  {
   "cell_type": "markdown",
   "id": "d8f736a9",
   "metadata": {},
   "source": [
    "### <font color=\"green\"> 4.1. Create Polynomial Features \n"
   ]
  },
  {
   "cell_type": "code",
   "execution_count": 15,
   "id": "9ce29ba1",
   "metadata": {},
   "outputs": [
    {
     "data": {
      "text/plain": [
       "array([[  1.    ,  18.35  , 336.7225],\n",
       "       [  1.    ,   3.16  ,   9.9856],\n",
       "       [  1.    ,  20.62  , 425.1844],\n",
       "       ...,\n",
       "       [  1.    ,  17.6   , 309.76  ],\n",
       "       [  1.    ,  10.97  , 120.3409],\n",
       "       [  1.    ,   5.57  ,  31.0249]])"
      ]
     },
     "execution_count": 15,
     "metadata": {},
     "output_type": "execute_result"
    }
   ],
   "source": [
    "from sklearn.preprocessing import PolynomialFeatures\n",
    "#create PolynomialFeatures Features\n",
    "poly = PolynomialFeatures(degree=2)\n",
    "x_train_poly = poly.fit_transform(x_train)\n",
    "x_test_poly = poly.fit_transform(x_test)\n",
    "x_train_poly"
   ]
  },
  {
   "cell_type": "code",
   "execution_count": null,
   "id": "a9a5416c",
   "metadata": {},
   "outputs": [],
   "source": []
  },
  {
   "cell_type": "markdown",
   "id": "e0da8eab",
   "metadata": {},
   "source": [
    "### <font color=\"green\"> 4.2. Train Non-linear Model (Polynomial Regression)\n"
   ]
  },
  {
   "cell_type": "code",
   "execution_count": 16,
   "id": "433dde84",
   "metadata": {},
   "outputs": [
    {
     "data": {
      "text/plain": [
       "LinearRegression()"
      ]
     },
     "execution_count": 16,
     "metadata": {},
     "output_type": "execute_result"
    }
   ],
   "source": [
    "#lets create model first\n",
    "polylr = LinearRegression()\n",
    "\n",
    "\n",
    "#train the model\n",
    "polylr.fit(x_train_poly,y_train)\n",
    "\n",
    "\n"
   ]
  },
  {
   "cell_type": "markdown",
   "id": "c1393b66",
   "metadata": {},
   "source": [
    "### <font color=\"green\"> 4.3. Test Non-Linear Model \n"
   ]
  },
  {
   "cell_type": "code",
   "execution_count": 17,
   "id": "6b4ca596",
   "metadata": {},
   "outputs": [],
   "source": [
    "#find Predicted value for non-linear Model\n",
    "y_hat_poly = polylr.predict(x_train_poly)"
   ]
  },
  {
   "cell_type": "code",
   "execution_count": 24,
   "id": "b9bbe50a",
   "metadata": {},
   "outputs": [
    {
     "data": {
      "image/png": "[encoded data removed]",
      "text/plain": [
       "<Figure size 432x288 with 1 Axes>"
      ]
     },
     "metadata": {
      "needs_background": "light"
     },
     "output_type": "display_data"
    }
   ],
   "source": [
    "plt.scatter(x_train,y_train)\n",
    "plt.plot(x_train,y_hat_poly,color='green')\n",
    "plt.show()"
   ]
  },
  {
   "cell_type": "code",
   "execution_count": 19,
   "id": "6077e9a9",
   "metadata": {},
   "outputs": [
    {
     "data": {
      "text/html": [
       "<div>\n",
       "<style scoped>\n",
       "    .dataframe tbody tr th:only-of-type {\n",
       "        vertical-align: middle;\n",
       "    }\n",
       "\n",
       "    .dataframe tbody tr th {\n",
       "        vertical-align: top;\n",
       "    }\n",
       "\n",
       "    .dataframe thead th {\n",
       "        text-align: right;\n",
       "    }\n",
       "</style>\n",
       "<table border=\"1\" class=\"dataframe\">\n",
       "  <thead>\n",
       "    <tr style=\"text-align: right;\">\n",
       "      <th></th>\n",
       "      <th>x0</th>\n",
       "      <th>x1</th>\n",
       "      <th>x2</th>\n",
       "    </tr>\n",
       "  </thead>\n",
       "  <tbody>\n",
       "    <tr>\n",
       "      <th>0</th>\n",
       "      <td>1.0</td>\n",
       "      <td>18.35</td>\n",
       "      <td>336.7225</td>\n",
       "    </tr>\n",
       "    <tr>\n",
       "      <th>1</th>\n",
       "      <td>1.0</td>\n",
       "      <td>3.16</td>\n",
       "      <td>9.9856</td>\n",
       "    </tr>\n",
       "    <tr>\n",
       "      <th>2</th>\n",
       "      <td>1.0</td>\n",
       "      <td>20.62</td>\n",
       "      <td>425.1844</td>\n",
       "    </tr>\n",
       "    <tr>\n",
       "      <th>3</th>\n",
       "      <td>1.0</td>\n",
       "      <td>9.08</td>\n",
       "      <td>82.4464</td>\n",
       "    </tr>\n",
       "    <tr>\n",
       "      <th>4</th>\n",
       "      <td>1.0</td>\n",
       "      <td>20.31</td>\n",
       "      <td>412.4961</td>\n",
       "    </tr>\n",
       "  </tbody>\n",
       "</table>\n",
       "</div>"
      ],
      "text/plain": [
       "    x0     x1        x2\n",
       "0  1.0  18.35  336.7225\n",
       "1  1.0   3.16    9.9856\n",
       "2  1.0  20.62  425.1844\n",
       "3  1.0   9.08   82.4464\n",
       "4  1.0  20.31  412.4961"
      ]
     },
     "execution_count": 19,
     "metadata": {},
     "output_type": "execute_result"
    }
   ],
   "source": [
    "#I want to plot prediction line for non-linear model. Lets create dataframe out of POlynomial Features\n",
    "#Lets add dummy features names\n",
    "poly_df = pd.DataFrame(x_train_poly,columns=[\"x0\",\"x1\",\"x2\"])\n",
    "poly_df.head()\n",
    "\n"
   ]
  },
  {
   "cell_type": "code",
   "execution_count": 20,
   "id": "c0da9c53",
   "metadata": {},
   "outputs": [
    {
     "data": {
      "text/html": [
       "<div>\n",
       "<style scoped>\n",
       "    .dataframe tbody tr th:only-of-type {\n",
       "        vertical-align: middle;\n",
       "    }\n",
       "\n",
       "    .dataframe tbody tr th {\n",
       "        vertical-align: top;\n",
       "    }\n",
       "\n",
       "    .dataframe thead th {\n",
       "        text-align: right;\n",
       "    }\n",
       "</style>\n",
       "<table border=\"1\" class=\"dataframe\">\n",
       "  <thead>\n",
       "    <tr style=\"text-align: right;\">\n",
       "      <th></th>\n",
       "      <th>x0</th>\n",
       "      <th>x1</th>\n",
       "      <th>x2</th>\n",
       "      <th>y_hat_poly</th>\n",
       "    </tr>\n",
       "  </thead>\n",
       "  <tbody>\n",
       "    <tr>\n",
       "      <th>0</th>\n",
       "      <td>1.0</td>\n",
       "      <td>18.35</td>\n",
       "      <td>336.7225</td>\n",
       "      <td>14.634625</td>\n",
       "    </tr>\n",
       "    <tr>\n",
       "      <th>1</th>\n",
       "      <td>1.0</td>\n",
       "      <td>3.16</td>\n",
       "      <td>9.9856</td>\n",
       "      <td>35.977733</td>\n",
       "    </tr>\n",
       "    <tr>\n",
       "      <th>2</th>\n",
       "      <td>1.0</td>\n",
       "      <td>20.62</td>\n",
       "      <td>425.1844</td>\n",
       "      <td>13.229071</td>\n",
       "    </tr>\n",
       "    <tr>\n",
       "      <th>3</th>\n",
       "      <td>1.0</td>\n",
       "      <td>9.08</td>\n",
       "      <td>82.4464</td>\n",
       "      <td>25.189558</td>\n",
       "    </tr>\n",
       "    <tr>\n",
       "      <th>4</th>\n",
       "      <td>1.0</td>\n",
       "      <td>20.31</td>\n",
       "      <td>412.4961</td>\n",
       "      <td>13.393670</td>\n",
       "    </tr>\n",
       "  </tbody>\n",
       "</table>\n",
       "</div>"
      ],
      "text/plain": [
       "    x0     x1        x2  y_hat_poly\n",
       "0  1.0  18.35  336.7225   14.634625\n",
       "1  1.0   3.16    9.9856   35.977733\n",
       "2  1.0  20.62  425.1844   13.229071\n",
       "3  1.0   9.08   82.4464   25.189558\n",
       "4  1.0  20.31  412.4961   13.393670"
      ]
     },
     "execution_count": 20,
     "metadata": {},
     "output_type": "execute_result"
    }
   ],
   "source": [
    "#Lets add predicted output as new col in the dataframe\n",
    "poly_df[\"y_hat_poly\"] = y_hat_poly\n",
    "poly_df.head()\n",
    "\n"
   ]
  },
  {
   "cell_type": "code",
   "execution_count": 21,
   "id": "5254e288",
   "metadata": {},
   "outputs": [
    {
     "data": {
      "text/html": [
       "<div>\n",
       "<style scoped>\n",
       "    .dataframe tbody tr th:only-of-type {\n",
       "        vertical-align: middle;\n",
       "    }\n",
       "\n",
       "    .dataframe tbody tr th {\n",
       "        vertical-align: top;\n",
       "    }\n",
       "\n",
       "    .dataframe thead th {\n",
       "        text-align: right;\n",
       "    }\n",
       "</style>\n",
       "<table border=\"1\" class=\"dataframe\">\n",
       "  <thead>\n",
       "    <tr style=\"text-align: right;\">\n",
       "      <th></th>\n",
       "      <th>x0</th>\n",
       "      <th>x1</th>\n",
       "      <th>x2</th>\n",
       "      <th>y_hat_poly</th>\n",
       "    </tr>\n",
       "  </thead>\n",
       "  <tbody>\n",
       "    <tr>\n",
       "      <th>84</th>\n",
       "      <td>1.0</td>\n",
       "      <td>1.73</td>\n",
       "      <td>2.9929</td>\n",
       "      <td>39.056747</td>\n",
       "    </tr>\n",
       "    <tr>\n",
       "      <th>28</th>\n",
       "      <td>1.0</td>\n",
       "      <td>1.92</td>\n",
       "      <td>3.6864</td>\n",
       "      <td>38.637043</td>\n",
       "    </tr>\n",
       "    <tr>\n",
       "      <th>307</th>\n",
       "      <td>1.0</td>\n",
       "      <td>2.47</td>\n",
       "      <td>6.1009</td>\n",
       "      <td>37.440429</td>\n",
       "    </tr>\n",
       "    <tr>\n",
       "      <th>213</th>\n",
       "      <td>1.0</td>\n",
       "      <td>2.87</td>\n",
       "      <td>8.2369</td>\n",
       "      <td>36.587268</td>\n",
       "    </tr>\n",
       "    <tr>\n",
       "      <th>386</th>\n",
       "      <td>1.0</td>\n",
       "      <td>2.88</td>\n",
       "      <td>8.2944</td>\n",
       "      <td>36.566124</td>\n",
       "    </tr>\n",
       "  </tbody>\n",
       "</table>\n",
       "</div>"
      ],
      "text/plain": [
       "      x0    x1      x2  y_hat_poly\n",
       "84   1.0  1.73  2.9929   39.056747\n",
       "28   1.0  1.92  3.6864   38.637043\n",
       "307  1.0  2.47  6.1009   37.440429\n",
       "213  1.0  2.87  8.2369   36.587268\n",
       "386  1.0  2.88  8.2944   36.566124"
      ]
     },
     "execution_count": 21,
     "metadata": {},
     "output_type": "execute_result"
    }
   ],
   "source": [
    "#LEts sort the dataframe to get continuous prediction line\n",
    "poly_df.sort_values(by=[\"x1\"],inplace=True)\n",
    "poly_df.head()\n"
   ]
  },
  {
   "cell_type": "code",
   "execution_count": 25,
   "id": "c21775ec",
   "metadata": {},
   "outputs": [
    {
     "data": {
      "image/png": "[encoded data removed]",
      "text/plain": [
       "<Figure size 432x288 with 1 Axes>"
      ]
     },
     "metadata": {
      "needs_background": "light"
     },
     "output_type": "display_data"
    }
   ],
   "source": [
    "#lets plot the prediction line\n",
    "plt.scatter(x_train,y_train)\n",
    "plt.plot(poly_df.x1,poly_df['y_hat_poly'],color='green')\n",
    "plt.show()\n"
   ]
  },
  {
   "cell_type": "code",
   "execution_count": 23,
   "id": "7006c46d",
   "metadata": {},
   "outputs": [
    {
     "data": {
      "text/plain": [
       "0.552301990803739"
      ]
     },
     "execution_count": 23,
     "metadata": {},
     "output_type": "execute_result"
    }
   ],
   "source": [
    "#Lets check train score\n",
    "lr.score(x_train,y_train)\n"
   ]
  },
  {
   "cell_type": "code",
   "execution_count": 19,
   "id": "f127b10e",
   "metadata": {},
   "outputs": [],
   "source": [
    "#Lets Check Test Score\n",
    "\n"
   ]
  },
  {
   "cell_type": "markdown",
   "id": "106ede57",
   "metadata": {},
   "source": [
    "### <font color = \"7DCE13\"> Takeaway: We noticed that model performance is better than Simple Linear Model. In other word, model performance is improving as we increase model's complexity. Lets try adding more features.\n",
    "    \n"
   ]
  },
  {
   "cell_type": "markdown",
   "id": "07b13322",
   "metadata": {},
   "source": [
    "## <font color = blue>5. Increasing Features\n",
    "    \n",
    "   - Lets choose all the Features availabe in boston housing dataset and add non-linear model with 2 degree polynomial features.\n"
   ]
  },
  {
   "cell_type": "markdown",
   "id": "04100e08",
   "metadata": {},
   "source": [
    "### <font color=\"green\"> 5.1. Add more features\n"
   ]
  },
  {
   "cell_type": "code",
   "execution_count": 29,
   "id": "870e0d62",
   "metadata": {},
   "outputs": [],
   "source": [
    "#Lets create new X, y remains same\n",
    "xm = df\n",
    "y = boston.target\n",
    "\n"
   ]
  },
  {
   "cell_type": "markdown",
   "id": "cfe89a5d",
   "metadata": {},
   "source": [
    "### <font color=\"green\"> 5.2. Split new data for train and test\n"
   ]
  },
  {
   "cell_type": "code",
   "execution_count": 30,
   "id": "8e88f918",
   "metadata": {},
   "outputs": [],
   "source": [
    "xm_train,xm_test,ym_train,ym_test = train_test_split(xm,y,test_size=0.2,random_state = 5)\n"
   ]
  },
  {
   "cell_type": "markdown",
   "id": "dd3f80db",
   "metadata": {},
   "source": [
    "### <font color=\"green\"> 5.3. Apply Polynomial Features to new features\n"
   ]
  },
  {
   "cell_type": "code",
   "execution_count": 32,
   "id": "46be93e1",
   "metadata": {},
   "outputs": [
    {
     "data": {
      "text/plain": [
       "(404, 105)"
      ]
     },
     "execution_count": 32,
     "metadata": {},
     "output_type": "execute_result"
    }
   ],
   "source": [
    "#create PolynomialFeatures Features\n",
    "polym = PolynomialFeatures(degree=2)\n",
    "xm_train_poly= polym.fit_transform(xm_train)\n",
    "xm_test_poly= polym.fit_transform(xm_test)\n",
    "xm_train_poly.shape\n"
   ]
  },
  {
   "cell_type": "markdown",
   "id": "523d3196",
   "metadata": {},
   "source": [
    "### <font color=\"green\"> 5.4. Train model\n"
   ]
  },
  {
   "cell_type": "code",
   "execution_count": 36,
   "id": "15811a4a",
   "metadata": {},
   "outputs": [
    {
     "data": {
      "text/plain": [
       "LinearRegression()"
      ]
     },
     "execution_count": 36,
     "metadata": {},
     "output_type": "execute_result"
    }
   ],
   "source": [
    "#create model \n",
    "polymlr = LinearRegression()\n",
    "polymlr.fit(xm_train,ym_train)\n",
    "\n"
   ]
  },
  {
   "cell_type": "markdown",
   "id": "96027224",
   "metadata": {},
   "source": [
    "### <font color=\"green\"> 5.4. Test model\n"
   ]
  },
  {
   "cell_type": "code",
   "execution_count": 39,
   "id": "d63738cd",
   "metadata": {},
   "outputs": [
    {
     "data": {
      "text/plain": [
       "0.9315569004651905"
      ]
     },
     "execution_count": 39,
     "metadata": {},
     "output_type": "execute_result"
    }
   ],
   "source": [
    "#Check train score\n",
    "polymlr.score(xm_train_poly,ym_train)"
   ]
  },
  {
   "cell_type": "code",
   "execution_count": 40,
   "id": "b16abc18",
   "metadata": {},
   "outputs": [
    {
     "data": {
      "text/plain": [
       "0.8694943908469506"
      ]
     },
     "execution_count": 40,
     "metadata": {},
     "output_type": "execute_result"
    }
   ],
   "source": [
    "#check test score\n",
    "polymlr.score(xm_test_poly,ym_test)\n"
   ]
  },
  {
   "cell_type": "markdown",
   "id": "b7396ec3",
   "metadata": {},
   "source": [
    "### <font color = \"7DCE13\"> Takeaway: We noticed that training accuracy has improved from 60% to 93 percent. However, we see test accuracy is very low compared to train accuracy. Such situation is called as overfitting or High Variance.\n",
    "    \n",
    "    \n",
    "Solution?\n",
    "    \n",
    "    - Feature Selection\n",
    "    \n",
    "    - Increasing Training samples\n",
    "    \n",
    "    - Regularization\n"
   ]
  },
  {
   "cell_type": "markdown",
   "id": "831772d4",
   "metadata": {},
   "source": [
    "## <font color=blue> 6. Regularization\n",
    "    "
   ]
  },
  {
   "cell_type": "markdown",
   "id": "04bcf39b",
   "metadata": {},
   "source": [
    "### <font color=\"green\"> 6.1. Ridge (L2 Regularization)\n",
    "\n",
    "`class sklearn.linear_model.Ridge(alpha=1.0, *, fit_intercept=True, normalize='deprecated', copy_X=True, max_iter=None, tol=0.001, solver='auto', positive=False, random_state=None)`"
   ]
  },
  {
   "cell_type": "code",
   "execution_count": 26,
   "id": "ea50d18d",
   "metadata": {},
   "outputs": [],
   "source": [
    "\n",
    "#create model\n",
    "\n",
    "\n",
    "\n",
    "#train the model\n",
    "\n",
    "\n",
    "\n",
    "#Find the train score\n",
    "\n"
   ]
  },
  {
   "cell_type": "code",
   "execution_count": 27,
   "id": "25560b62",
   "metadata": {},
   "outputs": [],
   "source": [
    "#Find test Score\n",
    "\n",
    "\n"
   ]
  },
  {
   "cell_type": "markdown",
   "id": "af3ea7a7",
   "metadata": {},
   "source": [
    "### <font color=\"green\"> 6.1. Lasso (L1 Regularization)\n",
    "\n",
    "    \n",
    "`class sklearn.linear_model.Lasso(alpha=1.0, *, fit_intercept=True, normalize='deprecated', precompute=False, copy_X=True, max_iter=1000, tol=0.0001, warm_start=False, positive=False, random_state=None, selection='cyclic')`"
   ]
  },
  {
   "cell_type": "code",
   "execution_count": 28,
   "id": "6b6d912e",
   "metadata": {},
   "outputs": [],
   "source": [
    "\n",
    "#create model\n",
    "\n",
    "\n",
    "#Train model\n",
    "\n",
    "\n",
    "#find train score\n",
    "\n"
   ]
  },
  {
   "cell_type": "code",
   "execution_count": 29,
   "id": "6119995e",
   "metadata": {},
   "outputs": [],
   "source": [
    "#Find test score for Lasso Model\n",
    "\n",
    "\n"
   ]
  },
  {
   "cell_type": "markdown",
   "id": "bcd33f6f",
   "metadata": {},
   "source": [
    "### <font color = \"7DCE13\"> Takeaway: After applying Regularization to our model, we can bring our train score and test score almost equal to each other. With this technique we are able to overcome the overfitted model. However, the choice of lamda value is very important.\n"
   ]
  }
 ],
 "metadata": {
  "kernelspec": {
   "display_name": "Python 3 (ipykernel)",
   "language": "python",
   "name": "python3"
  },
  "language_info": {
   "codemirror_mode": {
    "name": "ipython",
    "version": 3
   },
   "file_extension": ".py",
   "mimetype": "text/x-python",
   "name": "python",
   "nbconvert_exporter": "python",
   "pygments_lexer": "ipython3",
   "version": "3.9.7"
  }
 },
 "nbformat": 4,
 "nbformat_minor": 5
}
