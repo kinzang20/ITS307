{
 "cells": [
  {
   "attachments": {},
   "cell_type": "markdown",
   "id": "9289be4b",
   "metadata": {},
   "source": [
    "# <center>ITS307 Data Analytics : Autumn Semester 2022</center>\n",
    "\n",
    "# <center>Practical 9</center>\n",
    "\n",
    "# <center>Decision Tree for Classification and Regression</center>\n",
    "\n"
   ]
  },
  {
   "cell_type": "markdown",
   "id": "ab774d48",
   "metadata": {},
   "source": [
    "# <font color = blue>Part A - Classification"
   ]
  },
  {
   "cell_type": "markdown",
   "id": "c59331b7",
   "metadata": {},
   "source": [
    "## 1. Loading Data and Manipulating with Pandas\n",
    "\n",
    "Instructions:\n",
    "\n",
    "- Load iris dataset from sklearn.datasets module \n",
    "\n",
    "\n"
   ]
  },
  {
   "cell_type": "code",
   "execution_count": 1,
   "id": "37886930",
   "metadata": {},
   "outputs": [],
   "source": [
    "#Your solution here\n",
    "\n",
    "\n"
   ]
  },
  {
   "cell_type": "markdown",
   "id": "94b1021a",
   "metadata": {},
   "source": [
    "## 2. Train test split\n",
    "\n",
    "Instructions:\n",
    "\n",
    "- Split your datasets into train and test set\n",
    "\n",
    "\n"
   ]
  },
  {
   "cell_type": "code",
   "execution_count": 2,
   "id": "fbda5ad0",
   "metadata": {},
   "outputs": [],
   "source": [
    "#Your solution here\n",
    "\n",
    "\n",
    "\n"
   ]
  },
  {
   "cell_type": "markdown",
   "id": "491b41cf",
   "metadata": {},
   "source": [
    "## 3. Model Training\n",
    "\n",
    "Instructions:\n",
    "\n",
    "- Import DecisionTreeClassifier Algorithm from sklearn.\n",
    "\n",
    "\n",
    "\n"
   ]
  },
  {
   "cell_type": "code",
   "execution_count": 3,
   "id": "d64dba61",
   "metadata": {},
   "outputs": [],
   "source": [
    "#Your solution here\n",
    "\n",
    "\n",
    "\n",
    "#train the model\n",
    "\n"
   ]
  },
  {
   "cell_type": "markdown",
   "id": "b844142e",
   "metadata": {},
   "source": [
    "## 3. Model Evaluation\n",
    "\n",
    "Instructions:\n",
    "\n",
    "- Use test set to evaluate your model's performance.\n",
    "\n",
    "\n",
    "\n"
   ]
  },
  {
   "cell_type": "code",
   "execution_count": 4,
   "id": "f5db4138",
   "metadata": {},
   "outputs": [],
   "source": [
    "#Your   here\n"
   ]
  },
  {
   "cell_type": "markdown",
   "id": "f78255fe",
   "metadata": {},
   "source": [
    "## 4. Plot Tree\n",
    "\n",
    "Instructions:\n",
    "\n",
    "- Use sklearn tree module to plot the tree.\n",
    "\n",
    "\n",
    "\n"
   ]
  },
  {
   "cell_type": "code",
   "execution_count": 5,
   "id": "b6fb27b7",
   "metadata": {},
   "outputs": [],
   "source": [
    "# write your solution here\n",
    "\n",
    "\n"
   ]
  },
  {
   "cell_type": "markdown",
   "id": "6839436b",
   "metadata": {},
   "source": [
    "## 5. Make Prediction\n",
    "\n",
    "Instructions:\n",
    "\n",
    "- Use sample data to make prediction\n",
    "\n",
    "\n",
    "\n"
   ]
  },
  {
   "cell_type": "code",
   "execution_count": 6,
   "id": "232d979e",
   "metadata": {},
   "outputs": [],
   "source": [
    "#write your solution here\n",
    "\n"
   ]
  },
  {
   "cell_type": "markdown",
   "id": "a650b144",
   "metadata": {},
   "source": [
    "# <font color = blue>Part B - Regression"
   ]
  },
  {
   "cell_type": "markdown",
   "id": "835225ec",
   "metadata": {},
   "source": [
    "## 1. Loading Data and Manipulating with Pandas\n",
    "\n",
    "Instructions:\n",
    "\n",
    "- Load boston dataset from sklearn.datasets module \n",
    "\n",
    "\n"
   ]
  },
  {
   "cell_type": "code",
   "execution_count": 3,
   "id": "4a9775d0",
   "metadata": {},
   "outputs": [],
   "source": [
    "#Your solution here\n",
    "\n",
    "\n",
    "\n"
   ]
  },
  {
   "cell_type": "markdown",
   "id": "1380cc12",
   "metadata": {},
   "source": [
    "## 2. Train test split\n",
    "\n",
    "Instructions:\n",
    "\n",
    "- Split your datasets into train and test set\n",
    "\n",
    "\n"
   ]
  },
  {
   "cell_type": "code",
   "execution_count": 3,
   "id": "8f02047e",
   "metadata": {},
   "outputs": [],
   "source": [
    "#Your solution here\n",
    "\n",
    "\n",
    "\n"
   ]
  },
  {
   "cell_type": "markdown",
   "id": "79646e75",
   "metadata": {},
   "source": [
    "## 3. Model Training\n",
    "\n",
    "Instructions:\n",
    "\n",
    "- Import DecisionTreeRegressor Algorithm from sklearn.\n",
    "\n",
    "\n"
   ]
  },
  {
   "cell_type": "code",
   "execution_count": 3,
   "id": "83a34691",
   "metadata": {},
   "outputs": [],
   "source": [
    "#Your solution here\n",
    "\n",
    "\n",
    "\n"
   ]
  },
  {
   "cell_type": "markdown",
   "id": "0e216724",
   "metadata": {},
   "source": [
    "## 3. Model Evaluation\n",
    "\n",
    "Instructions:\n",
    "\n",
    "- Use test set to evaluate your model's performance.\n",
    "\n",
    "\n",
    "\n"
   ]
  },
  {
   "cell_type": "code",
   "execution_count": 3,
   "id": "8035d658",
   "metadata": {},
   "outputs": [],
   "source": [
    "#Your solution here\n",
    "\n",
    "\n",
    "\n"
   ]
  },
  {
   "cell_type": "markdown",
   "id": "c8d95168",
   "metadata": {},
   "source": [
    "## 4. Plot Tree\n",
    "\n",
    "Instructions:\n",
    "\n",
    "- Use sklearn tree module to plot the tree.\n",
    "\n",
    "\n",
    "\n"
   ]
  },
  {
   "cell_type": "code",
   "execution_count": 7,
   "id": "7d93a4a3",
   "metadata": {},
   "outputs": [],
   "source": [
    "#write your solution here\n",
    "\n"
   ]
  },
  {
   "cell_type": "markdown",
   "id": "304b268f",
   "metadata": {},
   "source": [
    "## 5. Make Prediction\n",
    "\n",
    "Instructions:\n",
    "\n",
    "- Use sample data to make prediction\n",
    "\n",
    "\n",
    "\n"
   ]
  },
  {
   "cell_type": "code",
   "execution_count": 8,
   "id": "11ef21dd",
   "metadata": {},
   "outputs": [],
   "source": [
    "#write your solution here\n",
    "\n",
    "\n"
   ]
  },
  {
   "cell_type": "code",
   "execution_count": null,
   "id": "18da468c",
   "metadata": {},
   "outputs": [],
   "source": []
  }
 ],
 "metadata": {
  "kernelspec": {
   "display_name": "Python 3 (ipykernel)",
   "language": "python",
   "name": "python3"
  },
  "language_info": {
   "codemirror_mode": {
    "name": "ipython",
    "version": 3
   },
   "file_extension": ".py",
   "mimetype": "text/x-python",
   "name": "python",
   "nbconvert_exporter": "python",
   "pygments_lexer": "ipython3",
   "version": "3.9.7"
  }
 },
 "nbformat": 4,
 "nbformat_minor": 5
}
